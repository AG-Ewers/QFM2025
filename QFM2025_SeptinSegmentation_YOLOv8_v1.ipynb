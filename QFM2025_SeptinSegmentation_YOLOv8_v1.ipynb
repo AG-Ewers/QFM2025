{
  "cells": [
    {
      "cell_type": "markdown",
      "source": [
        "# **Septin Segmentation** Notebook for QFM2025 Course\n",
        "\n",
        "This notebook provides a workflow for **segmenting septin rings in microscopy images**. It includes steps for dataset preparation, model training, and prediction using YOLOv8, with customizable options to fine-tune the detection process. Designed specifically for the **QFM2025 course**, it aims to make object detection in pSTORM data.\n",
        "\n",
        "contact: amin.zehtabian@fu-berlin.de\n",
        "Last Update: Jan 2025"
      ],
      "metadata": {
        "id": "40lW-QeFVod1"
      }
    },
    {
      "cell_type": "markdown",
      "source": [
        "###GPU Check + Installing necessary libraries\n"
      ],
      "metadata": {
        "id": "Mj8M4Wo7baCw"
      }
    },
    {
      "cell_type": "markdown",
      "metadata": {
        "id": "HDDloFOgqIZ2"
      },
      "source": [
        "Execute this cell to verify **GPU** access and install some necessary **libraries**.\n",
        "\n",
        "Note: To use a better GPU, go to the toolbar, select **Runtime**, and switch the Runtime Type to one of the available GPU options"
      ]
    },
    {
      "cell_type": "code",
      "execution_count": null,
      "metadata": {
        "colab": {
          "base_uri": "https://localhost:8080/"
        },
        "id": "aQBVw_cxqRTT",
        "outputId": "ca66118a-8328-4560-cbe7-e0ec6caa6daa",
        "collapsed": true
      },
      "outputs": [
        {
          "output_type": "stream",
          "name": "stdout",
          "text": [
            "Wed Jan 29 22:43:37 2025       \n",
            "+-----------------------------------------------------------------------------------------+\n",
            "| NVIDIA-SMI 550.54.15              Driver Version: 550.54.15      CUDA Version: 12.4     |\n",
            "|-----------------------------------------+------------------------+----------------------+\n",
            "| GPU  Name                 Persistence-M | Bus-Id          Disp.A | Volatile Uncorr. ECC |\n",
            "| Fan  Temp   Perf          Pwr:Usage/Cap |           Memory-Usage | GPU-Util  Compute M. |\n",
            "|                                         |                        |               MIG M. |\n",
            "|=========================================+========================+======================|\n",
            "|   0  NVIDIA L4                      Off |   00000000:00:03.0 Off |                    0 |\n",
            "| N/A   44C    P8             12W /   72W |       0MiB /  23034MiB |      0%      Default |\n",
            "|                                         |                        |                  N/A |\n",
            "+-----------------------------------------+------------------------+----------------------+\n",
            "                                                                                         \n",
            "+-----------------------------------------------------------------------------------------+\n",
            "| Processes:                                                                              |\n",
            "|  GPU   GI   CI        PID   Type   Process name                              GPU Memory |\n",
            "|        ID   ID                                                               Usage      |\n",
            "|=========================================================================================|\n",
            "|  No running processes found                                                             |\n",
            "+-----------------------------------------------------------------------------------------+\n",
            "Requirement already satisfied: tqdm in /usr/local/lib/python3.11/dist-packages (4.67.1)\n"
          ]
        }
      ],
      "source": [
        "!nvidia-smi\n",
        "from matplotlib import image\n",
        "from matplotlib import pyplot as plt\n",
        "from PIL import Image\n",
        "import numpy as np\n",
        "#from IPython import display\n",
        "#display.clear_output()\n",
        "#from IPython.display import display, Image\n",
        "import glob\n",
        "import random\n",
        "import os\n",
        "!pip install tqdm   # for progress bar\n",
        "from tqdm.notebook import tqdm\n",
        "HOME = os.getcwd();\n",
        "import torch\n",
        "#display(HOME)\n"
      ]
    },
    {
      "cell_type": "markdown",
      "metadata": {
        "id": "J2dgjnn7tX6c"
      },
      "source": [
        "Optional: Mount **Google Drive** and get the current working directory."
      ]
    },
    {
      "cell_type": "code",
      "execution_count": null,
      "metadata": {
        "id": "emcdWEi9pTcz"
      },
      "outputs": [],
      "source": [
        "from google.colab import drive\n",
        "drive.mount('/content/drive')"
      ]
    },
    {
      "cell_type": "code",
      "source": [
        "#@markdown ###Path to the project (where the data and final models should be stored):\n",
        "project_path = '/content/Project_Septin'#@param {type:\"string\"}\n",
        "\n",
        "import os\n",
        "#%cd project_path\n",
        "!mkdir {project_path}\n",
        "os.chdir(project_path)\n",
        "HOME = os.getcwd()"
      ],
      "metadata": {
        "id": "3aQ2knqI-fkr",
        "cellView": "form"
      },
      "execution_count": null,
      "outputs": []
    },
    {
      "cell_type": "markdown",
      "source": [
        "# Installing YOLOv8\n",
        "\n",
        "We are now ready to use the YOLOv8 model for training on our annotated images. **YOLOv8** supports a variety of prediction tasks, including:\n",
        "\n",
        "- **Detection**: Drawing bounding boxes around objects.\n",
        "- **Segmentation**: Outlining objects in an image.\n",
        "- **Tracking**: Following objects across frames in a video.\n",
        "- **Image Classification**: Categorizing images into predefined classes.\n",
        "- **Pose Detection**: Estimating keypoints for human or object poses.\n",
        "\n",
        "For our project, the focus will be on the **Segmentation of Septin Rings** (previously, we addressed detection of rings). You can find examples and additional resources on the Ultralytics GitHub page ((https://github.com/ultralytics/ultralytics))"
      ],
      "metadata": {
        "id": "rpod-fWjbxw0"
      }
    },
    {
      "cell_type": "code",
      "source": [
        "%pip install ultralytics --quiet\n",
        "import ultralytics\n",
        "ultralytics.checks()"
      ],
      "metadata": {
        "colab": {
          "base_uri": "https://localhost:8080/"
        },
        "id": "CWVtzeRY_jsW",
        "outputId": "9868f7aa-8f25-4d3e-defd-09868e7da937"
      },
      "execution_count": null,
      "outputs": [
        {
          "output_type": "stream",
          "name": "stdout",
          "text": [
            "Ultralytics 8.3.69 🚀 Python-3.11.11 torch-2.5.1+cu124 CUDA:0 (NVIDIA L4, 22693MiB)\n",
            "Setup complete ✅ (12 CPUs, 53.0 GB RAM, 32.9/235.7 GB disk)\n"
          ]
        }
      ]
    },
    {
      "cell_type": "markdown",
      "source": [
        "# Run Standard Pre-Trained YOLO Models on the Test Image\n",
        "\n",
        "- Create a sub-folder named 'test' within your project folder (default: 'Project_Septin/test/').\n",
        "- Place example test images into this folder.\n",
        "- This cell runs a standard pre-trained YOLOv8 model on the test images. However, since the model has not been trained on data similar to your septin images, you will observe that no detection or segmentation is performed on these images."
      ],
      "metadata": {
        "id": "wU5afPRUzGIT"
      }
    },
    {
      "cell_type": "code",
      "execution_count": null,
      "metadata": {
        "colab": {
          "base_uri": "https://localhost:8080/",
          "height": 583
        },
        "id": "1ZQVydUl8Lhh",
        "outputId": "0880390a-e8c6-4962-9b50-c109fdb4be1b"
      },
      "outputs": [
        {
          "output_type": "stream",
          "name": "stdout",
          "text": [
            "/content\n",
            "\n",
            "image 1/1 /content/Project_Septin/test/test.jpg: 640x640 (no detections), 8.1ms\n",
            "Speed: 15.2ms preprocess, 8.1ms inference, 80.3ms postprocess per image at shape (1, 3, 640, 640)\n",
            "\n",
            "image 1/1 /content/Project_Septin/test/test.jpg: 640x640 (no detections), 8.3ms\n",
            "Speed: 3.5ms preprocess, 8.3ms inference, 0.5ms postprocess per image at shape (1, 3, 640, 640)\n"
          ]
        },
        {
          "output_type": "execute_result",
          "data": {
            "text/plain": [
              "<matplotlib.image.AxesImage at 0x7ed72758bf50>"
            ]
          },
          "metadata": {},
          "execution_count": 6
        },
        {
          "output_type": "display_data",
          "data": {
            "text/plain": [
              "<Figure size 1800x900 with 3 Axes>"
            ],
            "image/png": "[encoded data removed]"
          },
          "metadata": {}
        }
      ],
      "source": [
        "from ultralytics import YOLO\n",
        "\n",
        "#%cd {HOME}/test\n",
        "Test_Image1 = '/content/Project_Septin/test/test.jpg'\n",
        "#plt.imshow(image.imread(Test_Image1))\n",
        "\n",
        "%cd {HOME}\n",
        "# Standard pre-trained model for detection\n",
        "model_detection = YOLO('yolov8n.pt')\n",
        "# Standard pre-trained model for segmentation\n",
        "model_segmentation = YOLO('yolov8n-seg.pt')\n",
        "\n",
        "# Run the standard pre-trained models for detection and segmentation\n",
        "prediction_detection = model_detection.predict(Test_Image1)\n",
        "prediction_segmentation = model_segmentation.predict(Test_Image1)\n",
        "# Visualization\n",
        "detection_result_array = prediction_detection[0].plot()\n",
        "instance_result_array = prediction_segmentation[0].plot()\n",
        "\n",
        "\n",
        "fig = plt.figure(figsize=(18, 9))\n",
        "ax1 = fig.add_subplot(1,3,1)\n",
        "ax1.set_title(\"Raw Image\")\n",
        "plt.imshow(image.imread(Test_Image1))\n",
        "ax2 = fig.add_subplot(1,3,2)\n",
        "ax2.set_title(\"Object Detection\")\n",
        "ax2.imshow(detection_result_array)\n",
        "ax3 = fig.add_subplot(1,3,3)\n",
        "ax3.set_title(\"Instance Segmentation\")\n",
        "ax3.imshow(instance_result_array)"
      ]
    },
    {
      "cell_type": "markdown",
      "source": [
        "# Training → Step #1: Importing the Training Dataset from Roboflow\n",
        "\n",
        "To enable the model to recognize microscopy images containing septin rings, we need to train the model further (also known as **fine-tuning**) using a suitable training dataset. If you don’t have a pre-existing dataset, you will need to create one and annotate the training images.\n",
        "\n",
        "There are several tools available for annotating objects in images, and the choice of tool depends on the type of annotation required. For example, annotations for object detection differ from those needed for segmentation. One of the simplest and most effective tools for annotation is **Roboflow** (https://roboflow.com/).\n",
        "\n",
        "To help you get started, I have prepared a PowerPoint file with detailed instructions on creating training samples. Once you have created a custom training dataset using Roboflow, simply copy and paste your **API_KEY** into the code below to integrate it into your project."
      ],
      "metadata": {
        "id": "r_B0OzHUzoHw"
      }
    },
    {
      "cell_type": "code",
      "execution_count": null,
      "metadata": {
        "colab": {
          "base_uri": "https://localhost:8080/"
        },
        "id": "V8XATkv7r2ms",
        "outputId": "c386797e-788f-4605-abeb-66e0e46f6ecc"
      },
      "outputs": [
        {
          "output_type": "stream",
          "name": "stdout",
          "text": [
            "/content/Project_Septin/datasets\n",
            "\u001b[2K   \u001b[90m━━━━━━━━━━━━━━━━━━━━━━━━━━━━━━━━━━━━━━━━\u001b[0m \u001b[32m81.5/81.5 kB\u001b[0m \u001b[31m8.8 MB/s\u001b[0m eta \u001b[36m0:00:00\u001b[0m\n",
            "\u001b[2K   \u001b[90m━━━━━━━━━━━━━━━━━━━━━━━━━━━━━━━━━━━━━━━━\u001b[0m \u001b[32m66.8/66.8 kB\u001b[0m \u001b[31m7.7 MB/s\u001b[0m eta \u001b[36m0:00:00\u001b[0m\n",
            "\u001b[2K   \u001b[90m━━━━━━━━━━━━━━━━━━━━━━━━━━━━━━━━━━━━━━━━\u001b[0m \u001b[32m49.9/49.9 MB\u001b[0m \u001b[31m45.3 MB/s\u001b[0m eta \u001b[36m0:00:00\u001b[0m\n",
            "loading Roboflow workspace...\n",
            "loading Roboflow project...\n"
          ]
        },
        {
          "output_type": "stream",
          "name": "stderr",
          "text": [
            "Downloading Dataset Version Zip in test-1 to yolov8:: 100%|██████████| 1995/1995 [00:01<00:00, 1339.87it/s]"
          ]
        },
        {
          "output_type": "stream",
          "name": "stdout",
          "text": [
            "\n"
          ]
        },
        {
          "output_type": "stream",
          "name": "stderr",
          "text": [
            "\n",
            "Extracting Dataset Version Zip to test-1 in yolov8:: 100%|██████████| 127/127 [00:00<00:00, 7461.29it/s]\n"
          ]
        }
      ],
      "source": [
        "!mkdir {HOME}/datasets\n",
        "%cd {HOME}/datasets\n",
        "!pip install roboflow --quiet\n",
        "\n",
        "from roboflow import Roboflow\n",
        "rf = Roboflow(api_key=\"0o69ClS8r4Cwtju09p6Y\")\n",
        "project = rf.workspace(\"agewers-30oij\").project(\"test-qe4xb\")\n",
        "version = project.version(1)\n",
        "dataset = version.download(\"yolov8\")"
      ]
    },
    {
      "cell_type": "markdown",
      "source": [
        "# Training → Step #2: Modifying the data.yaml file"
      ],
      "metadata": {
        "id": "s9uYKx0C4n9g"
      }
    },
    {
      "cell_type": "markdown",
      "metadata": {
        "id": "XRzyuoabDoKt"
      },
      "source": [
        "The training dataset has been successfully imported from the Roboflow cloud repository.\n",
        "\n",
        "**Note 1:**\n",
        "You can access the training, validation, and test images under the folder '**/datasets/**'. Detailed information about the datasets, such as paths and class labels, can be found in the file **data.yaml**.\n",
        "\n",
        "**Note 2:**\n",
        "In some versions of YOLOv8, you might encounter an error indicating that the model cannot locate the training and validation folders. To resolve this issue, open the **data.yaml** file and make a small modification. Update the paths to the following training and validation datasets to ensure they are correctly referenced:\n",
        "\n",
        "![image.png](data:image/png;base64,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)"
      ]
    },
    {
      "cell_type": "markdown",
      "source": [
        "# Training → Step #3: Parameter Setting for Training"
      ],
      "metadata": {
        "id": "fY6cWmmXesRJ"
      }
    },
    {
      "cell_type": "markdown",
      "source": [
        "Here we need to set some training parameters, including the exact **YOLOv8 pre-trained segmentation model** we are going to fune-tune further.\n",
        "\n",
        "We may begin training with the **YOLOv8s-seg.pt model**, which is the \"small\" version of YOLOv8 designed for object segmentation. This model provides a balance between speed and accuracy, making it suitable for many applications.\n",
        "\n",
        "Note:\n",
        "You are welcome to experiment with other YOLOv8 models based on your requirements:\n",
        "\n",
        "Less complex models:\n",
        "- YOLOv8n-seg.pt (nano): Prioritizes speed and efficiency, suitable for resource-constrained environments.\n",
        "\n",
        "More complex models:\n",
        "- YOLOv8m-seg.pt (medium): Offers improved accuracy at the cost of slightly higher computational requirements.\n",
        "- YOLOv8l-seg.pt (large): Focuses on higher accuracy and is suitable for high-powered setups.\n",
        "- YOLOv8x-seg.pt (extra-large): Provides the best accuracy but requires significant computational resources.\n",
        "\n",
        "I suggest testing different **training parameters & settings** such as the number of epochs, image size, etc.\n"
      ],
      "metadata": {
        "id": "3pFJ604A4w5q"
      }
    },
    {
      "cell_type": "code",
      "source": [
        "\n",
        "\n",
        "#Training_source = base_path + \"/data/Stardist/Training - Images\" #@param {type:\"string\"}\n",
        "#Training_target = base_path + \"/data/Stardist/Training - Masks\" #@param {type:\"string\"}\n",
        "\n",
        "#@markdown ###Name and path to the final trained model:\n",
        "\n",
        "trained_model_name = \"SeptinDetection_Model1_ep50\" #@param {type:\"string\"}\n",
        "\n",
        "trained_model_path = project_path + \"/Models\" #@param {type:\"string\"}\n",
        "#trained_model = model_path\n",
        "\n",
        "#project_folder_name = 'CytoYOLOv8_RectLabel' #@param {type:\"string\"}\n",
        "#result_folder_name = 'SemiSparse_modelS_ep200_ba8_'#@param {type:\"string\"}\n",
        "\n",
        "#@markdown ### Choose between the pretrained YOLO detection models (n-seg, s-seg, m-seg, l-seg, x-seg):\n",
        "YOLO_model_type= 'm-seg'#@param {type:\"string\"}\n",
        "#@markdown ### Other parameters for training:\n",
        "epochs =  100#@param {type:\"number\"}\n",
        "batch_size =  4#@param {type:\"number\"}\n",
        "initial_learning_rate = 0.01#@param {type:\"number\"}\n",
        "patch_width = 200#@param {type:\"number\"}\n",
        "patch_height = 200#@param {type:\"number\"}\n",
        "imgsz = (patch_width,patch_height)"
      ],
      "metadata": {
        "id": "YKdppMxKAo_6",
        "cellView": "form"
      },
      "execution_count": null,
      "outputs": []
    },
    {
      "cell_type": "markdown",
      "source": [
        "# Training → Step #4: Model Training\n",
        "\n",
        "Finally, it's time for training (fine-tuning) the YOLOv8 on our data!"
      ],
      "metadata": {
        "id": "cbx9o0x-elP5"
      }
    },
    {
      "cell_type": "code",
      "source": [
        "from ultralytics import YOLO\n",
        "\n",
        "optimizer = 'auto' # SGD, Adam, AdamW, NAdam, RAdam, RMSProp or auto\n",
        "plots= True  # Generates and saves plots of training and validation metrics, as well as prediction examples\n",
        "#model = YOLO('yolov8n.pt')  # load a pretrained YOLO detection model (n, s, m, l , x)\n",
        "model_pt = 'yolov8'+YOLO_model_type+'.pt'\n",
        "model = YOLO(model_pt)\n",
        "#@markdown ###Path to the YAML file\n",
        "yaml_address = '/content/Project_Septin/datasets/test-1/data.yaml'#@param {type:\"string\"}\n",
        "model.train(data=yaml_address, epochs=epochs, batch=batch_size, lr0= initial_learning_rate, imgsz=imgsz, save=True, pretrained=True,optimizer=optimizer, plots = plots)  # train the model"
      ],
      "metadata": {
        "id": "8Go5qqS9LbC5",
        "colab": {
          "base_uri": "https://localhost:8080/"
        },
        "outputId": "002382f5-7db7-44d0-cd03-5b89fe99d1e1",
        "collapsed": true,
        "cellView": "form"
      },
      "execution_count": null,
      "outputs": [
        {
          "output_type": "stream",
          "name": "stdout",
          "text": [
            "Downloading https://github.com/ultralytics/assets/releases/download/v8.3.0/yolov8m-seg.pt to 'yolov8m-seg.pt'...\n"
          ]
        },
        {
          "output_type": "stream",
          "name": "stderr",
          "text": [
            "100%|██████████| 52.4M/52.4M [00:01<00:00, 44.3MB/s]"
          ]
        },
        {
          "output_type": "stream",
          "name": "stdout",
          "text": [
            "Ultralytics 8.3.69 🚀 Python-3.11.11 torch-2.5.1+cu124 CUDA:0 (NVIDIA L4, 22693MiB)\n",
            "\u001b[34m\u001b[1mengine/trainer: \u001b[0mtask=segment, mode=train, model=yolov8m-seg.pt, data=/content/Project_Septin/datasets/test-1/data.yaml, epochs=100, time=None, patience=100, batch=4, imgsz=(200, 200), save=True, save_period=-1, cache=False, device=None, workers=8, project=None, name=train, exist_ok=False, pretrained=True, optimizer=auto, verbose=True, seed=0, deterministic=True, single_cls=False, rect=False, cos_lr=False, close_mosaic=10, resume=False, amp=True, fraction=1.0, profile=False, freeze=None, multi_scale=False, overlap_mask=True, mask_ratio=4, dropout=0.0, val=True, split=val, save_json=False, save_hybrid=False, conf=None, iou=0.7, max_det=300, half=False, dnn=False, plots=True, source=None, vid_stride=1, stream_buffer=False, visualize=False, augment=False, agnostic_nms=False, classes=None, retina_masks=False, embed=None, show=False, save_frames=False, save_txt=False, save_conf=False, save_crop=False, show_labels=True, show_conf=True, show_boxes=True, line_width=None, format=torchscript, keras=False, optimize=False, int8=False, dynamic=False, simplify=True, opset=None, workspace=None, nms=False, lr0=0.01, lrf=0.01, momentum=0.937, weight_decay=0.0005, warmup_epochs=3.0, warmup_momentum=0.8, warmup_bias_lr=0.1, box=7.5, cls=0.5, dfl=1.5, pose=12.0, kobj=1.0, nbs=64, hsv_h=0.015, hsv_s=0.7, hsv_v=0.4, degrees=0.0, translate=0.1, scale=0.5, shear=0.0, perspective=0.0, flipud=0.0, fliplr=0.5, bgr=0.0, mosaic=1.0, mixup=0.0, copy_paste=0.0, copy_paste_mode=flip, auto_augment=randaugment, erasing=0.4, crop_fraction=1.0, cfg=None, tracker=botsort.yaml, save_dir=runs/segment/train\n"
          ]
        },
        {
          "output_type": "stream",
          "name": "stderr",
          "text": [
            "\n"
          ]
        },
        {
          "output_type": "stream",
          "name": "stdout",
          "text": [
            "Downloading https://ultralytics.com/assets/Arial.ttf to '/root/.config/Ultralytics/Arial.ttf'...\n"
          ]
        },
        {
          "output_type": "stream",
          "name": "stderr",
          "text": [
            "100%|██████████| 755k/755k [00:00<00:00, 101MB/s]\n"
          ]
        },
        {
          "output_type": "stream",
          "name": "stdout",
          "text": [
            "Overriding model.yaml nc=80 with nc=1\n",
            "\n",
            "                   from  n    params  module                                       arguments                     \n",
            "  0                  -1  1      1392  ultralytics.nn.modules.conv.Conv             [3, 48, 3, 2]                 \n",
            "  1                  -1  1     41664  ultralytics.nn.modules.conv.Conv             [48, 96, 3, 2]                \n",
            "  2                  -1  2    111360  ultralytics.nn.modules.block.C2f             [96, 96, 2, True]             \n",
            "  3                  -1  1    166272  ultralytics.nn.modules.conv.Conv             [96, 192, 3, 2]               \n",
            "  4                  -1  4    813312  ultralytics.nn.modules.block.C2f             [192, 192, 4, True]           \n",
            "  5                  -1  1    664320  ultralytics.nn.modules.conv.Conv             [192, 384, 3, 2]              \n",
            "  6                  -1  4   3248640  ultralytics.nn.modules.block.C2f             [384, 384, 4, True]           \n",
            "  7                  -1  1   1991808  ultralytics.nn.modules.conv.Conv             [384, 576, 3, 2]              \n",
            "  8                  -1  2   3985920  ultralytics.nn.modules.block.C2f             [576, 576, 2, True]           \n",
            "  9                  -1  1    831168  ultralytics.nn.modules.block.SPPF            [576, 576, 5]                 \n",
            " 10                  -1  1         0  torch.nn.modules.upsampling.Upsample         [None, 2, 'nearest']          \n",
            " 11             [-1, 6]  1         0  ultralytics.nn.modules.conv.Concat           [1]                           \n",
            " 12                  -1  2   1993728  ultralytics.nn.modules.block.C2f             [960, 384, 2]                 \n",
            " 13                  -1  1         0  torch.nn.modules.upsampling.Upsample         [None, 2, 'nearest']          \n",
            " 14             [-1, 4]  1         0  ultralytics.nn.modules.conv.Concat           [1]                           \n",
            " 15                  -1  2    517632  ultralytics.nn.modules.block.C2f             [576, 192, 2]                 \n",
            " 16                  -1  1    332160  ultralytics.nn.modules.conv.Conv             [192, 192, 3, 2]              \n",
            " 17            [-1, 12]  1         0  ultralytics.nn.modules.conv.Concat           [1]                           \n",
            " 18                  -1  2   1846272  ultralytics.nn.modules.block.C2f             [576, 384, 2]                 \n",
            " 19                  -1  1   1327872  ultralytics.nn.modules.conv.Conv             [384, 384, 3, 2]              \n",
            " 20             [-1, 9]  1         0  ultralytics.nn.modules.conv.Concat           [1]                           \n",
            " 21                  -1  2   4207104  ultralytics.nn.modules.block.C2f             [960, 576, 2]                 \n",
            " 22        [15, 18, 21]  1   5159603  ultralytics.nn.modules.head.Segment          [1, 32, 192, [192, 384, 576]] \n",
            "YOLOv8m-seg summary: 331 layers, 27,240,227 parameters, 27,240,211 gradients, 110.4 GFLOPs\n",
            "\n",
            "Transferred 531/537 items from pretrained weights\n",
            "\u001b[34m\u001b[1mTensorBoard: \u001b[0mStart with 'tensorboard --logdir runs/segment/train', view at http://localhost:6006/\n",
            "Freezing layer 'model.22.dfl.conv.weight'\n",
            "\u001b[34m\u001b[1mAMP: \u001b[0mrunning Automatic Mixed Precision (AMP) checks...\n",
            "Downloading https://github.com/ultralytics/assets/releases/download/v8.3.0/yolo11n.pt to 'yolo11n.pt'...\n"
          ]
        },
        {
          "output_type": "stream",
          "name": "stderr",
          "text": [
            "100%|██████████| 5.35M/5.35M [00:00<00:00, 327MB/s]\n"
          ]
        },
        {
          "output_type": "stream",
          "name": "stdout",
          "text": [
            "\u001b[34m\u001b[1mAMP: \u001b[0mchecks passed ✅\n",
            "WARNING ⚠️ updating to 'imgsz=200'. 'train' and 'val' imgsz must be an integer, while 'predict' and 'export' imgsz may be a [h, w] list or an integer, i.e. 'yolo export imgsz=640,480' or 'yolo export imgsz=640'\n",
            "WARNING ⚠️ imgsz=[200] must be multiple of max stride 32, updating to [224]\n"
          ]
        },
        {
          "output_type": "stream",
          "name": "stderr",
          "text": [
            "\u001b[34m\u001b[1mtrain: \u001b[0mScanning /content/Project_Septin/datasets/test-1/train/labels... 55 images, 3 backgrounds, 0 corrupt: 100%|██████████| 55/55 [00:00<00:00, 1184.43it/s]"
          ]
        },
        {
          "output_type": "stream",
          "name": "stdout",
          "text": [
            "\u001b[34m\u001b[1mtrain: \u001b[0mNew cache created: /content/Project_Septin/datasets/test-1/train/labels.cache\n"
          ]
        },
        {
          "output_type": "stream",
          "name": "stderr",
          "text": [
            "\n"
          ]
        },
        {
          "output_type": "stream",
          "name": "stdout",
          "text": [
            "\u001b[34m\u001b[1malbumentations: \u001b[0mBlur(p=0.01, blur_limit=(3, 7)), MedianBlur(p=0.01, blur_limit=(3, 7)), ToGray(p=0.01, num_output_channels=3, method='weighted_average'), CLAHE(p=0.01, clip_limit=(1.0, 4.0), tile_grid_size=(8, 8))\n"
          ]
        },
        {
          "output_type": "stream",
          "name": "stderr",
          "text": [
            "A new version of Albumentations is available: 2.0.2 (you have 1.4.20). Upgrade using: pip install -U albumentations. To disable automatic update checks, set the environment variable NO_ALBUMENTATIONS_UPDATE to 1.\n",
            "\u001b[34m\u001b[1mval: \u001b[0mScanning /content/Project_Septin/datasets/test-1/valid/labels... 4 images, 0 backgrounds, 0 corrupt: 100%|██████████| 4/4 [00:00<00:00, 672.27it/s]"
          ]
        },
        {
          "output_type": "stream",
          "name": "stdout",
          "text": [
            "\u001b[34m\u001b[1mval: \u001b[0mNew cache created: /content/Project_Septin/datasets/test-1/valid/labels.cache\n"
          ]
        },
        {
          "output_type": "stream",
          "name": "stderr",
          "text": [
            "\n"
          ]
        },
        {
          "output_type": "stream",
          "name": "stdout",
          "text": [
            "Plotting labels to runs/segment/train/labels.jpg... \n",
            "\u001b[34m\u001b[1moptimizer:\u001b[0m 'optimizer=auto' found, ignoring 'lr0=0.01' and 'momentum=0.937' and determining best 'optimizer', 'lr0' and 'momentum' automatically... \n",
            "\u001b[34m\u001b[1moptimizer:\u001b[0m AdamW(lr=0.002, momentum=0.9) with parameter groups 86 weight(decay=0.0), 97 weight(decay=0.0005), 96 bias(decay=0.0)\n",
            "\u001b[34m\u001b[1mTensorBoard: \u001b[0mmodel graph visualization added ✅\n",
            "Image sizes 224 train, 224 val\n",
            "Using 8 dataloader workers\n",
            "Logging results to \u001b[1mruns/segment/train\u001b[0m\n",
            "Starting training for 100 epochs...\n",
            "\n",
            "      Epoch    GPU_mem   box_loss   seg_loss   cls_loss   dfl_loss  Instances       Size\n"
          ]
        },
        {
          "output_type": "stream",
          "name": "stderr",
          "text": [
            "      1/100     0.965G      2.025      2.546      3.705      1.012          4        224: 100%|██████████| 14/14 [00:03<00:00,  3.78it/s]\n",
            "                 Class     Images  Instances      Box(P          R      mAP50  mAP50-95)     Mask(P          R      mAP50  mAP50-95): 100%|██████████| 1/1 [00:00<00:00,  4.93it/s]"
          ]
        },
        {
          "output_type": "stream",
          "name": "stdout",
          "text": [
            "                   all          4         24     0.0268      0.708     0.0444     0.0217     0.0268      0.708     0.0453     0.0279\n"
          ]
        },
        {
          "output_type": "stream",
          "name": "stderr",
          "text": [
            "\n"
          ]
        },
        {
          "output_type": "stream",
          "name": "stdout",
          "text": [
            "\n",
            "      Epoch    GPU_mem   box_loss   seg_loss   cls_loss   dfl_loss  Instances       Size\n"
          ]
        },
        {
          "output_type": "stream",
          "name": "stderr",
          "text": [
            "      2/100     0.954G      2.352      5.304      14.89     0.9767         12        224: 100%|██████████| 14/14 [00:01<00:00,  9.00it/s]\n",
            "                 Class     Images  Instances      Box(P          R      mAP50  mAP50-95)     Mask(P          R      mAP50  mAP50-95): 100%|██████████| 1/1 [00:00<00:00, 18.03it/s]"
          ]
        },
        {
          "output_type": "stream",
          "name": "stdout",
          "text": [
            "                   all          4         24      0.278      0.417      0.325     0.0628     0.0415      0.167     0.0154    0.00206\n"
          ]
        },
        {
          "output_type": "stream",
          "name": "stderr",
          "text": [
            "\n"
          ]
        },
        {
          "output_type": "stream",
          "name": "stdout",
          "text": [
            "\n",
            "      Epoch    GPU_mem   box_loss   seg_loss   cls_loss   dfl_loss  Instances       Size\n"
          ]
        },
        {
          "output_type": "stream",
          "name": "stderr",
          "text": [
            "      3/100     0.971G      2.972      5.248      18.37       1.13         12        224: 100%|██████████| 14/14 [00:01<00:00,  9.69it/s]\n",
            "                 Class     Images  Instances      Box(P          R      mAP50  mAP50-95)     Mask(P          R      mAP50  mAP50-95): 100%|██████████| 1/1 [00:00<00:00, 17.22it/s]"
          ]
        },
        {
          "output_type": "stream",
          "name": "stdout",
          "text": [
            "                   all          4         24     0.0366      0.125     0.0243     0.0132     0.0592     0.0417      0.017    0.00368\n"
          ]
        },
        {
          "output_type": "stream",
          "name": "stderr",
          "text": [
            "\n"
          ]
        },
        {
          "output_type": "stream",
          "name": "stdout",
          "text": [
            "\n",
            "      Epoch    GPU_mem   box_loss   seg_loss   cls_loss   dfl_loss  Instances       Size\n"
          ]
        },
        {
          "output_type": "stream",
          "name": "stderr",
          "text": [
            "      4/100     0.969G      2.327      3.166      3.286     0.9901         17        224: 100%|██████████| 14/14 [00:01<00:00,  9.99it/s]\n",
            "                 Class     Images  Instances      Box(P          R      mAP50  mAP50-95)     Mask(P          R      mAP50  mAP50-95): 100%|██████████| 1/1 [00:00<00:00, 17.91it/s]"
          ]
        },
        {
          "output_type": "stream",
          "name": "stdout",
          "text": [
            "                   all          4         24      0.312      0.417      0.249      0.134      0.249      0.333      0.186     0.0577\n"
          ]
        },
        {
          "output_type": "stream",
          "name": "stderr",
          "text": [
            "\n"
          ]
        },
        {
          "output_type": "stream",
          "name": "stdout",
          "text": [
            "\n",
            "      Epoch    GPU_mem   box_loss   seg_loss   cls_loss   dfl_loss  Instances       Size\n"
          ]
        },
        {
          "output_type": "stream",
          "name": "stderr",
          "text": [
            "      5/100     0.967G      1.917      2.092      2.912      0.949          4        224: 100%|██████████| 14/14 [00:01<00:00,  9.75it/s]\n",
            "                 Class     Images  Instances      Box(P          R      mAP50  mAP50-95)     Mask(P          R      mAP50  mAP50-95): 100%|██████████| 1/1 [00:00<00:00, 17.51it/s]"
          ]
        },
        {
          "output_type": "stream",
          "name": "stdout",
          "text": [
            "                   all          4         24      0.219      0.667      0.287      0.129     0.0685      0.208     0.0477     0.0242\n"
          ]
        },
        {
          "output_type": "stream",
          "name": "stderr",
          "text": [
            "\n"
          ]
        },
        {
          "output_type": "stream",
          "name": "stdout",
          "text": [
            "\n",
            "      Epoch    GPU_mem   box_loss   seg_loss   cls_loss   dfl_loss  Instances       Size\n"
          ]
        },
        {
          "output_type": "stream",
          "name": "stderr",
          "text": [
            "      6/100     0.967G      2.204      1.783      2.289     0.9479          7        224: 100%|██████████| 14/14 [00:01<00:00, 10.05it/s]\n",
            "                 Class     Images  Instances      Box(P          R      mAP50  mAP50-95)     Mask(P          R      mAP50  mAP50-95): 100%|██████████| 1/1 [00:00<00:00, 15.96it/s]"
          ]
        },
        {
          "output_type": "stream",
          "name": "stdout",
          "text": [
            "                   all          4         24     0.0919     0.0417      0.028     0.0147     0.0918     0.0417      0.044     0.0101\n"
          ]
        },
        {
          "output_type": "stream",
          "name": "stderr",
          "text": [
            "\n"
          ]
        },
        {
          "output_type": "stream",
          "name": "stdout",
          "text": [
            "\n",
            "      Epoch    GPU_mem   box_loss   seg_loss   cls_loss   dfl_loss  Instances       Size\n"
          ]
        },
        {
          "output_type": "stream",
          "name": "stderr",
          "text": [
            "      7/100     0.967G      1.908      3.083      1.764     0.8925          7        224: 100%|██████████| 14/14 [00:01<00:00,  9.56it/s]\n",
            "                 Class     Images  Instances      Box(P          R      mAP50  mAP50-95)     Mask(P          R      mAP50  mAP50-95): 100%|██████████| 1/1 [00:00<00:00, 15.70it/s]"
          ]
        },
        {
          "output_type": "stream",
          "name": "stdout",
          "text": [
            "                   all          4         24      0.145      0.458     0.0758     0.0207     0.0535       0.25     0.0288    0.00738\n"
          ]
        },
        {
          "output_type": "stream",
          "name": "stderr",
          "text": [
            "\n"
          ]
        },
        {
          "output_type": "stream",
          "name": "stdout",
          "text": [
            "\n",
            "      Epoch    GPU_mem   box_loss   seg_loss   cls_loss   dfl_loss  Instances       Size\n"
          ]
        },
        {
          "output_type": "stream",
          "name": "stderr",
          "text": [
            "      8/100     0.973G      2.521      4.566      1.588       1.02         31        224: 100%|██████████| 14/14 [00:01<00:00, 10.21it/s]\n",
            "                 Class     Images  Instances      Box(P          R      mAP50  mAP50-95)     Mask(P          R      mAP50  mAP50-95): 100%|██████████| 1/1 [00:00<00:00, 14.71it/s]"
          ]
        },
        {
          "output_type": "stream",
          "name": "stdout",
          "text": [
            "                   all          4         24      0.106      0.625      0.108     0.0295     0.0634      0.375     0.0559    0.00949\n"
          ]
        },
        {
          "output_type": "stream",
          "name": "stderr",
          "text": [
            "\n"
          ]
        },
        {
          "output_type": "stream",
          "name": "stdout",
          "text": [
            "\n",
            "      Epoch    GPU_mem   box_loss   seg_loss   cls_loss   dfl_loss  Instances       Size\n"
          ]
        },
        {
          "output_type": "stream",
          "name": "stderr",
          "text": [
            "      9/100     0.975G      2.214      4.048      1.648     0.9668         22        224: 100%|██████████| 14/14 [00:01<00:00, 10.23it/s]\n",
            "                 Class     Images  Instances      Box(P          R      mAP50  mAP50-95)     Mask(P          R      mAP50  mAP50-95): 100%|██████████| 1/1 [00:00<00:00, 17.69it/s]"
          ]
        },
        {
          "output_type": "stream",
          "name": "stdout",
          "text": [
            "                   all          4         24     0.0224      0.542     0.0211     0.0104     0.0207        0.5     0.0201    0.00553\n"
          ]
        },
        {
          "output_type": "stream",
          "name": "stderr",
          "text": [
            "\n"
          ]
        },
        {
          "output_type": "stream",
          "name": "stdout",
          "text": [
            "\n",
            "      Epoch    GPU_mem   box_loss   seg_loss   cls_loss   dfl_loss  Instances       Size\n"
          ]
        },
        {
          "output_type": "stream",
          "name": "stderr",
          "text": [
            "     10/100     0.956G      1.747       2.67       1.64     0.8894          8        224: 100%|██████████| 14/14 [00:01<00:00,  9.74it/s]\n",
            "                 Class     Images  Instances      Box(P          R      mAP50  mAP50-95)     Mask(P          R      mAP50  mAP50-95): 100%|██████████| 1/1 [00:00<00:00, 17.64it/s]"
          ]
        },
        {
          "output_type": "stream",
          "name": "stdout",
          "text": [
            "                   all          4         24     0.0378      0.625     0.0473     0.0222     0.0277      0.458     0.0259    0.00671\n"
          ]
        },
        {
          "output_type": "stream",
          "name": "stderr",
          "text": [
            "\n"
          ]
        },
        {
          "output_type": "stream",
          "name": "stdout",
          "text": [
            "\n",
            "      Epoch    GPU_mem   box_loss   seg_loss   cls_loss   dfl_loss  Instances       Size\n"
          ]
        },
        {
          "output_type": "stream",
          "name": "stderr",
          "text": [
            "     11/100     0.954G      1.829      2.288      1.595     0.9078         22        224: 100%|██████████| 14/14 [00:01<00:00, 10.02it/s]\n",
            "                 Class     Images  Instances      Box(P          R      mAP50  mAP50-95)     Mask(P          R      mAP50  mAP50-95): 100%|██████████| 1/1 [00:00<00:00, 17.73it/s]"
          ]
        },
        {
          "output_type": "stream",
          "name": "stdout",
          "text": [
            "                   all          4         24     0.0849      0.708     0.0727     0.0251     0.0538      0.583      0.043     0.0127\n"
          ]
        },
        {
          "output_type": "stream",
          "name": "stderr",
          "text": [
            "\n"
          ]
        },
        {
          "output_type": "stream",
          "name": "stdout",
          "text": [
            "\n",
            "      Epoch    GPU_mem   box_loss   seg_loss   cls_loss   dfl_loss  Instances       Size\n"
          ]
        },
        {
          "output_type": "stream",
          "name": "stderr",
          "text": [
            "     12/100     0.958G      1.671      1.601      1.425     0.8632         30        224: 100%|██████████| 14/14 [00:01<00:00,  9.95it/s]\n",
            "                 Class     Images  Instances      Box(P          R      mAP50  mAP50-95)     Mask(P          R      mAP50  mAP50-95): 100%|██████████| 1/1 [00:00<00:00, 17.78it/s]"
          ]
        },
        {
          "output_type": "stream",
          "name": "stdout",
          "text": [
            "                   all          4         24     0.0228      0.833     0.0228     0.0134     0.0205       0.75     0.0189    0.00664\n"
          ]
        },
        {
          "output_type": "stream",
          "name": "stderr",
          "text": [
            "\n"
          ]
        },
        {
          "output_type": "stream",
          "name": "stdout",
          "text": [
            "\n",
            "      Epoch    GPU_mem   box_loss   seg_loss   cls_loss   dfl_loss  Instances       Size\n"
          ]
        },
        {
          "output_type": "stream",
          "name": "stderr",
          "text": [
            "     13/100     0.958G      1.537      1.259      1.271     0.8702         16        224: 100%|██████████| 14/14 [00:01<00:00,  9.83it/s]\n",
            "                 Class     Images  Instances      Box(P          R      mAP50  mAP50-95)     Mask(P          R      mAP50  mAP50-95): 100%|██████████| 1/1 [00:00<00:00, 16.26it/s]"
          ]
        },
        {
          "output_type": "stream",
          "name": "stdout",
          "text": [
            "                   all          4         24     0.0275      0.875     0.0278     0.0146     0.0255      0.833     0.0237    0.00875\n"
          ]
        },
        {
          "output_type": "stream",
          "name": "stderr",
          "text": [
            "\n"
          ]
        },
        {
          "output_type": "stream",
          "name": "stdout",
          "text": [
            "\n",
            "      Epoch    GPU_mem   box_loss   seg_loss   cls_loss   dfl_loss  Instances       Size\n"
          ]
        },
        {
          "output_type": "stream",
          "name": "stderr",
          "text": [
            "     14/100     0.956G      1.315      1.367       1.42       0.85         10        224: 100%|██████████| 14/14 [00:01<00:00, 10.38it/s]\n",
            "                 Class     Images  Instances      Box(P          R      mAP50  mAP50-95)     Mask(P          R      mAP50  mAP50-95): 100%|██████████| 1/1 [00:00<00:00, 17.79it/s]"
          ]
        },
        {
          "output_type": "stream",
          "name": "stdout",
          "text": [
            "                   all          4         24     0.0275      0.875     0.0278     0.0146     0.0255      0.833     0.0237    0.00875\n"
          ]
        },
        {
          "output_type": "stream",
          "name": "stderr",
          "text": [
            "\n"
          ]
        },
        {
          "output_type": "stream",
          "name": "stdout",
          "text": [
            "\n",
            "      Epoch    GPU_mem   box_loss   seg_loss   cls_loss   dfl_loss  Instances       Size\n"
          ]
        },
        {
          "output_type": "stream",
          "name": "stderr",
          "text": [
            "     15/100     0.958G      1.447      1.176      1.346     0.8455         12        224: 100%|██████████| 14/14 [00:01<00:00, 10.31it/s]\n",
            "                 Class     Images  Instances      Box(P          R      mAP50  mAP50-95)     Mask(P          R      mAP50  mAP50-95): 100%|██████████| 1/1 [00:00<00:00, 17.59it/s]"
          ]
        },
        {
          "output_type": "stream",
          "name": "stdout",
          "text": [
            "                   all          4         24     0.0117      0.583     0.0133    0.00547       0.01        0.5     0.0076    0.00283\n"
          ]
        },
        {
          "output_type": "stream",
          "name": "stderr",
          "text": [
            "\n"
          ]
        },
        {
          "output_type": "stream",
          "name": "stdout",
          "text": [
            "\n",
            "      Epoch    GPU_mem   box_loss   seg_loss   cls_loss   dfl_loss  Instances       Size\n"
          ]
        },
        {
          "output_type": "stream",
          "name": "stderr",
          "text": [
            "     16/100      0.96G      1.408      1.611      1.225     0.8407         18        224: 100%|██████████| 14/14 [00:01<00:00, 10.29it/s]\n",
            "                 Class     Images  Instances      Box(P          R      mAP50  mAP50-95)     Mask(P          R      mAP50  mAP50-95): 100%|██████████| 1/1 [00:00<00:00, 17.80it/s]"
          ]
        },
        {
          "output_type": "stream",
          "name": "stdout",
          "text": [
            "                   all          4         24     0.0264      0.542     0.0248     0.0154     0.0251        0.5     0.0207    0.00879\n"
          ]
        },
        {
          "output_type": "stream",
          "name": "stderr",
          "text": [
            "\n"
          ]
        },
        {
          "output_type": "stream",
          "name": "stdout",
          "text": [
            "\n",
            "      Epoch    GPU_mem   box_loss   seg_loss   cls_loss   dfl_loss  Instances       Size\n"
          ]
        },
        {
          "output_type": "stream",
          "name": "stderr",
          "text": [
            "     17/100      0.96G       1.32      1.896      1.205     0.8631          7        224: 100%|██████████| 14/14 [00:01<00:00,  9.71it/s]\n",
            "                 Class     Images  Instances      Box(P          R      mAP50  mAP50-95)     Mask(P          R      mAP50  mAP50-95): 100%|██████████| 1/1 [00:00<00:00, 17.28it/s]"
          ]
        },
        {
          "output_type": "stream",
          "name": "stdout",
          "text": [
            "                   all          4         24     0.0228      0.458     0.0179     0.0111     0.0228      0.458     0.0178    0.00815\n"
          ]
        },
        {
          "output_type": "stream",
          "name": "stderr",
          "text": [
            "\n"
          ]
        },
        {
          "output_type": "stream",
          "name": "stdout",
          "text": [
            "\n",
            "      Epoch    GPU_mem   box_loss   seg_loss   cls_loss   dfl_loss  Instances       Size\n"
          ]
        },
        {
          "output_type": "stream",
          "name": "stderr",
          "text": [
            "     18/100      0.96G      1.458       1.77      1.084     0.8704         11        224: 100%|██████████| 14/14 [00:01<00:00,  9.77it/s]\n",
            "                 Class     Images  Instances      Box(P          R      mAP50  mAP50-95)     Mask(P          R      mAP50  mAP50-95): 100%|██████████| 1/1 [00:00<00:00, 14.56it/s]\n"
          ]
        },
        {
          "output_type": "stream",
          "name": "stdout",
          "text": [
            "                   all          4         24     0.0291      0.583     0.0282     0.0164      0.027      0.542     0.0256    0.00853\n",
            "\n",
            "      Epoch    GPU_mem   box_loss   seg_loss   cls_loss   dfl_loss  Instances       Size\n"
          ]
        },
        {
          "output_type": "stream",
          "name": "stderr",
          "text": [
            "     19/100      0.96G      1.401      1.507      1.038     0.8455         15        224: 100%|██████████| 14/14 [00:01<00:00,  9.69it/s]\n",
            "                 Class     Images  Instances      Box(P          R      mAP50  mAP50-95)     Mask(P          R      mAP50  mAP50-95): 100%|██████████| 1/1 [00:00<00:00, 15.52it/s]\n"
          ]
        },
        {
          "output_type": "stream",
          "name": "stdout",
          "text": [
            "                   all          4         24     0.0339      0.292     0.0237      0.013     0.0204      0.375     0.0163    0.00572\n",
            "\n",
            "      Epoch    GPU_mem   box_loss   seg_loss   cls_loss   dfl_loss  Instances       Size\n"
          ]
        },
        {
          "output_type": "stream",
          "name": "stderr",
          "text": [
            "     20/100      0.96G      1.391      1.456      1.042     0.8613         28        224: 100%|██████████| 14/14 [00:01<00:00,  9.93it/s]\n",
            "                 Class     Images  Instances      Box(P          R      mAP50  mAP50-95)     Mask(P          R      mAP50  mAP50-95): 100%|██████████| 1/1 [00:00<00:00, 17.84it/s]"
          ]
        },
        {
          "output_type": "stream",
          "name": "stdout",
          "text": [
            "                   all          4         24      0.346      0.333       0.29      0.201      0.315       0.25      0.258     0.0999\n"
          ]
        },
        {
          "output_type": "stream",
          "name": "stderr",
          "text": [
            "\n"
          ]
        },
        {
          "output_type": "stream",
          "name": "stdout",
          "text": [
            "\n",
            "      Epoch    GPU_mem   box_loss   seg_loss   cls_loss   dfl_loss  Instances       Size\n"
          ]
        },
        {
          "output_type": "stream",
          "name": "stderr",
          "text": [
            "     21/100      0.96G      1.391      1.348      1.042     0.8334         19        224: 100%|██████████| 14/14 [00:01<00:00, 10.28it/s]\n",
            "                 Class     Images  Instances      Box(P          R      mAP50  mAP50-95)     Mask(P          R      mAP50  mAP50-95): 100%|██████████| 1/1 [00:00<00:00, 17.61it/s]"
          ]
        },
        {
          "output_type": "stream",
          "name": "stdout",
          "text": [
            "                   all          4         24     0.0638      0.708     0.0783     0.0392     0.0528      0.833     0.0474     0.0175\n"
          ]
        },
        {
          "output_type": "stream",
          "name": "stderr",
          "text": [
            "\n"
          ]
        },
        {
          "output_type": "stream",
          "name": "stdout",
          "text": [
            "\n",
            "      Epoch    GPU_mem   box_loss   seg_loss   cls_loss   dfl_loss  Instances       Size\n"
          ]
        },
        {
          "output_type": "stream",
          "name": "stderr",
          "text": [
            "     22/100     0.958G      1.175       1.26     0.9461      0.826         16        224: 100%|██████████| 14/14 [00:01<00:00, 10.52it/s]\n",
            "                 Class     Images  Instances      Box(P          R      mAP50  mAP50-95)     Mask(P          R      mAP50  mAP50-95): 100%|██████████| 1/1 [00:00<00:00, 17.25it/s]"
          ]
        },
        {
          "output_type": "stream",
          "name": "stdout",
          "text": [
            "                   all          4         24     0.0638      0.708     0.0783     0.0392     0.0528      0.833     0.0474     0.0175\n"
          ]
        },
        {
          "output_type": "stream",
          "name": "stderr",
          "text": [
            "\n"
          ]
        },
        {
          "output_type": "stream",
          "name": "stdout",
          "text": [
            "\n",
            "      Epoch    GPU_mem   box_loss   seg_loss   cls_loss   dfl_loss  Instances       Size\n"
          ]
        },
        {
          "output_type": "stream",
          "name": "stderr",
          "text": [
            "     23/100      0.96G      1.375      1.375      1.083     0.8596          5        224: 100%|██████████| 14/14 [00:01<00:00,  9.96it/s]\n",
            "                 Class     Images  Instances      Box(P          R      mAP50  mAP50-95)     Mask(P          R      mAP50  mAP50-95): 100%|██████████| 1/1 [00:00<00:00, 17.60it/s]"
          ]
        },
        {
          "output_type": "stream",
          "name": "stdout",
          "text": [
            "                   all          4         24      0.622      0.875      0.805      0.529      0.592      0.833      0.715      0.247\n"
          ]
        },
        {
          "output_type": "stream",
          "name": "stderr",
          "text": [
            "\n"
          ]
        },
        {
          "output_type": "stream",
          "name": "stdout",
          "text": [
            "\n",
            "      Epoch    GPU_mem   box_loss   seg_loss   cls_loss   dfl_loss  Instances       Size\n"
          ]
        },
        {
          "output_type": "stream",
          "name": "stderr",
          "text": [
            "     24/100      0.96G      1.262      1.248      0.933     0.8376         20        224: 100%|██████████| 14/14 [00:01<00:00,  9.94it/s]\n",
            "                 Class     Images  Instances      Box(P          R      mAP50  mAP50-95)     Mask(P          R      mAP50  mAP50-95): 100%|██████████| 1/1 [00:00<00:00, 17.74it/s]"
          ]
        },
        {
          "output_type": "stream",
          "name": "stdout",
          "text": [
            "                   all          4         24       0.84      0.792      0.895      0.608      0.806       0.75      0.853      0.265\n"
          ]
        },
        {
          "output_type": "stream",
          "name": "stderr",
          "text": [
            "\n"
          ]
        },
        {
          "output_type": "stream",
          "name": "stdout",
          "text": [
            "\n",
            "      Epoch    GPU_mem   box_loss   seg_loss   cls_loss   dfl_loss  Instances       Size\n"
          ]
        },
        {
          "output_type": "stream",
          "name": "stderr",
          "text": [
            "     25/100      0.96G      1.245      1.201     0.9238     0.8292         12        224: 100%|██████████| 14/14 [00:01<00:00,  9.28it/s]\n",
            "                 Class     Images  Instances      Box(P          R      mAP50  mAP50-95)     Mask(P          R      mAP50  mAP50-95): 100%|██████████| 1/1 [00:00<00:00, 17.03it/s]"
          ]
        },
        {
          "output_type": "stream",
          "name": "stdout",
          "text": [
            "                   all          4         24      0.823      0.792      0.889      0.636      0.823      0.792      0.889      0.356\n"
          ]
        },
        {
          "output_type": "stream",
          "name": "stderr",
          "text": [
            "\n"
          ]
        },
        {
          "output_type": "stream",
          "name": "stdout",
          "text": [
            "\n",
            "      Epoch    GPU_mem   box_loss   seg_loss   cls_loss   dfl_loss  Instances       Size\n"
          ]
        },
        {
          "output_type": "stream",
          "name": "stderr",
          "text": [
            "     26/100      0.96G      1.258      1.378     0.9021     0.8195         21        224: 100%|██████████| 14/14 [00:01<00:00,  9.89it/s]\n",
            "                 Class     Images  Instances      Box(P          R      mAP50  mAP50-95)     Mask(P          R      mAP50  mAP50-95): 100%|██████████| 1/1 [00:00<00:00, 17.56it/s]"
          ]
        },
        {
          "output_type": "stream",
          "name": "stdout",
          "text": [
            "                   all          4         24      0.684      0.904      0.867      0.527      0.623      0.833      0.751      0.244\n"
          ]
        },
        {
          "output_type": "stream",
          "name": "stderr",
          "text": [
            "\n"
          ]
        },
        {
          "output_type": "stream",
          "name": "stdout",
          "text": [
            "\n",
            "      Epoch    GPU_mem   box_loss   seg_loss   cls_loss   dfl_loss  Instances       Size\n"
          ]
        },
        {
          "output_type": "stream",
          "name": "stderr",
          "text": [
            "     27/100      0.96G      1.213      1.277      0.907     0.8582         25        224: 100%|██████████| 14/14 [00:01<00:00, 10.10it/s]\n",
            "                 Class     Images  Instances      Box(P          R      mAP50  mAP50-95)     Mask(P          R      mAP50  mAP50-95): 100%|██████████| 1/1 [00:00<00:00, 16.62it/s]"
          ]
        },
        {
          "output_type": "stream",
          "name": "stdout",
          "text": [
            "                   all          4         24      0.751      0.879      0.878      0.553      0.643      0.751      0.703      0.262\n"
          ]
        },
        {
          "output_type": "stream",
          "name": "stderr",
          "text": [
            "\n"
          ]
        },
        {
          "output_type": "stream",
          "name": "stdout",
          "text": [
            "\n",
            "      Epoch    GPU_mem   box_loss   seg_loss   cls_loss   dfl_loss  Instances       Size\n"
          ]
        },
        {
          "output_type": "stream",
          "name": "stderr",
          "text": [
            "     28/100      0.96G      1.169      1.347     0.8315     0.8438         21        224: 100%|██████████| 14/14 [00:01<00:00,  9.86it/s]\n",
            "                 Class     Images  Instances      Box(P          R      mAP50  mAP50-95)     Mask(P          R      mAP50  mAP50-95): 100%|██████████| 1/1 [00:00<00:00, 17.01it/s]"
          ]
        },
        {
          "output_type": "stream",
          "name": "stdout",
          "text": [
            "                   all          4         24      0.794      0.875       0.88      0.625      0.756      0.833      0.814      0.296\n"
          ]
        },
        {
          "output_type": "stream",
          "name": "stderr",
          "text": [
            "\n"
          ]
        },
        {
          "output_type": "stream",
          "name": "stdout",
          "text": [
            "\n",
            "      Epoch    GPU_mem   box_loss   seg_loss   cls_loss   dfl_loss  Instances       Size\n"
          ]
        },
        {
          "output_type": "stream",
          "name": "stderr",
          "text": [
            "     29/100      0.96G      1.174      1.039     0.8891     0.8016         15        224: 100%|██████████| 14/14 [00:01<00:00, 10.07it/s]\n",
            "                 Class     Images  Instances      Box(P          R      mAP50  mAP50-95)     Mask(P          R      mAP50  mAP50-95): 100%|██████████| 1/1 [00:00<00:00, 17.52it/s]"
          ]
        },
        {
          "output_type": "stream",
          "name": "stdout",
          "text": [
            "                   all          4         24      0.866      0.807      0.886      0.651      0.772       0.75      0.755      0.275\n"
          ]
        },
        {
          "output_type": "stream",
          "name": "stderr",
          "text": [
            "\n"
          ]
        },
        {
          "output_type": "stream",
          "name": "stdout",
          "text": [
            "\n",
            "      Epoch    GPU_mem   box_loss   seg_loss   cls_loss   dfl_loss  Instances       Size\n"
          ]
        },
        {
          "output_type": "stream",
          "name": "stderr",
          "text": [
            "     30/100      0.96G      1.151      1.189      0.923     0.8313         10        224: 100%|██████████| 14/14 [00:01<00:00,  9.98it/s]\n",
            "                 Class     Images  Instances      Box(P          R      mAP50  mAP50-95)     Mask(P          R      mAP50  mAP50-95): 100%|██████████| 1/1 [00:00<00:00, 17.74it/s]"
          ]
        },
        {
          "output_type": "stream",
          "name": "stdout",
          "text": [
            "                   all          4         24      0.866      0.807      0.886      0.651      0.772       0.75      0.755      0.275\n"
          ]
        },
        {
          "output_type": "stream",
          "name": "stderr",
          "text": [
            "\n"
          ]
        },
        {
          "output_type": "stream",
          "name": "stdout",
          "text": [
            "\n",
            "      Epoch    GPU_mem   box_loss   seg_loss   cls_loss   dfl_loss  Instances       Size\n"
          ]
        },
        {
          "output_type": "stream",
          "name": "stderr",
          "text": [
            "     31/100     0.958G      1.245      1.001     0.9439     0.8222          9        224: 100%|██████████| 14/14 [00:01<00:00,  9.97it/s]\n",
            "                 Class     Images  Instances      Box(P          R      mAP50  mAP50-95)     Mask(P          R      mAP50  mAP50-95): 100%|██████████| 1/1 [00:00<00:00, 15.30it/s]"
          ]
        },
        {
          "output_type": "stream",
          "name": "stdout",
          "text": [
            "                   all          4         24      0.734      0.875      0.852      0.544      0.685       0.75      0.766       0.29\n"
          ]
        },
        {
          "output_type": "stream",
          "name": "stderr",
          "text": [
            "\n"
          ]
        },
        {
          "output_type": "stream",
          "name": "stdout",
          "text": [
            "\n",
            "      Epoch    GPU_mem   box_loss   seg_loss   cls_loss   dfl_loss  Instances       Size\n"
          ]
        },
        {
          "output_type": "stream",
          "name": "stderr",
          "text": [
            "     32/100     0.958G      1.168      1.062      0.908      0.817         35        224: 100%|██████████| 14/14 [00:01<00:00, 10.39it/s]\n",
            "                 Class     Images  Instances      Box(P          R      mAP50  mAP50-95)     Mask(P          R      mAP50  mAP50-95): 100%|██████████| 1/1 [00:00<00:00, 18.20it/s]"
          ]
        },
        {
          "output_type": "stream",
          "name": "stdout",
          "text": [
            "                   all          4         24      0.747      0.917      0.838      0.527      0.671      0.792      0.733      0.265\n"
          ]
        },
        {
          "output_type": "stream",
          "name": "stderr",
          "text": [
            "\n"
          ]
        },
        {
          "output_type": "stream",
          "name": "stdout",
          "text": [
            "\n",
            "      Epoch    GPU_mem   box_loss   seg_loss   cls_loss   dfl_loss  Instances       Size\n"
          ]
        },
        {
          "output_type": "stream",
          "name": "stderr",
          "text": [
            "     33/100     0.958G      1.162     0.9737     0.8383     0.8255         16        224: 100%|██████████| 14/14 [00:01<00:00, 10.06it/s]\n",
            "                 Class     Images  Instances      Box(P          R      mAP50  mAP50-95)     Mask(P          R      mAP50  mAP50-95): 100%|██████████| 1/1 [00:00<00:00, 17.79it/s]"
          ]
        },
        {
          "output_type": "stream",
          "name": "stdout",
          "text": [
            "                   all          4         24      0.772      0.917      0.861      0.624      0.737      0.875      0.805      0.305\n"
          ]
        },
        {
          "output_type": "stream",
          "name": "stderr",
          "text": [
            "\n"
          ]
        },
        {
          "output_type": "stream",
          "name": "stdout",
          "text": [
            "\n",
            "      Epoch    GPU_mem   box_loss   seg_loss   cls_loss   dfl_loss  Instances       Size\n"
          ]
        },
        {
          "output_type": "stream",
          "name": "stderr",
          "text": [
            "     34/100      0.96G      1.091      1.161     0.8018     0.8209         26        224: 100%|██████████| 14/14 [00:01<00:00, 10.04it/s]\n",
            "                 Class     Images  Instances      Box(P          R      mAP50  mAP50-95)     Mask(P          R      mAP50  mAP50-95): 100%|██████████| 1/1 [00:00<00:00, 17.27it/s]"
          ]
        },
        {
          "output_type": "stream",
          "name": "stdout",
          "text": [
            "                   all          4         24      0.836      0.833      0.895      0.655      0.836      0.833      0.895      0.336\n"
          ]
        },
        {
          "output_type": "stream",
          "name": "stderr",
          "text": [
            "\n"
          ]
        },
        {
          "output_type": "stream",
          "name": "stdout",
          "text": [
            "\n",
            "      Epoch    GPU_mem   box_loss   seg_loss   cls_loss   dfl_loss  Instances       Size\n"
          ]
        },
        {
          "output_type": "stream",
          "name": "stderr",
          "text": [
            "     35/100     0.958G       1.12     0.9412     0.8316     0.8376         16        224: 100%|██████████| 14/14 [00:01<00:00, 10.05it/s]\n",
            "                 Class     Images  Instances      Box(P          R      mAP50  mAP50-95)     Mask(P          R      mAP50  mAP50-95): 100%|██████████| 1/1 [00:00<00:00, 17.65it/s]"
          ]
        },
        {
          "output_type": "stream",
          "name": "stdout",
          "text": [
            "                   all          4         24      0.869      0.875      0.903      0.674      0.869      0.875      0.903      0.381\n"
          ]
        },
        {
          "output_type": "stream",
          "name": "stderr",
          "text": [
            "\n"
          ]
        },
        {
          "output_type": "stream",
          "name": "stdout",
          "text": [
            "\n",
            "      Epoch    GPU_mem   box_loss   seg_loss   cls_loss   dfl_loss  Instances       Size\n"
          ]
        },
        {
          "output_type": "stream",
          "name": "stderr",
          "text": [
            "     36/100     0.958G      1.012      1.155     0.8754     0.8163         16        224: 100%|██████████| 14/14 [00:01<00:00,  9.54it/s]\n",
            "                 Class     Images  Instances      Box(P          R      mAP50  mAP50-95)     Mask(P          R      mAP50  mAP50-95): 100%|██████████| 1/1 [00:00<00:00, 17.65it/s]"
          ]
        },
        {
          "output_type": "stream",
          "name": "stdout",
          "text": [
            "                   all          4         24      0.704      0.917       0.87      0.618      0.704      0.917       0.87       0.34\n"
          ]
        },
        {
          "output_type": "stream",
          "name": "stderr",
          "text": [
            "\n"
          ]
        },
        {
          "output_type": "stream",
          "name": "stdout",
          "text": [
            "\n",
            "      Epoch    GPU_mem   box_loss   seg_loss   cls_loss   dfl_loss  Instances       Size\n"
          ]
        },
        {
          "output_type": "stream",
          "name": "stderr",
          "text": [
            "     37/100     0.958G       1.06       1.15     0.8364     0.8277          9        224: 100%|██████████| 14/14 [00:01<00:00,  9.86it/s]\n",
            "                 Class     Images  Instances      Box(P          R      mAP50  mAP50-95)     Mask(P          R      mAP50  mAP50-95): 100%|██████████| 1/1 [00:00<00:00, 15.07it/s]"
          ]
        },
        {
          "output_type": "stream",
          "name": "stdout",
          "text": [
            "                   all          4         24      0.736      0.958      0.882      0.646      0.736      0.958      0.882      0.311\n"
          ]
        },
        {
          "output_type": "stream",
          "name": "stderr",
          "text": [
            "\n"
          ]
        },
        {
          "output_type": "stream",
          "name": "stdout",
          "text": [
            "\n",
            "      Epoch    GPU_mem   box_loss   seg_loss   cls_loss   dfl_loss  Instances       Size\n"
          ]
        },
        {
          "output_type": "stream",
          "name": "stderr",
          "text": [
            "     38/100     0.956G      1.135      1.285     0.8697     0.8429         20        224: 100%|██████████| 14/14 [00:01<00:00, 10.44it/s]\n",
            "                 Class     Images  Instances      Box(P          R      mAP50  mAP50-95)     Mask(P          R      mAP50  mAP50-95): 100%|██████████| 1/1 [00:00<00:00, 17.94it/s]"
          ]
        },
        {
          "output_type": "stream",
          "name": "stdout",
          "text": [
            "                   all          4         24      0.736      0.958      0.882      0.646      0.736      0.958      0.882      0.311\n"
          ]
        },
        {
          "output_type": "stream",
          "name": "stderr",
          "text": [
            "\n"
          ]
        },
        {
          "output_type": "stream",
          "name": "stdout",
          "text": [
            "\n",
            "      Epoch    GPU_mem   box_loss   seg_loss   cls_loss   dfl_loss  Instances       Size\n"
          ]
        },
        {
          "output_type": "stream",
          "name": "stderr",
          "text": [
            "     39/100     0.958G      1.142       1.33     0.8425      0.827         14        224: 100%|██████████| 14/14 [00:01<00:00, 10.06it/s]\n",
            "                 Class     Images  Instances      Box(P          R      mAP50  mAP50-95)     Mask(P          R      mAP50  mAP50-95): 100%|██████████| 1/1 [00:00<00:00, 18.15it/s]"
          ]
        },
        {
          "output_type": "stream",
          "name": "stdout",
          "text": [
            "                   all          4         24      0.712      0.824      0.857      0.637      0.712      0.824      0.857      0.363\n"
          ]
        },
        {
          "output_type": "stream",
          "name": "stderr",
          "text": [
            "\n"
          ]
        },
        {
          "output_type": "stream",
          "name": "stdout",
          "text": [
            "\n",
            "      Epoch    GPU_mem   box_loss   seg_loss   cls_loss   dfl_loss  Instances       Size\n"
          ]
        },
        {
          "output_type": "stream",
          "name": "stderr",
          "text": [
            "     40/100     0.958G      1.066      1.251     0.7667     0.8144         28        224: 100%|██████████| 14/14 [00:01<00:00, 10.26it/s]\n",
            "                 Class     Images  Instances      Box(P          R      mAP50  mAP50-95)     Mask(P          R      mAP50  mAP50-95): 100%|██████████| 1/1 [00:00<00:00, 14.97it/s]"
          ]
        },
        {
          "output_type": "stream",
          "name": "stdout",
          "text": [
            "                   all          4         24      0.666      0.875      0.832      0.621      0.666      0.875      0.832      0.363\n"
          ]
        },
        {
          "output_type": "stream",
          "name": "stderr",
          "text": [
            "\n"
          ]
        },
        {
          "output_type": "stream",
          "name": "stdout",
          "text": [
            "\n",
            "      Epoch    GPU_mem   box_loss   seg_loss   cls_loss   dfl_loss  Instances       Size\n"
          ]
        },
        {
          "output_type": "stream",
          "name": "stderr",
          "text": [
            "     41/100     0.958G      1.168       1.09     0.8441     0.8215         11        224: 100%|██████████| 14/14 [00:01<00:00, 10.13it/s]\n",
            "                 Class     Images  Instances      Box(P          R      mAP50  mAP50-95)     Mask(P          R      mAP50  mAP50-95): 100%|██████████| 1/1 [00:00<00:00, 18.18it/s]"
          ]
        },
        {
          "output_type": "stream",
          "name": "stdout",
          "text": [
            "                   all          4         24      0.629      0.833      0.811      0.568      0.758      0.651       0.78      0.337\n"
          ]
        },
        {
          "output_type": "stream",
          "name": "stderr",
          "text": [
            "\n"
          ]
        },
        {
          "output_type": "stream",
          "name": "stdout",
          "text": [
            "\n",
            "      Epoch    GPU_mem   box_loss   seg_loss   cls_loss   dfl_loss  Instances       Size\n"
          ]
        },
        {
          "output_type": "stream",
          "name": "stderr",
          "text": [
            "     42/100     0.958G      1.133      1.263     0.7988     0.8089         12        224: 100%|██████████| 14/14 [00:01<00:00, 10.20it/s]\n",
            "                 Class     Images  Instances      Box(P          R      mAP50  mAP50-95)     Mask(P          R      mAP50  mAP50-95): 100%|██████████| 1/1 [00:00<00:00, 17.50it/s]"
          ]
        },
        {
          "output_type": "stream",
          "name": "stdout",
          "text": [
            "                   all          4         24       0.74      0.667      0.789      0.551       0.74      0.667      0.757      0.323\n"
          ]
        },
        {
          "output_type": "stream",
          "name": "stderr",
          "text": [
            "\n"
          ]
        },
        {
          "output_type": "stream",
          "name": "stdout",
          "text": [
            "\n",
            "      Epoch    GPU_mem   box_loss   seg_loss   cls_loss   dfl_loss  Instances       Size\n"
          ]
        },
        {
          "output_type": "stream",
          "name": "stderr",
          "text": [
            "     43/100      0.96G      1.144      1.145     0.8868     0.8366         11        224: 100%|██████████| 14/14 [00:01<00:00,  9.69it/s]\n",
            "                 Class     Images  Instances      Box(P          R      mAP50  mAP50-95)     Mask(P          R      mAP50  mAP50-95): 100%|██████████| 1/1 [00:00<00:00, 16.67it/s]"
          ]
        },
        {
          "output_type": "stream",
          "name": "stdout",
          "text": [
            "                   all          4         24      0.633      0.792      0.784      0.591      0.692      0.749      0.758      0.355\n"
          ]
        },
        {
          "output_type": "stream",
          "name": "stderr",
          "text": [
            "\n"
          ]
        },
        {
          "output_type": "stream",
          "name": "stdout",
          "text": [
            "\n",
            "      Epoch    GPU_mem   box_loss   seg_loss   cls_loss   dfl_loss  Instances       Size\n"
          ]
        },
        {
          "output_type": "stream",
          "name": "stderr",
          "text": [
            "     44/100      0.96G      1.048     0.9873     0.8016     0.8145         21        224: 100%|██████████| 14/14 [00:01<00:00,  9.90it/s]\n",
            "                 Class     Images  Instances      Box(P          R      mAP50  mAP50-95)     Mask(P          R      mAP50  mAP50-95): 100%|██████████| 1/1 [00:00<00:00, 18.36it/s]"
          ]
        },
        {
          "output_type": "stream",
          "name": "stdout",
          "text": [
            "                   all          4         24      0.699      0.773      0.803      0.634      0.699      0.773      0.778      0.374\n"
          ]
        },
        {
          "output_type": "stream",
          "name": "stderr",
          "text": [
            "\n"
          ]
        },
        {
          "output_type": "stream",
          "name": "stdout",
          "text": [
            "\n",
            "      Epoch    GPU_mem   box_loss   seg_loss   cls_loss   dfl_loss  Instances       Size\n"
          ]
        },
        {
          "output_type": "stream",
          "name": "stderr",
          "text": [
            "     45/100      0.96G      1.136      1.314       0.82     0.8295         14        224: 100%|██████████| 14/14 [00:01<00:00, 10.08it/s]\n",
            "                 Class     Images  Instances      Box(P          R      mAP50  mAP50-95)     Mask(P          R      mAP50  mAP50-95): 100%|██████████| 1/1 [00:00<00:00, 14.62it/s]"
          ]
        },
        {
          "output_type": "stream",
          "name": "stdout",
          "text": [
            "                   all          4         24      0.831       0.75      0.832      0.644      0.831       0.75      0.806      0.391\n"
          ]
        },
        {
          "output_type": "stream",
          "name": "stderr",
          "text": [
            "\n"
          ]
        },
        {
          "output_type": "stream",
          "name": "stdout",
          "text": [
            "\n",
            "      Epoch    GPU_mem   box_loss   seg_loss   cls_loss   dfl_loss  Instances       Size\n"
          ]
        },
        {
          "output_type": "stream",
          "name": "stderr",
          "text": [
            "     46/100      0.96G      1.058      1.231     0.8504     0.8427          5        224: 100%|██████████| 14/14 [00:01<00:00, 10.23it/s]\n",
            "                 Class     Images  Instances      Box(P          R      mAP50  mAP50-95)     Mask(P          R      mAP50  mAP50-95): 100%|██████████| 1/1 [00:00<00:00, 17.38it/s]"
          ]
        },
        {
          "output_type": "stream",
          "name": "stdout",
          "text": [
            "                   all          4         24      0.831       0.75      0.832      0.644      0.831       0.75      0.806      0.391\n"
          ]
        },
        {
          "output_type": "stream",
          "name": "stderr",
          "text": [
            "\n"
          ]
        },
        {
          "output_type": "stream",
          "name": "stdout",
          "text": [
            "\n",
            "      Epoch    GPU_mem   box_loss   seg_loss   cls_loss   dfl_loss  Instances       Size\n"
          ]
        },
        {
          "output_type": "stream",
          "name": "stderr",
          "text": [
            "     47/100      0.96G      1.028      1.075     0.7873     0.8206         24        224: 100%|██████████| 14/14 [00:01<00:00,  9.90it/s]\n",
            "                 Class     Images  Instances      Box(P          R      mAP50  mAP50-95)     Mask(P          R      mAP50  mAP50-95): 100%|██████████| 1/1 [00:00<00:00, 16.81it/s]"
          ]
        },
        {
          "output_type": "stream",
          "name": "stdout",
          "text": [
            "                   all          4         24      0.816       0.75      0.847       0.63      0.769      0.708      0.744      0.336\n"
          ]
        },
        {
          "output_type": "stream",
          "name": "stderr",
          "text": [
            "\n"
          ]
        },
        {
          "output_type": "stream",
          "name": "stdout",
          "text": [
            "\n",
            "      Epoch    GPU_mem   box_loss   seg_loss   cls_loss   dfl_loss  Instances       Size\n"
          ]
        },
        {
          "output_type": "stream",
          "name": "stderr",
          "text": [
            "     48/100     0.958G     0.9875      1.004     0.7463     0.8187          8        224: 100%|██████████| 14/14 [00:01<00:00, 10.05it/s]\n",
            "                 Class     Images  Instances      Box(P          R      mAP50  mAP50-95)     Mask(P          R      mAP50  mAP50-95): 100%|██████████| 1/1 [00:00<00:00, 16.98it/s]"
          ]
        },
        {
          "output_type": "stream",
          "name": "stdout",
          "text": [
            "                   all          4         24      0.847       0.75       0.84      0.581      0.799      0.708      0.737      0.309\n"
          ]
        },
        {
          "output_type": "stream",
          "name": "stderr",
          "text": [
            "\n"
          ]
        },
        {
          "output_type": "stream",
          "name": "stdout",
          "text": [
            "\n",
            "      Epoch    GPU_mem   box_loss   seg_loss   cls_loss   dfl_loss  Instances       Size\n"
          ]
        },
        {
          "output_type": "stream",
          "name": "stderr",
          "text": [
            "     49/100      0.96G     0.9636     0.9841     0.7446     0.8196          4        224: 100%|██████████| 14/14 [00:01<00:00,  9.81it/s]\n",
            "                 Class     Images  Instances      Box(P          R      mAP50  mAP50-95)     Mask(P          R      mAP50  mAP50-95): 100%|██████████| 1/1 [00:00<00:00, 17.32it/s]"
          ]
        },
        {
          "output_type": "stream",
          "name": "stdout",
          "text": [
            "                   all          4         24      0.874      0.708      0.824      0.628      0.822      0.667      0.735      0.318\n"
          ]
        },
        {
          "output_type": "stream",
          "name": "stderr",
          "text": [
            "\n"
          ]
        },
        {
          "output_type": "stream",
          "name": "stdout",
          "text": [
            "\n",
            "      Epoch    GPU_mem   box_loss   seg_loss   cls_loss   dfl_loss  Instances       Size\n"
          ]
        },
        {
          "output_type": "stream",
          "name": "stderr",
          "text": [
            "     50/100      0.96G      1.038      1.018     0.8506     0.8229         17        224: 100%|██████████| 14/14 [00:01<00:00,  9.61it/s]\n",
            "                 Class     Images  Instances      Box(P          R      mAP50  mAP50-95)     Mask(P          R      mAP50  mAP50-95): 100%|██████████| 1/1 [00:00<00:00, 17.93it/s]"
          ]
        },
        {
          "output_type": "stream",
          "name": "stdout",
          "text": [
            "                   all          4         24      0.879      0.708      0.824      0.634      0.879      0.708      0.805      0.357\n"
          ]
        },
        {
          "output_type": "stream",
          "name": "stderr",
          "text": [
            "\n"
          ]
        },
        {
          "output_type": "stream",
          "name": "stdout",
          "text": [
            "\n",
            "      Epoch    GPU_mem   box_loss   seg_loss   cls_loss   dfl_loss  Instances       Size\n"
          ]
        },
        {
          "output_type": "stream",
          "name": "stderr",
          "text": [
            "     51/100     0.958G     0.9693      0.936     0.6816     0.8341         19        224: 100%|██████████| 14/14 [00:01<00:00, 10.09it/s]\n",
            "                 Class     Images  Instances      Box(P          R      mAP50  mAP50-95)     Mask(P          R      mAP50  mAP50-95): 100%|██████████| 1/1 [00:00<00:00, 17.37it/s]"
          ]
        },
        {
          "output_type": "stream",
          "name": "stdout",
          "text": [
            "                   all          4         24      0.885       0.75      0.847      0.644      0.885       0.75      0.827       0.36\n"
          ]
        },
        {
          "output_type": "stream",
          "name": "stderr",
          "text": [
            "\n"
          ]
        },
        {
          "output_type": "stream",
          "name": "stdout",
          "text": [
            "\n",
            "      Epoch    GPU_mem   box_loss   seg_loss   cls_loss   dfl_loss  Instances       Size\n"
          ]
        },
        {
          "output_type": "stream",
          "name": "stderr",
          "text": [
            "     52/100      0.96G      1.112      1.015     0.7922     0.8227         13        224: 100%|██████████| 14/14 [00:01<00:00, 10.11it/s]\n",
            "                 Class     Images  Instances      Box(P          R      mAP50  mAP50-95)     Mask(P          R      mAP50  mAP50-95): 100%|██████████| 1/1 [00:00<00:00, 17.47it/s]"
          ]
        },
        {
          "output_type": "stream",
          "name": "stdout",
          "text": [
            "                   all          4         24      0.852      0.722      0.858      0.668      0.852      0.722      0.837      0.309\n"
          ]
        },
        {
          "output_type": "stream",
          "name": "stderr",
          "text": [
            "\n"
          ]
        },
        {
          "output_type": "stream",
          "name": "stdout",
          "text": [
            "\n",
            "      Epoch    GPU_mem   box_loss   seg_loss   cls_loss   dfl_loss  Instances       Size\n"
          ]
        },
        {
          "output_type": "stream",
          "name": "stderr",
          "text": [
            "     53/100      0.96G      1.066      1.278     0.8212     0.8415         18        224: 100%|██████████| 14/14 [00:01<00:00, 10.09it/s]\n",
            "                 Class     Images  Instances      Box(P          R      mAP50  mAP50-95)     Mask(P          R      mAP50  mAP50-95): 100%|██████████| 1/1 [00:00<00:00, 17.73it/s]"
          ]
        },
        {
          "output_type": "stream",
          "name": "stdout",
          "text": [
            "                   all          4         24      0.697      0.875      0.849      0.655      0.663      0.833      0.778      0.329\n"
          ]
        },
        {
          "output_type": "stream",
          "name": "stderr",
          "text": [
            "\n"
          ]
        },
        {
          "output_type": "stream",
          "name": "stdout",
          "text": [
            "\n",
            "      Epoch    GPU_mem   box_loss   seg_loss   cls_loss   dfl_loss  Instances       Size\n"
          ]
        },
        {
          "output_type": "stream",
          "name": "stderr",
          "text": [
            "     54/100     0.958G     0.9535      1.169     0.6805     0.7983         14        224: 100%|██████████| 14/14 [00:01<00:00, 10.33it/s]\n",
            "                 Class     Images  Instances      Box(P          R      mAP50  mAP50-95)     Mask(P          R      mAP50  mAP50-95): 100%|██████████| 1/1 [00:00<00:00, 17.29it/s]"
          ]
        },
        {
          "output_type": "stream",
          "name": "stdout",
          "text": [
            "                   all          4         24      0.697      0.875      0.849      0.655      0.663      0.833      0.778      0.329\n"
          ]
        },
        {
          "output_type": "stream",
          "name": "stderr",
          "text": [
            "\n"
          ]
        },
        {
          "output_type": "stream",
          "name": "stdout",
          "text": [
            "\n",
            "      Epoch    GPU_mem   box_loss   seg_loss   cls_loss   dfl_loss  Instances       Size\n"
          ]
        },
        {
          "output_type": "stream",
          "name": "stderr",
          "text": [
            "     55/100      0.96G     0.9498     0.9551     0.7277     0.8216         39        224: 100%|██████████| 14/14 [00:01<00:00,  9.70it/s]\n",
            "                 Class     Images  Instances      Box(P          R      mAP50  mAP50-95)     Mask(P          R      mAP50  mAP50-95): 100%|██████████| 1/1 [00:00<00:00, 14.83it/s]"
          ]
        },
        {
          "output_type": "stream",
          "name": "stdout",
          "text": [
            "                   all          4         24      0.721      0.861      0.824      0.612      0.686      0.821       0.77      0.295\n"
          ]
        },
        {
          "output_type": "stream",
          "name": "stderr",
          "text": [
            "\n"
          ]
        },
        {
          "output_type": "stream",
          "name": "stdout",
          "text": [
            "\n",
            "      Epoch    GPU_mem   box_loss   seg_loss   cls_loss   dfl_loss  Instances       Size\n"
          ]
        },
        {
          "output_type": "stream",
          "name": "stderr",
          "text": [
            "     56/100     0.958G     0.9652     0.9784     0.7078     0.8316         25        224: 100%|██████████| 14/14 [00:01<00:00,  9.46it/s]\n",
            "                 Class     Images  Instances      Box(P          R      mAP50  mAP50-95)     Mask(P          R      mAP50  mAP50-95): 100%|██████████| 1/1 [00:00<00:00, 17.52it/s]"
          ]
        },
        {
          "output_type": "stream",
          "name": "stdout",
          "text": [
            "                   all          4         24      0.711       0.82      0.813      0.619      0.676      0.783      0.732      0.305\n"
          ]
        },
        {
          "output_type": "stream",
          "name": "stderr",
          "text": [
            "\n"
          ]
        },
        {
          "output_type": "stream",
          "name": "stdout",
          "text": [
            "\n",
            "      Epoch    GPU_mem   box_loss   seg_loss   cls_loss   dfl_loss  Instances       Size\n"
          ]
        },
        {
          "output_type": "stream",
          "name": "stderr",
          "text": [
            "     57/100      0.96G     0.9413      1.156     0.7603     0.8355          4        224: 100%|██████████| 14/14 [00:01<00:00, 10.09it/s]\n",
            "                 Class     Images  Instances      Box(P          R      mAP50  mAP50-95)     Mask(P          R      mAP50  mAP50-95): 100%|██████████| 1/1 [00:00<00:00, 18.05it/s]"
          ]
        },
        {
          "output_type": "stream",
          "name": "stdout",
          "text": [
            "                   all          4         24      0.657      0.797      0.812      0.639      0.657      0.797      0.812       0.34\n"
          ]
        },
        {
          "output_type": "stream",
          "name": "stderr",
          "text": [
            "\n"
          ]
        },
        {
          "output_type": "stream",
          "name": "stdout",
          "text": [
            "\n",
            "      Epoch    GPU_mem   box_loss   seg_loss   cls_loss   dfl_loss  Instances       Size\n"
          ]
        },
        {
          "output_type": "stream",
          "name": "stderr",
          "text": [
            "     58/100     0.958G     0.9208      1.021     0.6981     0.8067          7        224: 100%|██████████| 14/14 [00:01<00:00, 10.20it/s]\n",
            "                 Class     Images  Instances      Box(P          R      mAP50  mAP50-95)     Mask(P          R      mAP50  mAP50-95): 100%|██████████| 1/1 [00:00<00:00, 16.86it/s]"
          ]
        },
        {
          "output_type": "stream",
          "name": "stdout",
          "text": [
            "                   all          4         24      0.797      0.708      0.829       0.65      0.797      0.708      0.829       0.36\n"
          ]
        },
        {
          "output_type": "stream",
          "name": "stderr",
          "text": [
            "\n"
          ]
        },
        {
          "output_type": "stream",
          "name": "stdout",
          "text": [
            "\n",
            "      Epoch    GPU_mem   box_loss   seg_loss   cls_loss   dfl_loss  Instances       Size\n"
          ]
        },
        {
          "output_type": "stream",
          "name": "stderr",
          "text": [
            "     59/100     0.958G      1.047      1.485     0.7909      0.807         11        224: 100%|██████████| 14/14 [00:01<00:00,  9.83it/s]\n",
            "                 Class     Images  Instances      Box(P          R      mAP50  mAP50-95)     Mask(P          R      mAP50  mAP50-95): 100%|██████████| 1/1 [00:00<00:00, 17.65it/s]"
          ]
        },
        {
          "output_type": "stream",
          "name": "stdout",
          "text": [
            "                   all          4         24      0.755      0.708      0.842      0.645      0.774      0.583      0.732       0.33\n"
          ]
        },
        {
          "output_type": "stream",
          "name": "stderr",
          "text": [
            "\n"
          ]
        },
        {
          "output_type": "stream",
          "name": "stdout",
          "text": [
            "\n",
            "      Epoch    GPU_mem   box_loss   seg_loss   cls_loss   dfl_loss  Instances       Size\n"
          ]
        },
        {
          "output_type": "stream",
          "name": "stderr",
          "text": [
            "     60/100     0.958G     0.9535       1.04     0.7446     0.8134         11        224: 100%|██████████| 14/14 [00:01<00:00,  9.95it/s]\n",
            "                 Class     Images  Instances      Box(P          R      mAP50  mAP50-95)     Mask(P          R      mAP50  mAP50-95): 100%|██████████| 1/1 [00:00<00:00, 18.09it/s]"
          ]
        },
        {
          "output_type": "stream",
          "name": "stdout",
          "text": [
            "                   all          4         24      0.686       0.73      0.826      0.625      0.932      0.573      0.791      0.318\n"
          ]
        },
        {
          "output_type": "stream",
          "name": "stderr",
          "text": [
            "\n"
          ]
        },
        {
          "output_type": "stream",
          "name": "stdout",
          "text": [
            "\n",
            "      Epoch    GPU_mem   box_loss   seg_loss   cls_loss   dfl_loss  Instances       Size\n"
          ]
        },
        {
          "output_type": "stream",
          "name": "stderr",
          "text": [
            "     61/100      0.96G     0.9762      1.035     0.7917     0.8035         14        224: 100%|██████████| 14/14 [00:01<00:00,  9.78it/s]\n",
            "                 Class     Images  Instances      Box(P          R      mAP50  mAP50-95)     Mask(P          R      mAP50  mAP50-95): 100%|██████████| 1/1 [00:00<00:00, 17.11it/s]"
          ]
        },
        {
          "output_type": "stream",
          "name": "stdout",
          "text": [
            "                   all          4         24      0.686      0.729      0.817       0.62      0.852      0.583      0.782      0.316\n"
          ]
        },
        {
          "output_type": "stream",
          "name": "stderr",
          "text": [
            "\n"
          ]
        },
        {
          "output_type": "stream",
          "name": "stdout",
          "text": [
            "\n",
            "      Epoch    GPU_mem   box_loss   seg_loss   cls_loss   dfl_loss  Instances       Size\n"
          ]
        },
        {
          "output_type": "stream",
          "name": "stderr",
          "text": [
            "     62/100     0.958G     0.9028       1.09     0.6837     0.8203         33        224: 100%|██████████| 14/14 [00:01<00:00,  9.93it/s]\n",
            "                 Class     Images  Instances      Box(P          R      mAP50  mAP50-95)     Mask(P          R      mAP50  mAP50-95): 100%|██████████| 1/1 [00:00<00:00, 14.54it/s]"
          ]
        },
        {
          "output_type": "stream",
          "name": "stdout",
          "text": [
            "                   all          4         24      0.686      0.729      0.817       0.62      0.852      0.583      0.782      0.316\n"
          ]
        },
        {
          "output_type": "stream",
          "name": "stderr",
          "text": [
            "\n"
          ]
        },
        {
          "output_type": "stream",
          "name": "stdout",
          "text": [
            "\n",
            "      Epoch    GPU_mem   box_loss   seg_loss   cls_loss   dfl_loss  Instances       Size\n"
          ]
        },
        {
          "output_type": "stream",
          "name": "stderr",
          "text": [
            "     63/100      0.96G     0.8864      1.088     0.7469     0.7967         17        224: 100%|██████████| 14/14 [00:01<00:00, 10.16it/s]\n",
            "                 Class     Images  Instances      Box(P          R      mAP50  mAP50-95)     Mask(P          R      mAP50  mAP50-95): 100%|██████████| 1/1 [00:00<00:00, 15.86it/s]"
          ]
        },
        {
          "output_type": "stream",
          "name": "stdout",
          "text": [
            "                   all          4         24      0.794      0.667      0.821       0.64      0.742      0.625      0.745      0.299\n"
          ]
        },
        {
          "output_type": "stream",
          "name": "stderr",
          "text": [
            "\n"
          ]
        },
        {
          "output_type": "stream",
          "name": "stdout",
          "text": [
            "\n",
            "      Epoch    GPU_mem   box_loss   seg_loss   cls_loss   dfl_loss  Instances       Size\n"
          ]
        },
        {
          "output_type": "stream",
          "name": "stderr",
          "text": [
            "     64/100      0.96G     0.9809      1.051      0.743      0.811         13        224: 100%|██████████| 14/14 [00:01<00:00, 10.16it/s]\n",
            "                 Class     Images  Instances      Box(P          R      mAP50  mAP50-95)     Mask(P          R      mAP50  mAP50-95): 100%|██████████| 1/1 [00:00<00:00, 18.05it/s]"
          ]
        },
        {
          "output_type": "stream",
          "name": "stdout",
          "text": [
            "                   all          4         24      0.817      0.667      0.829      0.628      0.817      0.667      0.815      0.328\n"
          ]
        },
        {
          "output_type": "stream",
          "name": "stderr",
          "text": [
            "\n"
          ]
        },
        {
          "output_type": "stream",
          "name": "stdout",
          "text": [
            "\n",
            "      Epoch    GPU_mem   box_loss   seg_loss   cls_loss   dfl_loss  Instances       Size\n"
          ]
        },
        {
          "output_type": "stream",
          "name": "stderr",
          "text": [
            "     65/100      0.96G     0.8934      1.119     0.6418     0.8193         19        224: 100%|██████████| 14/14 [00:01<00:00, 10.03it/s]\n",
            "                 Class     Images  Instances      Box(P          R      mAP50  mAP50-95)     Mask(P          R      mAP50  mAP50-95): 100%|██████████| 1/1 [00:00<00:00, 18.18it/s]"
          ]
        },
        {
          "output_type": "stream",
          "name": "stdout",
          "text": [
            "                   all          4         24      0.897      0.625       0.85      0.646      0.897      0.625      0.832      0.317\n"
          ]
        },
        {
          "output_type": "stream",
          "name": "stderr",
          "text": [
            "\n"
          ]
        },
        {
          "output_type": "stream",
          "name": "stdout",
          "text": [
            "\n",
            "      Epoch    GPU_mem   box_loss   seg_loss   cls_loss   dfl_loss  Instances       Size\n"
          ]
        },
        {
          "output_type": "stream",
          "name": "stderr",
          "text": [
            "     66/100      0.96G     0.9156     0.8822     0.6912     0.7871         11        224: 100%|██████████| 14/14 [00:01<00:00, 10.08it/s]\n",
            "                 Class     Images  Instances      Box(P          R      mAP50  mAP50-95)     Mask(P          R      mAP50  mAP50-95): 100%|██████████| 1/1 [00:00<00:00, 17.81it/s]"
          ]
        },
        {
          "output_type": "stream",
          "name": "stdout",
          "text": [
            "                   all          4         24      0.677      0.875      0.854      0.626      0.916      0.625      0.792      0.302\n"
          ]
        },
        {
          "output_type": "stream",
          "name": "stderr",
          "text": [
            "\n"
          ]
        },
        {
          "output_type": "stream",
          "name": "stdout",
          "text": [
            "\n",
            "      Epoch    GPU_mem   box_loss   seg_loss   cls_loss   dfl_loss  Instances       Size\n"
          ]
        },
        {
          "output_type": "stream",
          "name": "stderr",
          "text": [
            "     67/100      0.96G     0.8457     0.9041     0.5968     0.7983         17        224: 100%|██████████| 14/14 [00:01<00:00,  9.96it/s]\n",
            "                 Class     Images  Instances      Box(P          R      mAP50  mAP50-95)     Mask(P          R      mAP50  mAP50-95): 100%|██████████| 1/1 [00:00<00:00, 17.34it/s]"
          ]
        },
        {
          "output_type": "stream",
          "name": "stdout",
          "text": [
            "                   all          4         24      0.693      0.846      0.863      0.616      0.926      0.625      0.803        0.3\n"
          ]
        },
        {
          "output_type": "stream",
          "name": "stderr",
          "text": [
            "\n"
          ]
        },
        {
          "output_type": "stream",
          "name": "stdout",
          "text": [
            "\n",
            "      Epoch    GPU_mem   box_loss   seg_loss   cls_loss   dfl_loss  Instances       Size\n"
          ]
        },
        {
          "output_type": "stream",
          "name": "stderr",
          "text": [
            "     68/100     0.958G     0.9222      1.139     0.6684     0.8189         15        224: 100%|██████████| 14/14 [00:01<00:00,  9.81it/s]\n",
            "                 Class     Images  Instances      Box(P          R      mAP50  mAP50-95)     Mask(P          R      mAP50  mAP50-95): 100%|██████████| 1/1 [00:00<00:00, 18.22it/s]"
          ]
        },
        {
          "output_type": "stream",
          "name": "stdout",
          "text": [
            "                   all          4         24      0.716      0.833      0.868       0.61      0.937      0.618      0.814      0.308\n"
          ]
        },
        {
          "output_type": "stream",
          "name": "stderr",
          "text": [
            "\n"
          ]
        },
        {
          "output_type": "stream",
          "name": "stdout",
          "text": [
            "\n",
            "      Epoch    GPU_mem   box_loss   seg_loss   cls_loss   dfl_loss  Instances       Size\n"
          ]
        },
        {
          "output_type": "stream",
          "name": "stderr",
          "text": [
            "     69/100     0.958G     0.9036     0.9036     0.7169     0.8289         10        224: 100%|██████████| 14/14 [00:01<00:00,  9.96it/s]\n",
            "                 Class     Images  Instances      Box(P          R      mAP50  mAP50-95)     Mask(P          R      mAP50  mAP50-95): 100%|██████████| 1/1 [00:00<00:00, 18.39it/s]\n"
          ]
        },
        {
          "output_type": "stream",
          "name": "stdout",
          "text": [
            "                   all          4         24      0.855      0.735      0.871      0.616      0.855      0.735      0.814      0.317\n",
            "\n",
            "      Epoch    GPU_mem   box_loss   seg_loss   cls_loss   dfl_loss  Instances       Size\n"
          ]
        },
        {
          "output_type": "stream",
          "name": "stderr",
          "text": [
            "     70/100     0.956G     0.7966     0.8541     0.5765     0.8184         21        224: 100%|██████████| 14/14 [00:01<00:00, 10.49it/s]\n",
            "                 Class     Images  Instances      Box(P          R      mAP50  mAP50-95)     Mask(P          R      mAP50  mAP50-95): 100%|██████████| 1/1 [00:00<00:00, 17.90it/s]"
          ]
        },
        {
          "output_type": "stream",
          "name": "stdout",
          "text": [
            "                   all          4         24      0.855      0.735      0.871      0.616      0.855      0.735      0.814      0.317\n"
          ]
        },
        {
          "output_type": "stream",
          "name": "stderr",
          "text": [
            "\n"
          ]
        },
        {
          "output_type": "stream",
          "name": "stdout",
          "text": [
            "\n",
            "      Epoch    GPU_mem   box_loss   seg_loss   cls_loss   dfl_loss  Instances       Size\n"
          ]
        },
        {
          "output_type": "stream",
          "name": "stderr",
          "text": [
            "     71/100     0.956G     0.8791     0.8744     0.6914     0.8042         11        224: 100%|██████████| 14/14 [00:01<00:00,  9.90it/s]\n",
            "                 Class     Images  Instances      Box(P          R      mAP50  mAP50-95)     Mask(P          R      mAP50  mAP50-95): 100%|██████████| 1/1 [00:00<00:00, 17.78it/s]"
          ]
        },
        {
          "output_type": "stream",
          "name": "stdout",
          "text": [
            "                   all          4         24      0.668      0.667      0.679      0.475      0.668      0.667      0.676      0.252\n"
          ]
        },
        {
          "output_type": "stream",
          "name": "stderr",
          "text": [
            "\n"
          ]
        },
        {
          "output_type": "stream",
          "name": "stdout",
          "text": [
            "\n",
            "      Epoch    GPU_mem   box_loss   seg_loss   cls_loss   dfl_loss  Instances       Size\n"
          ]
        },
        {
          "output_type": "stream",
          "name": "stderr",
          "text": [
            "     72/100     0.958G     0.8574      1.107     0.6487     0.7852         22        224: 100%|██████████| 14/14 [00:01<00:00, 10.07it/s]\n",
            "                 Class     Images  Instances      Box(P          R      mAP50  mAP50-95)     Mask(P          R      mAP50  mAP50-95): 100%|██████████| 1/1 [00:00<00:00, 17.94it/s]"
          ]
        },
        {
          "output_type": "stream",
          "name": "stdout",
          "text": [
            "                   all          4         24      0.642        0.5      0.529      0.372      0.603      0.458      0.473      0.178\n"
          ]
        },
        {
          "output_type": "stream",
          "name": "stderr",
          "text": [
            "\n"
          ]
        },
        {
          "output_type": "stream",
          "name": "stdout",
          "text": [
            "\n",
            "      Epoch    GPU_mem   box_loss   seg_loss   cls_loss   dfl_loss  Instances       Size\n"
          ]
        },
        {
          "output_type": "stream",
          "name": "stderr",
          "text": [
            "     73/100      0.96G     0.9365     0.8562     0.6977     0.8096          9        224: 100%|██████████| 14/14 [00:01<00:00, 10.03it/s]\n",
            "                 Class     Images  Instances      Box(P          R      mAP50  mAP50-95)     Mask(P          R      mAP50  mAP50-95): 100%|██████████| 1/1 [00:00<00:00, 18.01it/s]"
          ]
        },
        {
          "output_type": "stream",
          "name": "stdout",
          "text": [
            "                   all          4         24      0.706      0.702      0.725      0.545      0.706      0.702      0.722      0.293\n"
          ]
        },
        {
          "output_type": "stream",
          "name": "stderr",
          "text": [
            "\n"
          ]
        },
        {
          "output_type": "stream",
          "name": "stdout",
          "text": [
            "\n",
            "      Epoch    GPU_mem   box_loss   seg_loss   cls_loss   dfl_loss  Instances       Size\n"
          ]
        },
        {
          "output_type": "stream",
          "name": "stderr",
          "text": [
            "     74/100      0.96G     0.8188      1.024     0.6161     0.8018         12        224: 100%|██████████| 14/14 [00:01<00:00,  9.42it/s]\n",
            "                 Class     Images  Instances      Box(P          R      mAP50  mAP50-95)     Mask(P          R      mAP50  mAP50-95): 100%|██████████| 1/1 [00:00<00:00, 17.77it/s]"
          ]
        },
        {
          "output_type": "stream",
          "name": "stdout",
          "text": [
            "                   all          4         24       0.69      0.792      0.756      0.579       0.69      0.792      0.753      0.287\n"
          ]
        },
        {
          "output_type": "stream",
          "name": "stderr",
          "text": [
            "\n"
          ]
        },
        {
          "output_type": "stream",
          "name": "stdout",
          "text": [
            "\n",
            "      Epoch    GPU_mem   box_loss   seg_loss   cls_loss   dfl_loss  Instances       Size\n"
          ]
        },
        {
          "output_type": "stream",
          "name": "stderr",
          "text": [
            "     75/100     0.958G     0.8819     0.9181     0.6856     0.7864         25        224: 100%|██████████| 14/14 [00:01<00:00,  9.87it/s]\n",
            "                 Class     Images  Instances      Box(P          R      mAP50  mAP50-95)     Mask(P          R      mAP50  mAP50-95): 100%|██████████| 1/1 [00:00<00:00, 16.74it/s]"
          ]
        },
        {
          "output_type": "stream",
          "name": "stdout",
          "text": [
            "                   all          4         24       0.68      0.792       0.76      0.587       0.68      0.792      0.757      0.307\n"
          ]
        },
        {
          "output_type": "stream",
          "name": "stderr",
          "text": [
            "\n"
          ]
        },
        {
          "output_type": "stream",
          "name": "stdout",
          "text": [
            "\n",
            "      Epoch    GPU_mem   box_loss   seg_loss   cls_loss   dfl_loss  Instances       Size\n"
          ]
        },
        {
          "output_type": "stream",
          "name": "stderr",
          "text": [
            "     76/100      0.96G     0.9027      1.203     0.8162     0.8006         18        224: 100%|██████████| 14/14 [00:01<00:00, 10.36it/s]\n",
            "                 Class     Images  Instances      Box(P          R      mAP50  mAP50-95)     Mask(P          R      mAP50  mAP50-95): 100%|██████████| 1/1 [00:00<00:00, 18.01it/s]"
          ]
        },
        {
          "output_type": "stream",
          "name": "stdout",
          "text": [
            "                   all          4         24      0.679      0.833       0.88      0.693      0.665      0.792      0.801      0.313\n"
          ]
        },
        {
          "output_type": "stream",
          "name": "stderr",
          "text": [
            "\n"
          ]
        },
        {
          "output_type": "stream",
          "name": "stdout",
          "text": [
            "\n",
            "      Epoch    GPU_mem   box_loss   seg_loss   cls_loss   dfl_loss  Instances       Size\n"
          ]
        },
        {
          "output_type": "stream",
          "name": "stderr",
          "text": [
            "     77/100     0.958G     0.8361       1.11     0.6409      0.791         13        224: 100%|██████████| 14/14 [00:01<00:00, 10.34it/s]\n",
            "                 Class     Images  Instances      Box(P          R      mAP50  mAP50-95)     Mask(P          R      mAP50  mAP50-95): 100%|██████████| 1/1 [00:00<00:00, 17.52it/s]"
          ]
        },
        {
          "output_type": "stream",
          "name": "stdout",
          "text": [
            "                   all          4         24      0.836      0.667      0.819      0.628      0.836      0.667       0.76      0.286\n"
          ]
        },
        {
          "output_type": "stream",
          "name": "stderr",
          "text": [
            "\n"
          ]
        },
        {
          "output_type": "stream",
          "name": "stdout",
          "text": [
            "\n",
            "      Epoch    GPU_mem   box_loss   seg_loss   cls_loss   dfl_loss  Instances       Size\n"
          ]
        },
        {
          "output_type": "stream",
          "name": "stderr",
          "text": [
            "     78/100      0.96G      0.897     0.8496     0.6659      0.813         22        224: 100%|██████████| 14/14 [00:01<00:00, 10.59it/s]\n",
            "                 Class     Images  Instances      Box(P          R      mAP50  mAP50-95)     Mask(P          R      mAP50  mAP50-95): 100%|██████████| 1/1 [00:00<00:00, 17.91it/s]"
          ]
        },
        {
          "output_type": "stream",
          "name": "stdout",
          "text": [
            "                   all          4         24      0.836      0.667      0.819      0.628      0.836      0.667       0.76      0.286\n"
          ]
        },
        {
          "output_type": "stream",
          "name": "stderr",
          "text": [
            "\n"
          ]
        },
        {
          "output_type": "stream",
          "name": "stdout",
          "text": [
            "\n",
            "      Epoch    GPU_mem   box_loss   seg_loss   cls_loss   dfl_loss  Instances       Size\n"
          ]
        },
        {
          "output_type": "stream",
          "name": "stderr",
          "text": [
            "     79/100     0.979G     0.8306     0.7889     0.6229     0.7895         14        224: 100%|██████████| 14/14 [00:01<00:00, 10.30it/s]\n",
            "                 Class     Images  Instances      Box(P          R      mAP50  mAP50-95)     Mask(P          R      mAP50  mAP50-95): 100%|██████████| 1/1 [00:00<00:00, 17.39it/s]"
          ]
        },
        {
          "output_type": "stream",
          "name": "stdout",
          "text": [
            "                   all          4         24       0.76       0.75       0.87      0.695      0.766       0.75      0.852      0.342\n"
          ]
        },
        {
          "output_type": "stream",
          "name": "stderr",
          "text": [
            "\n"
          ]
        },
        {
          "output_type": "stream",
          "name": "stdout",
          "text": [
            "\n",
            "      Epoch    GPU_mem   box_loss   seg_loss   cls_loss   dfl_loss  Instances       Size\n"
          ]
        },
        {
          "output_type": "stream",
          "name": "stderr",
          "text": [
            "     80/100     0.956G     0.8419     0.9334     0.6254     0.7855         21        224: 100%|██████████| 14/14 [00:01<00:00,  9.73it/s]\n",
            "                 Class     Images  Instances      Box(P          R      mAP50  mAP50-95)     Mask(P          R      mAP50  mAP50-95): 100%|██████████| 1/1 [00:00<00:00, 18.08it/s]"
          ]
        },
        {
          "output_type": "stream",
          "name": "stdout",
          "text": [
            "                   all          4         24      0.794       0.75      0.877      0.695      0.796       0.75      0.859      0.346\n"
          ]
        },
        {
          "output_type": "stream",
          "name": "stderr",
          "text": [
            "\n"
          ]
        },
        {
          "output_type": "stream",
          "name": "stdout",
          "text": [
            "\n",
            "      Epoch    GPU_mem   box_loss   seg_loss   cls_loss   dfl_loss  Instances       Size\n"
          ]
        },
        {
          "output_type": "stream",
          "name": "stderr",
          "text": [
            "     81/100     0.956G     0.9547      1.016     0.7817     0.8076         15        224: 100%|██████████| 14/14 [00:01<00:00,  9.85it/s]\n",
            "                 Class     Images  Instances      Box(P          R      mAP50  mAP50-95)     Mask(P          R      mAP50  mAP50-95): 100%|██████████| 1/1 [00:00<00:00, 18.21it/s]"
          ]
        },
        {
          "output_type": "stream",
          "name": "stdout",
          "text": [
            "                   all          4         24      0.772       0.75      0.876      0.694      0.772       0.75      0.858      0.351\n"
          ]
        },
        {
          "output_type": "stream",
          "name": "stderr",
          "text": [
            "\n"
          ]
        },
        {
          "output_type": "stream",
          "name": "stdout",
          "text": [
            "\n",
            "      Epoch    GPU_mem   box_loss   seg_loss   cls_loss   dfl_loss  Instances       Size\n"
          ]
        },
        {
          "output_type": "stream",
          "name": "stderr",
          "text": [
            "     82/100     0.958G     0.8712       1.05     0.6407     0.8035         14        224: 100%|██████████| 14/14 [00:01<00:00,  9.98it/s]\n",
            "                 Class     Images  Instances      Box(P          R      mAP50  mAP50-95)     Mask(P          R      mAP50  mAP50-95): 100%|██████████| 1/1 [00:00<00:00, 17.87it/s]"
          ]
        },
        {
          "output_type": "stream",
          "name": "stdout",
          "text": [
            "                   all          4         24      0.761      0.795      0.883      0.695      0.766      0.792      0.863      0.383\n"
          ]
        },
        {
          "output_type": "stream",
          "name": "stderr",
          "text": [
            "\n"
          ]
        },
        {
          "output_type": "stream",
          "name": "stdout",
          "text": [
            "\n",
            "      Epoch    GPU_mem   box_loss   seg_loss   cls_loss   dfl_loss  Instances       Size\n"
          ]
        },
        {
          "output_type": "stream",
          "name": "stderr",
          "text": [
            "     83/100      0.96G     0.9097      1.107     0.6731     0.8017         18        224: 100%|██████████| 14/14 [00:01<00:00, 10.22it/s]\n",
            "                 Class     Images  Instances      Box(P          R      mAP50  mAP50-95)     Mask(P          R      mAP50  mAP50-95): 100%|██████████| 1/1 [00:00<00:00, 18.18it/s]"
          ]
        },
        {
          "output_type": "stream",
          "name": "stdout",
          "text": [
            "                   all          4         24      0.757       0.75      0.884      0.676      0.757       0.75      0.863      0.309\n"
          ]
        },
        {
          "output_type": "stream",
          "name": "stderr",
          "text": [
            "\n"
          ]
        },
        {
          "output_type": "stream",
          "name": "stdout",
          "text": [
            "\n",
            "      Epoch    GPU_mem   box_loss   seg_loss   cls_loss   dfl_loss  Instances       Size\n"
          ]
        },
        {
          "output_type": "stream",
          "name": "stderr",
          "text": [
            "     84/100     0.958G     0.9143      1.072     0.7339     0.7959         16        224: 100%|██████████| 14/14 [00:01<00:00, 10.04it/s]\n",
            "                 Class     Images  Instances      Box(P          R      mAP50  mAP50-95)     Mask(P          R      mAP50  mAP50-95): 100%|██████████| 1/1 [00:00<00:00, 17.61it/s]"
          ]
        },
        {
          "output_type": "stream",
          "name": "stdout",
          "text": [
            "                   all          4         24       0.76       0.79      0.874       0.66       0.76       0.79      0.848      0.312\n"
          ]
        },
        {
          "output_type": "stream",
          "name": "stderr",
          "text": [
            "\n"
          ]
        },
        {
          "output_type": "stream",
          "name": "stdout",
          "text": [
            "\n",
            "      Epoch    GPU_mem   box_loss   seg_loss   cls_loss   dfl_loss  Instances       Size\n"
          ]
        },
        {
          "output_type": "stream",
          "name": "stderr",
          "text": [
            "     85/100     0.958G     0.8707     0.9952     0.5958     0.7993         11        224: 100%|██████████| 14/14 [00:01<00:00, 10.26it/s]\n",
            "                 Class     Images  Instances      Box(P          R      mAP50  mAP50-95)     Mask(P          R      mAP50  mAP50-95): 100%|██████████| 1/1 [00:00<00:00, 18.15it/s]"
          ]
        },
        {
          "output_type": "stream",
          "name": "stdout",
          "text": [
            "                   all          4         24      0.733      0.802      0.798      0.604      0.733      0.802      0.792      0.289\n"
          ]
        },
        {
          "output_type": "stream",
          "name": "stderr",
          "text": [
            "\n"
          ]
        },
        {
          "output_type": "stream",
          "name": "stdout",
          "text": [
            "\n",
            "      Epoch    GPU_mem   box_loss   seg_loss   cls_loss   dfl_loss  Instances       Size\n"
          ]
        },
        {
          "output_type": "stream",
          "name": "stderr",
          "text": [
            "     86/100      0.96G     0.8724      1.045     0.5906     0.7978         21        224: 100%|██████████| 14/14 [00:01<00:00,  9.83it/s]\n",
            "                 Class     Images  Instances      Box(P          R      mAP50  mAP50-95)     Mask(P          R      mAP50  mAP50-95): 100%|██████████| 1/1 [00:00<00:00, 14.88it/s]"
          ]
        },
        {
          "output_type": "stream",
          "name": "stdout",
          "text": [
            "                   all          4         24      0.733      0.802      0.798      0.604      0.733      0.802      0.792      0.289\n"
          ]
        },
        {
          "output_type": "stream",
          "name": "stderr",
          "text": [
            "\n"
          ]
        },
        {
          "output_type": "stream",
          "name": "stdout",
          "text": [
            "\n",
            "      Epoch    GPU_mem   box_loss   seg_loss   cls_loss   dfl_loss  Instances       Size\n"
          ]
        },
        {
          "output_type": "stream",
          "name": "stderr",
          "text": [
            "     87/100      0.96G     0.8158      0.804     0.6852     0.7719         17        224: 100%|██████████| 14/14 [00:01<00:00,  9.42it/s]\n",
            "                 Class     Images  Instances      Box(P          R      mAP50  mAP50-95)     Mask(P          R      mAP50  mAP50-95): 100%|██████████| 1/1 [00:00<00:00, 17.45it/s]"
          ]
        },
        {
          "output_type": "stream",
          "name": "stdout",
          "text": [
            "                   all          4         24       0.75      0.874      0.892      0.693       0.75      0.874      0.871      0.288\n"
          ]
        },
        {
          "output_type": "stream",
          "name": "stderr",
          "text": [
            "\n"
          ]
        },
        {
          "output_type": "stream",
          "name": "stdout",
          "text": [
            "\n",
            "      Epoch    GPU_mem   box_loss   seg_loss   cls_loss   dfl_loss  Instances       Size\n"
          ]
        },
        {
          "output_type": "stream",
          "name": "stderr",
          "text": [
            "     88/100      0.96G     0.8848     0.9097      0.688     0.7957         24        224: 100%|██████████| 14/14 [00:01<00:00, 10.10it/s]\n",
            "                 Class     Images  Instances      Box(P          R      mAP50  mAP50-95)     Mask(P          R      mAP50  mAP50-95): 100%|██████████| 1/1 [00:00<00:00, 17.70it/s]"
          ]
        },
        {
          "output_type": "stream",
          "name": "stdout",
          "text": [
            "                   all          4         24      0.763      0.833      0.882      0.684      0.763      0.833      0.863      0.309\n"
          ]
        },
        {
          "output_type": "stream",
          "name": "stderr",
          "text": [
            "\n"
          ]
        },
        {
          "output_type": "stream",
          "name": "stdout",
          "text": [
            "\n",
            "      Epoch    GPU_mem   box_loss   seg_loss   cls_loss   dfl_loss  Instances       Size\n"
          ]
        },
        {
          "output_type": "stream",
          "name": "stderr",
          "text": [
            "     89/100     0.958G       0.92     0.8664     0.6424     0.8058          8        224: 100%|██████████| 14/14 [00:01<00:00, 10.17it/s]\n",
            "                 Class     Images  Instances      Box(P          R      mAP50  mAP50-95)     Mask(P          R      mAP50  mAP50-95): 100%|██████████| 1/1 [00:00<00:00, 17.70it/s]"
          ]
        },
        {
          "output_type": "stream",
          "name": "stdout",
          "text": [
            "                   all          4         24      0.787      0.875       0.88      0.695      0.787      0.875      0.864      0.376\n"
          ]
        },
        {
          "output_type": "stream",
          "name": "stderr",
          "text": [
            "\n"
          ]
        },
        {
          "output_type": "stream",
          "name": "stdout",
          "text": [
            "\n",
            "      Epoch    GPU_mem   box_loss   seg_loss   cls_loss   dfl_loss  Instances       Size\n"
          ]
        },
        {
          "output_type": "stream",
          "name": "stderr",
          "text": [
            "     90/100      0.96G     0.8274     0.8994     0.6108     0.8125          9        224: 100%|██████████| 14/14 [00:01<00:00, 10.07it/s]\n",
            "                 Class     Images  Instances      Box(P          R      mAP50  mAP50-95)     Mask(P          R      mAP50  mAP50-95): 100%|██████████| 1/1 [00:00<00:00, 17.30it/s]"
          ]
        },
        {
          "output_type": "stream",
          "name": "stdout",
          "text": [
            "                   all          4         24      0.793      0.792      0.867      0.681      0.793      0.792       0.85      0.329\n"
          ]
        },
        {
          "output_type": "stream",
          "name": "stderr",
          "text": [
            "\n"
          ]
        },
        {
          "output_type": "stream",
          "name": "stdout",
          "text": [
            "Closing dataloader mosaic\n",
            "\u001b[34m\u001b[1malbumentations: \u001b[0mBlur(p=0.01, blur_limit=(3, 7)), MedianBlur(p=0.01, blur_limit=(3, 7)), ToGray(p=0.01, num_output_channels=3, method='weighted_average'), CLAHE(p=0.01, clip_limit=(1.0, 4.0), tile_grid_size=(8, 8))\n",
            "\n",
            "      Epoch    GPU_mem   box_loss   seg_loss   cls_loss   dfl_loss  Instances       Size\n"
          ]
        },
        {
          "output_type": "stream",
          "name": "stderr",
          "text": [
            "     91/100      0.96G     0.7639      1.008     0.6402     0.7931         12        224: 100%|██████████| 14/14 [00:01<00:00,  8.65it/s]\n",
            "                 Class     Images  Instances      Box(P          R      mAP50  mAP50-95)     Mask(P          R      mAP50  mAP50-95): 100%|██████████| 1/1 [00:00<00:00, 15.93it/s]\n"
          ]
        },
        {
          "output_type": "stream",
          "name": "stdout",
          "text": [
            "                   all          4         24      0.736      0.875      0.853      0.676      0.736      0.875      0.836      0.364\n",
            "\n",
            "      Epoch    GPU_mem   box_loss   seg_loss   cls_loss   dfl_loss  Instances       Size\n"
          ]
        },
        {
          "output_type": "stream",
          "name": "stderr",
          "text": [
            "     92/100     0.958G     0.8164      1.068      0.653     0.7976         10        224: 100%|██████████| 14/14 [00:01<00:00,  9.97it/s]\n",
            "                 Class     Images  Instances      Box(P          R      mAP50  mAP50-95)     Mask(P          R      mAP50  mAP50-95): 100%|██████████| 1/1 [00:00<00:00, 14.60it/s]"
          ]
        },
        {
          "output_type": "stream",
          "name": "stdout",
          "text": [
            "                   all          4         24       0.74      0.831      0.846      0.678       0.74      0.831      0.829       0.34\n"
          ]
        },
        {
          "output_type": "stream",
          "name": "stderr",
          "text": [
            "\n"
          ]
        },
        {
          "output_type": "stream",
          "name": "stdout",
          "text": [
            "\n",
            "      Epoch    GPU_mem   box_loss   seg_loss   cls_loss   dfl_loss  Instances       Size\n"
          ]
        },
        {
          "output_type": "stream",
          "name": "stderr",
          "text": [
            "     93/100     0.958G     0.7551     0.8095     0.6409     0.8023         22        224: 100%|██████████| 14/14 [00:01<00:00,  9.89it/s]\n",
            "                 Class     Images  Instances      Box(P          R      mAP50  mAP50-95)     Mask(P          R      mAP50  mAP50-95): 100%|██████████| 1/1 [00:00<00:00, 18.34it/s]"
          ]
        },
        {
          "output_type": "stream",
          "name": "stdout",
          "text": [
            "                   all          4         24      0.747      0.875       0.84      0.673      0.747      0.875      0.826      0.363\n"
          ]
        },
        {
          "output_type": "stream",
          "name": "stderr",
          "text": [
            "\n"
          ]
        },
        {
          "output_type": "stream",
          "name": "stdout",
          "text": [
            "\n",
            "      Epoch    GPU_mem   box_loss   seg_loss   cls_loss   dfl_loss  Instances       Size\n"
          ]
        },
        {
          "output_type": "stream",
          "name": "stderr",
          "text": [
            "     94/100      0.96G     0.7548     0.8738     0.5602     0.8103          6        224: 100%|██████████| 14/14 [00:01<00:00, 10.17it/s]\n",
            "                 Class     Images  Instances      Box(P          R      mAP50  mAP50-95)     Mask(P          R      mAP50  mAP50-95): 100%|██████████| 1/1 [00:00<00:00, 18.18it/s]"
          ]
        },
        {
          "output_type": "stream",
          "name": "stdout",
          "text": [
            "                   all          4         24      0.747      0.875       0.84      0.673      0.747      0.875      0.826      0.363\n"
          ]
        },
        {
          "output_type": "stream",
          "name": "stderr",
          "text": [
            "\n"
          ]
        },
        {
          "output_type": "stream",
          "name": "stdout",
          "text": [
            "\n",
            "      Epoch    GPU_mem   box_loss   seg_loss   cls_loss   dfl_loss  Instances       Size\n"
          ]
        },
        {
          "output_type": "stream",
          "name": "stderr",
          "text": [
            "     95/100     0.958G     0.8059     0.8141     0.6167     0.8089         13        224: 100%|██████████| 14/14 [00:01<00:00, 10.42it/s]\n",
            "                 Class     Images  Instances      Box(P          R      mAP50  mAP50-95)     Mask(P          R      mAP50  mAP50-95): 100%|██████████| 1/1 [00:00<00:00, 17.57it/s]"
          ]
        },
        {
          "output_type": "stream",
          "name": "stdout",
          "text": [
            "                   all          4         24      0.746      0.858      0.845      0.664      0.746      0.858      0.834      0.366\n"
          ]
        },
        {
          "output_type": "stream",
          "name": "stderr",
          "text": [
            "\n"
          ]
        },
        {
          "output_type": "stream",
          "name": "stdout",
          "text": [
            "\n",
            "      Epoch    GPU_mem   box_loss   seg_loss   cls_loss   dfl_loss  Instances       Size\n"
          ]
        },
        {
          "output_type": "stream",
          "name": "stderr",
          "text": [
            "     96/100     0.958G     0.8017     0.8114      0.619     0.8185         18        224: 100%|██████████| 14/14 [00:01<00:00, 10.36it/s]\n",
            "                 Class     Images  Instances      Box(P          R      mAP50  mAP50-95)     Mask(P          R      mAP50  mAP50-95): 100%|██████████| 1/1 [00:00<00:00, 17.86it/s]"
          ]
        },
        {
          "output_type": "stream",
          "name": "stdout",
          "text": [
            "                   all          4         24      0.742       0.84      0.847      0.666      0.742       0.84      0.835      0.353\n"
          ]
        },
        {
          "output_type": "stream",
          "name": "stderr",
          "text": [
            "\n"
          ]
        },
        {
          "output_type": "stream",
          "name": "stdout",
          "text": [
            "\n",
            "      Epoch    GPU_mem   box_loss   seg_loss   cls_loss   dfl_loss  Instances       Size\n"
          ]
        },
        {
          "output_type": "stream",
          "name": "stderr",
          "text": [
            "     97/100     0.958G     0.8121     0.9368     0.6303     0.7878          9        224: 100%|██████████| 14/14 [00:01<00:00, 10.41it/s]\n",
            "                 Class     Images  Instances      Box(P          R      mAP50  mAP50-95)     Mask(P          R      mAP50  mAP50-95): 100%|██████████| 1/1 [00:00<00:00, 17.32it/s]"
          ]
        },
        {
          "output_type": "stream",
          "name": "stdout",
          "text": [
            "                   all          4         24      0.736      0.815      0.847      0.678      0.736      0.815      0.836      0.377\n"
          ]
        },
        {
          "output_type": "stream",
          "name": "stderr",
          "text": [
            "\n"
          ]
        },
        {
          "output_type": "stream",
          "name": "stdout",
          "text": [
            "\n",
            "      Epoch    GPU_mem   box_loss   seg_loss   cls_loss   dfl_loss  Instances       Size\n"
          ]
        },
        {
          "output_type": "stream",
          "name": "stderr",
          "text": [
            "     98/100      0.96G     0.7746     0.8672     0.6072     0.8076          6        224: 100%|██████████| 14/14 [00:01<00:00, 10.25it/s]\n",
            "                 Class     Images  Instances      Box(P          R      mAP50  mAP50-95)     Mask(P          R      mAP50  mAP50-95): 100%|██████████| 1/1 [00:00<00:00, 17.62it/s]"
          ]
        },
        {
          "output_type": "stream",
          "name": "stdout",
          "text": [
            "                   all          4         24      0.732      0.796      0.849      0.661      0.732      0.796      0.839      0.376\n"
          ]
        },
        {
          "output_type": "stream",
          "name": "stderr",
          "text": [
            "\n"
          ]
        },
        {
          "output_type": "stream",
          "name": "stdout",
          "text": [
            "\n",
            "      Epoch    GPU_mem   box_loss   seg_loss   cls_loss   dfl_loss  Instances       Size\n"
          ]
        },
        {
          "output_type": "stream",
          "name": "stderr",
          "text": [
            "     99/100     0.958G     0.8419      0.906     0.6946     0.7979          7        224: 100%|██████████| 14/14 [00:01<00:00,  9.67it/s]\n",
            "                 Class     Images  Instances      Box(P          R      mAP50  mAP50-95)     Mask(P          R      mAP50  mAP50-95): 100%|██████████| 1/1 [00:00<00:00, 14.68it/s]"
          ]
        },
        {
          "output_type": "stream",
          "name": "stdout",
          "text": [
            "                   all          4         24      0.732      0.797      0.856      0.678      0.732      0.797      0.846      0.378\n"
          ]
        },
        {
          "output_type": "stream",
          "name": "stderr",
          "text": [
            "\n"
          ]
        },
        {
          "output_type": "stream",
          "name": "stdout",
          "text": [
            "\n",
            "      Epoch    GPU_mem   box_loss   seg_loss   cls_loss   dfl_loss  Instances       Size\n"
          ]
        },
        {
          "output_type": "stream",
          "name": "stderr",
          "text": [
            "    100/100      0.96G     0.7626      1.078     0.6484     0.7945          5        224: 100%|██████████| 14/14 [00:01<00:00,  9.75it/s]\n",
            "                 Class     Images  Instances      Box(P          R      mAP50  mAP50-95)     Mask(P          R      mAP50  mAP50-95): 100%|██████████| 1/1 [00:00<00:00, 17.62it/s]"
          ]
        },
        {
          "output_type": "stream",
          "name": "stdout",
          "text": [
            "                   all          4         24      0.736      0.816      0.864      0.683      0.736      0.816      0.854      0.381\n"
          ]
        },
        {
          "output_type": "stream",
          "name": "stderr",
          "text": [
            "\n"
          ]
        },
        {
          "output_type": "stream",
          "name": "stdout",
          "text": [
            "\n",
            "100 epochs completed in 0.074 hours.\n",
            "Optimizer stripped from runs/segment/train/weights/last.pt, 54.8MB\n",
            "Optimizer stripped from runs/segment/train/weights/best.pt, 54.8MB\n",
            "\n",
            "Validating runs/segment/train/weights/best.pt...\n",
            "Ultralytics 8.3.69 🚀 Python-3.11.11 torch-2.5.1+cu124 CUDA:0 (NVIDIA L4, 22693MiB)\n",
            "YOLOv8m-seg summary (fused): 245 layers, 27,222,963 parameters, 0 gradients, 110.0 GFLOPs\n"
          ]
        },
        {
          "output_type": "stream",
          "name": "stderr",
          "text": [
            "                 Class     Images  Instances      Box(P          R      mAP50  mAP50-95)     Mask(P          R      mAP50  mAP50-95): 100%|██████████| 1/1 [00:00<00:00, 23.68it/s]\n"
          ]
        },
        {
          "output_type": "stream",
          "name": "stdout",
          "text": [
            "                   all          4         24      0.761      0.796      0.883      0.695      0.766      0.792      0.863      0.383\n",
            "Speed: 0.1ms preprocess, 2.9ms inference, 0.0ms loss, 0.8ms postprocess per image\n",
            "Results saved to \u001b[1mruns/segment/train\u001b[0m\n"
          ]
        },
        {
          "output_type": "execute_result",
          "data": {
            "text/plain": [
              "ultralytics.utils.metrics.SegmentMetrics object with attributes:\n",
              "\n",
              "ap_class_index: array([0])\n",
              "box: ultralytics.utils.metrics.Metric object\n",
              "confusion_matrix: <ultralytics.utils.metrics.ConfusionMatrix object at 0x7ed67420a1d0>\n",
              "curves: ['Precision-Recall(B)', 'F1-Confidence(B)', 'Precision-Confidence(B)', 'Recall-Confidence(B)', 'Precision-Recall(M)', 'F1-Confidence(M)', 'Precision-Confidence(M)', 'Recall-Confidence(M)']\n",
              "curves_results: [[array([          0,    0.001001,    0.002002,    0.003003,    0.004004,    0.005005,    0.006006,    0.007007,    0.008008,    0.009009,     0.01001,    0.011011,    0.012012,    0.013013,    0.014014,    0.015015,    0.016016,    0.017017,    0.018018,    0.019019,     0.02002,    0.021021,    0.022022,    0.023023,\n",
              "          0.024024,    0.025025,    0.026026,    0.027027,    0.028028,    0.029029,     0.03003,    0.031031,    0.032032,    0.033033,    0.034034,    0.035035,    0.036036,    0.037037,    0.038038,    0.039039,     0.04004,    0.041041,    0.042042,    0.043043,    0.044044,    0.045045,    0.046046,    0.047047,\n",
              "          0.048048,    0.049049,     0.05005,    0.051051,    0.052052,    0.053053,    0.054054,    0.055055,    0.056056,    0.057057,    0.058058,    0.059059,     0.06006,    0.061061,    0.062062,    0.063063,    0.064064,    0.065065,    0.066066,    0.067067,    0.068068,    0.069069,     0.07007,    0.071071,\n",
              "          0.072072,    0.073073,    0.074074,    0.075075,    0.076076,    0.077077,    0.078078,    0.079079,     0.08008,    0.081081,    0.082082,    0.083083,    0.084084,    0.085085,    0.086086,    0.087087,    0.088088,    0.089089,     0.09009,    0.091091,    0.092092,    0.093093,    0.094094,    0.095095,\n",
              "          0.096096,    0.097097,    0.098098,    0.099099,      0.1001,      0.1011,      0.1021,      0.1031,      0.1041,     0.10511,     0.10611,     0.10711,     0.10811,     0.10911,     0.11011,     0.11111,     0.11211,     0.11311,     0.11411,     0.11512,     0.11612,     0.11712,     0.11812,     0.11912,\n",
              "           0.12012,     0.12112,     0.12212,     0.12312,     0.12412,     0.12513,     0.12613,     0.12713,     0.12813,     0.12913,     0.13013,     0.13113,     0.13213,     0.13313,     0.13413,     0.13514,     0.13614,     0.13714,     0.13814,     0.13914,     0.14014,     0.14114,     0.14214,     0.14314,\n",
              "           0.14414,     0.14515,     0.14615,     0.14715,     0.14815,     0.14915,     0.15015,     0.15115,     0.15215,     0.15315,     0.15415,     0.15516,     0.15616,     0.15716,     0.15816,     0.15916,     0.16016,     0.16116,     0.16216,     0.16316,     0.16416,     0.16517,     0.16617,     0.16717,\n",
              "           0.16817,     0.16917,     0.17017,     0.17117,     0.17217,     0.17317,     0.17417,     0.17518,     0.17618,     0.17718,     0.17818,     0.17918,     0.18018,     0.18118,     0.18218,     0.18318,     0.18418,     0.18519,     0.18619,     0.18719,     0.18819,     0.18919,     0.19019,     0.19119,\n",
              "           0.19219,     0.19319,     0.19419,      0.1952,      0.1962,      0.1972,      0.1982,      0.1992,      0.2002,      0.2012,      0.2022,      0.2032,      0.2042,     0.20521,     0.20621,     0.20721,     0.20821,     0.20921,     0.21021,     0.21121,     0.21221,     0.21321,     0.21421,     0.21522,\n",
              "           0.21622,     0.21722,     0.21822,     0.21922,     0.22022,     0.22122,     0.22222,     0.22322,     0.22422,     0.22523,     0.22623,     0.22723,     0.22823,     0.22923,     0.23023,     0.23123,     0.23223,     0.23323,     0.23423,     0.23524,     0.23624,     0.23724,     0.23824,     0.23924,\n",
              "           0.24024,     0.24124,     0.24224,     0.24324,     0.24424,     0.24525,     0.24625,     0.24725,     0.24825,     0.24925,     0.25025,     0.25125,     0.25225,     0.25325,     0.25425,     0.25526,     0.25626,     0.25726,     0.25826,     0.25926,     0.26026,     0.26126,     0.26226,     0.26326,\n",
              "           0.26426,     0.26527,     0.26627,     0.26727,     0.26827,     0.26927,     0.27027,     0.27127,     0.27227,     0.27327,     0.27427,     0.27528,     0.27628,     0.27728,     0.27828,     0.27928,     0.28028,     0.28128,     0.28228,     0.28328,     0.28428,     0.28529,     0.28629,     0.28729,\n",
              "           0.28829,     0.28929,     0.29029,     0.29129,     0.29229,     0.29329,     0.29429,      0.2953,      0.2963,      0.2973,      0.2983,      0.2993,      0.3003,      0.3013,      0.3023,      0.3033,      0.3043,     0.30531,     0.30631,     0.30731,     0.30831,     0.30931,     0.31031,     0.31131,\n",
              "           0.31231,     0.31331,     0.31431,     0.31532,     0.31632,     0.31732,     0.31832,     0.31932,     0.32032,     0.32132,     0.32232,     0.32332,     0.32432,     0.32533,     0.32633,     0.32733,     0.32833,     0.32933,     0.33033,     0.33133,     0.33233,     0.33333,     0.33433,     0.33534,\n",
              "           0.33634,     0.33734,     0.33834,     0.33934,     0.34034,     0.34134,     0.34234,     0.34334,     0.34434,     0.34535,     0.34635,     0.34735,     0.34835,     0.34935,     0.35035,     0.35135,     0.35235,     0.35335,     0.35435,     0.35536,     0.35636,     0.35736,     0.35836,     0.35936,\n",
              "           0.36036,     0.36136,     0.36236,     0.36336,     0.36436,     0.36537,     0.36637,     0.36737,     0.36837,     0.36937,     0.37037,     0.37137,     0.37237,     0.37337,     0.37437,     0.37538,     0.37638,     0.37738,     0.37838,     0.37938,     0.38038,     0.38138,     0.38238,     0.38338,\n",
              "           0.38438,     0.38539,     0.38639,     0.38739,     0.38839,     0.38939,     0.39039,     0.39139,     0.39239,     0.39339,     0.39439,      0.3954,      0.3964,      0.3974,      0.3984,      0.3994,      0.4004,      0.4014,      0.4024,      0.4034,      0.4044,     0.40541,     0.40641,     0.40741,\n",
              "           0.40841,     0.40941,     0.41041,     0.41141,     0.41241,     0.41341,     0.41441,     0.41542,     0.41642,     0.41742,     0.41842,     0.41942,     0.42042,     0.42142,     0.42242,     0.42342,     0.42442,     0.42543,     0.42643,     0.42743,     0.42843,     0.42943,     0.43043,     0.43143,\n",
              "           0.43243,     0.43343,     0.43443,     0.43544,     0.43644,     0.43744,     0.43844,     0.43944,     0.44044,     0.44144,     0.44244,     0.44344,     0.44444,     0.44545,     0.44645,     0.44745,     0.44845,     0.44945,     0.45045,     0.45145,     0.45245,     0.45345,     0.45445,     0.45546,\n",
              "           0.45646,     0.45746,     0.45846,     0.45946,     0.46046,     0.46146,     0.46246,     0.46346,     0.46446,     0.46547,     0.46647,     0.46747,     0.46847,     0.46947,     0.47047,     0.47147,     0.47247,     0.47347,     0.47447,     0.47548,     0.47648,     0.47748,     0.47848,     0.47948,\n",
              "           0.48048,     0.48148,     0.48248,     0.48348,     0.48448,     0.48549,     0.48649,     0.48749,     0.48849,     0.48949,     0.49049,     0.49149,     0.49249,     0.49349,     0.49449,      0.4955,      0.4965,      0.4975,      0.4985,      0.4995,      0.5005,      0.5015,      0.5025,      0.5035,\n",
              "            0.5045,     0.50551,     0.50651,     0.50751,     0.50851,     0.50951,     0.51051,     0.51151,     0.51251,     0.51351,     0.51451,     0.51552,     0.51652,     0.51752,     0.51852,     0.51952,     0.52052,     0.52152,     0.52252,     0.52352,     0.52452,     0.52553,     0.52653,     0.52753,\n",
              "           0.52853,     0.52953,     0.53053,     0.53153,     0.53253,     0.53353,     0.53453,     0.53554,     0.53654,     0.53754,     0.53854,     0.53954,     0.54054,     0.54154,     0.54254,     0.54354,     0.54454,     0.54555,     0.54655,     0.54755,     0.54855,     0.54955,     0.55055,     0.55155,\n",
              "           0.55255,     0.55355,     0.55455,     0.55556,     0.55656,     0.55756,     0.55856,     0.55956,     0.56056,     0.56156,     0.56256,     0.56356,     0.56456,     0.56557,     0.56657,     0.56757,     0.56857,     0.56957,     0.57057,     0.57157,     0.57257,     0.57357,     0.57457,     0.57558,\n",
              "           0.57658,     0.57758,     0.57858,     0.57958,     0.58058,     0.58158,     0.58258,     0.58358,     0.58458,     0.58559,     0.58659,     0.58759,     0.58859,     0.58959,     0.59059,     0.59159,     0.59259,     0.59359,     0.59459,      0.5956,      0.5966,      0.5976,      0.5986,      0.5996,\n",
              "            0.6006,      0.6016,      0.6026,      0.6036,      0.6046,     0.60561,     0.60661,     0.60761,     0.60861,     0.60961,     0.61061,     0.61161,     0.61261,     0.61361,     0.61461,     0.61562,     0.61662,     0.61762,     0.61862,     0.61962,     0.62062,     0.62162,     0.62262,     0.62362,\n",
              "           0.62462,     0.62563,     0.62663,     0.62763,     0.62863,     0.62963,     0.63063,     0.63163,     0.63263,     0.63363,     0.63463,     0.63564,     0.63664,     0.63764,     0.63864,     0.63964,     0.64064,     0.64164,     0.64264,     0.64364,     0.64464,     0.64565,     0.64665,     0.64765,\n",
              "           0.64865,     0.64965,     0.65065,     0.65165,     0.65265,     0.65365,     0.65465,     0.65566,     0.65666,     0.65766,     0.65866,     0.65966,     0.66066,     0.66166,     0.66266,     0.66366,     0.66466,     0.66567,     0.66667,     0.66767,     0.66867,     0.66967,     0.67067,     0.67167,\n",
              "           0.67267,     0.67367,     0.67467,     0.67568,     0.67668,     0.67768,     0.67868,     0.67968,     0.68068,     0.68168,     0.68268,     0.68368,     0.68468,     0.68569,     0.68669,     0.68769,     0.68869,     0.68969,     0.69069,     0.69169,     0.69269,     0.69369,     0.69469,      0.6957,\n",
              "            0.6967,      0.6977,      0.6987,      0.6997,      0.7007,      0.7017,      0.7027,      0.7037,      0.7047,     0.70571,     0.70671,     0.70771,     0.70871,     0.70971,     0.71071,     0.71171,     0.71271,     0.71371,     0.71471,     0.71572,     0.71672,     0.71772,     0.71872,     0.71972,\n",
              "           0.72072,     0.72172,     0.72272,     0.72372,     0.72472,     0.72573,     0.72673,     0.72773,     0.72873,     0.72973,     0.73073,     0.73173,     0.73273,     0.73373,     0.73473,     0.73574,     0.73674,     0.73774,     0.73874,     0.73974,     0.74074,     0.74174,     0.74274,     0.74374,\n",
              "           0.74474,     0.74575,     0.74675,     0.74775,     0.74875,     0.74975,     0.75075,     0.75175,     0.75275,     0.75375,     0.75475,     0.75576,     0.75676,     0.75776,     0.75876,     0.75976,     0.76076,     0.76176,     0.76276,     0.76376,     0.76476,     0.76577,     0.76677,     0.76777,\n",
              "           0.76877,     0.76977,     0.77077,     0.77177,     0.77277,     0.77377,     0.77477,     0.77578,     0.77678,     0.77778,     0.77878,     0.77978,     0.78078,     0.78178,     0.78278,     0.78378,     0.78478,     0.78579,     0.78679,     0.78779,     0.78879,     0.78979,     0.79079,     0.79179,\n",
              "           0.79279,     0.79379,     0.79479,      0.7958,      0.7968,      0.7978,      0.7988,      0.7998,      0.8008,      0.8018,      0.8028,      0.8038,      0.8048,     0.80581,     0.80681,     0.80781,     0.80881,     0.80981,     0.81081,     0.81181,     0.81281,     0.81381,     0.81481,     0.81582,\n",
              "           0.81682,     0.81782,     0.81882,     0.81982,     0.82082,     0.82182,     0.82282,     0.82382,     0.82482,     0.82583,     0.82683,     0.82783,     0.82883,     0.82983,     0.83083,     0.83183,     0.83283,     0.83383,     0.83483,     0.83584,     0.83684,     0.83784,     0.83884,     0.83984,\n",
              "           0.84084,     0.84184,     0.84284,     0.84384,     0.84484,     0.84585,     0.84685,     0.84785,     0.84885,     0.84985,     0.85085,     0.85185,     0.85285,     0.85385,     0.85485,     0.85586,     0.85686,     0.85786,     0.85886,     0.85986,     0.86086,     0.86186,     0.86286,     0.86386,\n",
              "           0.86486,     0.86587,     0.86687,     0.86787,     0.86887,     0.86987,     0.87087,     0.87187,     0.87287,     0.87387,     0.87487,     0.87588,     0.87688,     0.87788,     0.87888,     0.87988,     0.88088,     0.88188,     0.88288,     0.88388,     0.88488,     0.88589,     0.88689,     0.88789,\n",
              "           0.88889,     0.88989,     0.89089,     0.89189,     0.89289,     0.89389,     0.89489,      0.8959,      0.8969,      0.8979,      0.8989,      0.8999,      0.9009,      0.9019,      0.9029,      0.9039,      0.9049,     0.90591,     0.90691,     0.90791,     0.90891,     0.90991,     0.91091,     0.91191,\n",
              "           0.91291,     0.91391,     0.91491,     0.91592,     0.91692,     0.91792,     0.91892,     0.91992,     0.92092,     0.92192,     0.92292,     0.92392,     0.92492,     0.92593,     0.92693,     0.92793,     0.92893,     0.92993,     0.93093,     0.93193,     0.93293,     0.93393,     0.93493,     0.93594,\n",
              "           0.93694,     0.93794,     0.93894,     0.93994,     0.94094,     0.94194,     0.94294,     0.94394,     0.94494,     0.94595,     0.94695,     0.94795,     0.94895,     0.94995,     0.95095,     0.95195,     0.95295,     0.95395,     0.95495,     0.95596,     0.95696,     0.95796,     0.95896,     0.95996,\n",
              "           0.96096,     0.96196,     0.96296,     0.96396,     0.96496,     0.96597,     0.96697,     0.96797,     0.96897,     0.96997,     0.97097,     0.97197,     0.97297,     0.97397,     0.97497,     0.97598,     0.97698,     0.97798,     0.97898,     0.97998,     0.98098,     0.98198,     0.98298,     0.98398,\n",
              "           0.98498,     0.98599,     0.98699,     0.98799,     0.98899,     0.98999,     0.99099,     0.99199,     0.99299,     0.99399,     0.99499,       0.996,       0.997,       0.998,       0.999,           1]), array([[          1,           1,           1,           1,           1,           1,           1,           1,           1,           1,           1,           1,           1,           1,           1,           1,           1,           1,           1,           1,           1,           1,           1,\n",
              "                  1,           1,           1,           1,           1,           1,           1,           1,           1,           1,           1,           1,           1,           1,           1,           1,           1,           1,           1,           1,           1,           1,           1,\n",
              "                  1,           1,           1,           1,           1,           1,           1,           1,           1,           1,           1,           1,           1,           1,           1,           1,           1,           1,           1,           1,           1,           1,           1,\n",
              "                  1,           1,           1,           1,           1,           1,           1,           1,           1,           1,           1,           1,           1,           1,           1,           1,           1,           1,           1,           1,           1,           1,           1,\n",
              "                  1,           1,           1,           1,           1,           1,           1,           1,           1,           1,           1,           1,           1,           1,           1,           1,           1,           1,           1,           1,           1,           1,           1,\n",
              "                  1,           1,           1,           1,           1,           1,           1,           1,           1,           1,           1,           1,           1,           1,           1,           1,           1,           1,           1,           1,           1,           1,           1,\n",
              "                  1,           1,           1,           1,           1,           1,           1,           1,           1,           1,           1,           1,           1,           1,           1,           1,           1,           1,           1,           1,           1,           1,           1,\n",
              "                  1,           1,           1,           1,           1,           1,           1,           1,           1,           1,           1,           1,           1,           1,           1,           1,           1,           1,           1,           1,           1,           1,           1,\n",
              "                  1,           1,           1,           1,           1,           1,           1,           1,           1,           1,           1,           1,           1,           1,           1,           1,           1,           1,           1,           1,           1,           1,           1,\n",
              "                  1,           1,           1,           1,           1,           1,           1,           1,           1,           1,           1,           1,           1,           1,           1,           1,           1,           1,           1,           1,           1,           1,           1,\n",
              "                  1,           1,           1,           1,           1,           1,           1,           1,           1,           1,           1,           1,           1,           1,           1,           1,           1,           1,           1,           1,           1,           1,           1,\n",
              "                  1,           1,           1,           1,           1,           1,           1,           1,           1,           1,           1,           1,           1,           1,           1,           1,           1,           1,           1,           1,           1,           1,           1,\n",
              "                  1,           1,           1,           1,           1,           1,           1,           1,           1,           1,           1,           1,           1,           1,           1,           1,           1,           1,           1,           1,           1,           1,           1,\n",
              "                  1,           1,           1,           1,           1,           1,           1,           1,           1,           1,           1,           1,           1,           1,           1,           1,           1,           1,           1,           1,           1,           1,           1,\n",
              "                  1,           1,           1,           1,           1,           1,           1,           1,           1,           1,           1,           1,           1,           1,           1,           1,           1,           1,           1,           1,           1,           1,           1,\n",
              "                  1,           1,           1,           1,           1,           1,           1,           1,           1,           1,           1,           1,           1,           1,           1,           1,           1,           1,           1,           1,           1,           1,           1,\n",
              "                  1,           1,           1,           1,           1,           1,           1,           1,           1,           1,           1,           1,           1,           1,           1,           1,           1,           1,           1,           1,           1,           1,           1,\n",
              "                  1,           1,           1,           1,           1,           1,           1,           1,           1,           1,           1,           1,           1,           1,           1,           1,           1,           1,           1,           1,           1,           1,           1,\n",
              "                  1,           1,           1,           1,           1,           1,           1,           1,           1,           1,           1,           1,           1,           1,           1,           1,           1,           1,           1,           1,           1,           1,           1,\n",
              "                  1,           1,           1,           1,           1,           1,           1,           1,           1,           1,           1,           1,           1,           1,           1,           1,           1,           1,           1,           1,           1,           1,           1,\n",
              "                  1,           1,           1,           1,           1,           1,           1,           1,           1,           1,           1,           1,           1,           1,           1,           1,           1,           1,           1,           1,           1,           1,           1,\n",
              "                  1,           1,           1,           1,           1,           1,           1,           1,           1,           1,           1,           1,           1,           1,           1,           1,           1,           1,           1,           1,           1,           1,           1,\n",
              "                  1,           1,           1,           1,           1,           1,           1,           1,           1,           1,           1,           1,           1,           1,           1,           1,           1,           1,           1,           1,           1,           1,           1,\n",
              "                  1,           1,           1,           1,           1,           1,           1,           1,           1,           1,           1,           1,           1,     0.93333,     0.93333,     0.93333,     0.93333,     0.93333,     0.93333,     0.93333,     0.93333,     0.93333,     0.93333,\n",
              "            0.93333,     0.93333,     0.93333,     0.93333,     0.93333,     0.93333,     0.93333,     0.93333,     0.93333,     0.93333,     0.93333,     0.93333,     0.93333,     0.93333,     0.93333,     0.93333,     0.93333,     0.93333,     0.93333,     0.93333,     0.93333,     0.93333,     0.93333,\n",
              "            0.93333,     0.93333,     0.93333,     0.93333,     0.93333,     0.93333,     0.93333,     0.93333,     0.84211,     0.84211,     0.84211,     0.84211,     0.84211,     0.84211,     0.84211,     0.84211,     0.84211,     0.84211,     0.84211,     0.84211,     0.84211,     0.84211,     0.84211,\n",
              "            0.84211,     0.84211,     0.84211,     0.84211,     0.84211,     0.84211,     0.84211,     0.84211,     0.84211,     0.84211,     0.84211,     0.84211,     0.84211,     0.84211,     0.84211,     0.84211,     0.84211,     0.84211,     0.84211,     0.84211,     0.84211,     0.84211,     0.84211,\n",
              "            0.84211,     0.84211,     0.84211,     0.84211,     0.84211,     0.84211,     0.84211,     0.84211,     0.84211,     0.84211,     0.84211,     0.84211,     0.84211,     0.84211,     0.84211,     0.84211,     0.84211,     0.84211,     0.84211,     0.84211,     0.84211,     0.84211,     0.84211,\n",
              "            0.84211,     0.84211,     0.84211,     0.84211,     0.84211,     0.84211,     0.84211,     0.84211,     0.84211,     0.84211,     0.84211,     0.84211,     0.84211,     0.84211,     0.84211,     0.84211,     0.84211,     0.84211,     0.84211,     0.84211,     0.84211,     0.84211,     0.79167,\n",
              "            0.79167,     0.79167,     0.79167,     0.79167,     0.79167,     0.79167,     0.79167,     0.79167,     0.79167,     0.79167,     0.79167,     0.79167,     0.79167,     0.79167,     0.79167,     0.79167,     0.79167,     0.79167,     0.79167,     0.79167,     0.79167,     0.79167,     0.79167,\n",
              "            0.79167,     0.79167,     0.79167,     0.79167,     0.79167,     0.79167,     0.79167,     0.79167,     0.79167,     0.79167,     0.79167,     0.79167,     0.79167,     0.79167,     0.79167,     0.79167,     0.79167,     0.79167,     0.79167,     0.79167,     0.79167,     0.79167,     0.79167,\n",
              "            0.79167,     0.79167,     0.79167,     0.79167,     0.79167,     0.79167,     0.79167,     0.79167,     0.79167,     0.79167,     0.79167,     0.79167,     0.79167,     0.79167,     0.79167,     0.79167,     0.79167,     0.79167,     0.79167,     0.79167,     0.79167,     0.79167,     0.79167,\n",
              "            0.79167,     0.79167,     0.79167,     0.79167,     0.79167,     0.79167,     0.79167,     0.79167,     0.79167,     0.79167,     0.79167,     0.79167,     0.79167,     0.79167,     0.79167,     0.79167,     0.79167,     0.79167,     0.79167,     0.79167,     0.79167,     0.79167,     0.79167,\n",
              "            0.79167,     0.79167,     0.79167,     0.79167,     0.79167,     0.79167,     0.79167,     0.79167,     0.79167,     0.79167,     0.79167,     0.79167,     0.79167,     0.79167,     0.79167,     0.79167,     0.79167,     0.79167,     0.79167,     0.79167,     0.79167,     0.79167,     0.79167,\n",
              "            0.79167,     0.79167,     0.79167,     0.79167,     0.79167,     0.79167,     0.79167,     0.79167,     0.79167,     0.77778,     0.77778,     0.77778,     0.77778,     0.77778,     0.77778,     0.77778,     0.77778,     0.77778,     0.77778,     0.77778,     0.77778,     0.77778,     0.77778,\n",
              "            0.77778,     0.77778,     0.77778,     0.77778,     0.77778,     0.77778,     0.77778,     0.77778,     0.77778,     0.77778,     0.77778,     0.77778,     0.77778,     0.77778,     0.77778,     0.77778,     0.77778,     0.77778,     0.77778,     0.77778,     0.77778,     0.77778,     0.77778,\n",
              "            0.77778,     0.77778,     0.77778,     0.77778,     0.77778,     0.77778,     0.77778,     0.77778,     0.77778,     0.77778,     0.77778,     0.77778,     0.77778,     0.77778,     0.77778,     0.77778,     0.77778,     0.77778,     0.77778,     0.77778,     0.77778,     0.77778,     0.77778,\n",
              "            0.77778,     0.77778,     0.77778,     0.77778,     0.77778,     0.77778,     0.77778,     0.77778,     0.77778,     0.77778,     0.77778,     0.77778,     0.77778,     0.77778,     0.77778,     0.77778,     0.77778,     0.77778,     0.77778,     0.77778,     0.77778,     0.77778,     0.77778,\n",
              "            0.77778,     0.62857,     0.62857,     0.62857,     0.62857,     0.62857,     0.62857,     0.62857,     0.62857,     0.62857,     0.62857,     0.62857,     0.62857,     0.62857,     0.62857,     0.62857,     0.62857,     0.62857,     0.62857,     0.62857,     0.62857,     0.62857,     0.62857,\n",
              "            0.62857,     0.62857,     0.62857,     0.62857,     0.62857,     0.62857,     0.62857,     0.62857,     0.62857,     0.62857,     0.62857,     0.62857,     0.62857,     0.62857,     0.62857,     0.62857,     0.62857,     0.62857,     0.62857,       0.575,       0.575,       0.575,       0.575,\n",
              "              0.575,       0.575,       0.575,       0.575,       0.575,       0.575,       0.575,       0.575,       0.575,       0.575,       0.575,       0.575,       0.575,       0.575,       0.575,       0.575,       0.575,       0.575,       0.575,       0.575,       0.575,       0.575,       0.575,\n",
              "              0.575,       0.575,       0.575,       0.575,       0.575,       0.575,       0.575,       0.575,       0.575,       0.575,       0.575,       0.575,       0.575,       0.575,       0.575,      0.4898,      0.4898,      0.4898,      0.4898,      0.4898,      0.4898,      0.4898,      0.4898,\n",
              "             0.4898,      0.4898,      0.4898,      0.4898,      0.4898,      0.4898,      0.4898,      0.4898,      0.4898,      0.4898,      0.4898,      0.4898,      0.4898,      0.4898,      0.4898,      0.4898,      0.4898,      0.4898,      0.4898,      0.4898,      0.4898,      0.4898,      0.4898,\n",
              "             0.4898,      0.4898,      0.4898,      0.4898,      0.4898,      0.4898,      0.4898,      0.4898,      0.4898,      0.4898,           0]]), 'Recall', 'Precision'], [array([          0,    0.001001,    0.002002,    0.003003,    0.004004,    0.005005,    0.006006,    0.007007,    0.008008,    0.009009,     0.01001,    0.011011,    0.012012,    0.013013,    0.014014,    0.015015,    0.016016,    0.017017,    0.018018,    0.019019,     0.02002,    0.021021,    0.022022,    0.023023,\n",
              "          0.024024,    0.025025,    0.026026,    0.027027,    0.028028,    0.029029,     0.03003,    0.031031,    0.032032,    0.033033,    0.034034,    0.035035,    0.036036,    0.037037,    0.038038,    0.039039,     0.04004,    0.041041,    0.042042,    0.043043,    0.044044,    0.045045,    0.046046,    0.047047,\n",
              "          0.048048,    0.049049,     0.05005,    0.051051,    0.052052,    0.053053,    0.054054,    0.055055,    0.056056,    0.057057,    0.058058,    0.059059,     0.06006,    0.061061,    0.062062,    0.063063,    0.064064,    0.065065,    0.066066,    0.067067,    0.068068,    0.069069,     0.07007,    0.071071,\n",
              "          0.072072,    0.073073,    0.074074,    0.075075,    0.076076,    0.077077,    0.078078,    0.079079,     0.08008,    0.081081,    0.082082,    0.083083,    0.084084,    0.085085,    0.086086,    0.087087,    0.088088,    0.089089,     0.09009,    0.091091,    0.092092,    0.093093,    0.094094,    0.095095,\n",
              "          0.096096,    0.097097,    0.098098,    0.099099,      0.1001,      0.1011,      0.1021,      0.1031,      0.1041,     0.10511,     0.10611,     0.10711,     0.10811,     0.10911,     0.11011,     0.11111,     0.11211,     0.11311,     0.11411,     0.11512,     0.11612,     0.11712,     0.11812,     0.11912,\n",
              "           0.12012,     0.12112,     0.12212,     0.12312,     0.12412,     0.12513,     0.12613,     0.12713,     0.12813,     0.12913,     0.13013,     0.13113,     0.13213,     0.13313,     0.13413,     0.13514,     0.13614,     0.13714,     0.13814,     0.13914,     0.14014,     0.14114,     0.14214,     0.14314,\n",
              "           0.14414,     0.14515,     0.14615,     0.14715,     0.14815,     0.14915,     0.15015,     0.15115,     0.15215,     0.15315,     0.15415,     0.15516,     0.15616,     0.15716,     0.15816,     0.15916,     0.16016,     0.16116,     0.16216,     0.16316,     0.16416,     0.16517,     0.16617,     0.16717,\n",
              "           0.16817,     0.16917,     0.17017,     0.17117,     0.17217,     0.17317,     0.17417,     0.17518,     0.17618,     0.17718,     0.17818,     0.17918,     0.18018,     0.18118,     0.18218,     0.18318,     0.18418,     0.18519,     0.18619,     0.18719,     0.18819,     0.18919,     0.19019,     0.19119,\n",
              "           0.19219,     0.19319,     0.19419,      0.1952,      0.1962,      0.1972,      0.1982,      0.1992,      0.2002,      0.2012,      0.2022,      0.2032,      0.2042,     0.20521,     0.20621,     0.20721,     0.20821,     0.20921,     0.21021,     0.21121,     0.21221,     0.21321,     0.21421,     0.21522,\n",
              "           0.21622,     0.21722,     0.21822,     0.21922,     0.22022,     0.22122,     0.22222,     0.22322,     0.22422,     0.22523,     0.22623,     0.22723,     0.22823,     0.22923,     0.23023,     0.23123,     0.23223,     0.23323,     0.23423,     0.23524,     0.23624,     0.23724,     0.23824,     0.23924,\n",
              "           0.24024,     0.24124,     0.24224,     0.24324,     0.24424,     0.24525,     0.24625,     0.24725,     0.24825,     0.24925,     0.25025,     0.25125,     0.25225,     0.25325,     0.25425,     0.25526,     0.25626,     0.25726,     0.25826,     0.25926,     0.26026,     0.26126,     0.26226,     0.26326,\n",
              "           0.26426,     0.26527,     0.26627,     0.26727,     0.26827,     0.26927,     0.27027,     0.27127,     0.27227,     0.27327,     0.27427,     0.27528,     0.27628,     0.27728,     0.27828,     0.27928,     0.28028,     0.28128,     0.28228,     0.28328,     0.28428,     0.28529,     0.28629,     0.28729,\n",
              "           0.28829,     0.28929,     0.29029,     0.29129,     0.29229,     0.29329,     0.29429,      0.2953,      0.2963,      0.2973,      0.2983,      0.2993,      0.3003,      0.3013,      0.3023,      0.3033,      0.3043,     0.30531,     0.30631,     0.30731,     0.30831,     0.30931,     0.31031,     0.31131,\n",
              "           0.31231,     0.31331,     0.31431,     0.31532,     0.31632,     0.31732,     0.31832,     0.31932,     0.32032,     0.32132,     0.32232,     0.32332,     0.32432,     0.32533,     0.32633,     0.32733,     0.32833,     0.32933,     0.33033,     0.33133,     0.33233,     0.33333,     0.33433,     0.33534,\n",
              "           0.33634,     0.33734,     0.33834,     0.33934,     0.34034,     0.34134,     0.34234,     0.34334,     0.34434,     0.34535,     0.34635,     0.34735,     0.34835,     0.34935,     0.35035,     0.35135,     0.35235,     0.35335,     0.35435,     0.35536,     0.35636,     0.35736,     0.35836,     0.35936,\n",
              "           0.36036,     0.36136,     0.36236,     0.36336,     0.36436,     0.36537,     0.36637,     0.36737,     0.36837,     0.36937,     0.37037,     0.37137,     0.37237,     0.37337,     0.37437,     0.37538,     0.37638,     0.37738,     0.37838,     0.37938,     0.38038,     0.38138,     0.38238,     0.38338,\n",
              "           0.38438,     0.38539,     0.38639,     0.38739,     0.38839,     0.38939,     0.39039,     0.39139,     0.39239,     0.39339,     0.39439,      0.3954,      0.3964,      0.3974,      0.3984,      0.3994,      0.4004,      0.4014,      0.4024,      0.4034,      0.4044,     0.40541,     0.40641,     0.40741,\n",
              "           0.40841,     0.40941,     0.41041,     0.41141,     0.41241,     0.41341,     0.41441,     0.41542,     0.41642,     0.41742,     0.41842,     0.41942,     0.42042,     0.42142,     0.42242,     0.42342,     0.42442,     0.42543,     0.42643,     0.42743,     0.42843,     0.42943,     0.43043,     0.43143,\n",
              "           0.43243,     0.43343,     0.43443,     0.43544,     0.43644,     0.43744,     0.43844,     0.43944,     0.44044,     0.44144,     0.44244,     0.44344,     0.44444,     0.44545,     0.44645,     0.44745,     0.44845,     0.44945,     0.45045,     0.45145,     0.45245,     0.45345,     0.45445,     0.45546,\n",
              "           0.45646,     0.45746,     0.45846,     0.45946,     0.46046,     0.46146,     0.46246,     0.46346,     0.46446,     0.46547,     0.46647,     0.46747,     0.46847,     0.46947,     0.47047,     0.47147,     0.47247,     0.47347,     0.47447,     0.47548,     0.47648,     0.47748,     0.47848,     0.47948,\n",
              "           0.48048,     0.48148,     0.48248,     0.48348,     0.48448,     0.48549,     0.48649,     0.48749,     0.48849,     0.48949,     0.49049,     0.49149,     0.49249,     0.49349,     0.49449,      0.4955,      0.4965,      0.4975,      0.4985,      0.4995,      0.5005,      0.5015,      0.5025,      0.5035,\n",
              "            0.5045,     0.50551,     0.50651,     0.50751,     0.50851,     0.50951,     0.51051,     0.51151,     0.51251,     0.51351,     0.51451,     0.51552,     0.51652,     0.51752,     0.51852,     0.51952,     0.52052,     0.52152,     0.52252,     0.52352,     0.52452,     0.52553,     0.52653,     0.52753,\n",
              "           0.52853,     0.52953,     0.53053,     0.53153,     0.53253,     0.53353,     0.53453,     0.53554,     0.53654,     0.53754,     0.53854,     0.53954,     0.54054,     0.54154,     0.54254,     0.54354,     0.54454,     0.54555,     0.54655,     0.54755,     0.54855,     0.54955,     0.55055,     0.55155,\n",
              "           0.55255,     0.55355,     0.55455,     0.55556,     0.55656,     0.55756,     0.55856,     0.55956,     0.56056,     0.56156,     0.56256,     0.56356,     0.56456,     0.56557,     0.56657,     0.56757,     0.56857,     0.56957,     0.57057,     0.57157,     0.57257,     0.57357,     0.57457,     0.57558,\n",
              "           0.57658,     0.57758,     0.57858,     0.57958,     0.58058,     0.58158,     0.58258,     0.58358,     0.58458,     0.58559,     0.58659,     0.58759,     0.58859,     0.58959,     0.59059,     0.59159,     0.59259,     0.59359,     0.59459,      0.5956,      0.5966,      0.5976,      0.5986,      0.5996,\n",
              "            0.6006,      0.6016,      0.6026,      0.6036,      0.6046,     0.60561,     0.60661,     0.60761,     0.60861,     0.60961,     0.61061,     0.61161,     0.61261,     0.61361,     0.61461,     0.61562,     0.61662,     0.61762,     0.61862,     0.61962,     0.62062,     0.62162,     0.62262,     0.62362,\n",
              "           0.62462,     0.62563,     0.62663,     0.62763,     0.62863,     0.62963,     0.63063,     0.63163,     0.63263,     0.63363,     0.63463,     0.63564,     0.63664,     0.63764,     0.63864,     0.63964,     0.64064,     0.64164,     0.64264,     0.64364,     0.64464,     0.64565,     0.64665,     0.64765,\n",
              "           0.64865,     0.64965,     0.65065,     0.65165,     0.65265,     0.65365,     0.65465,     0.65566,     0.65666,     0.65766,     0.65866,     0.65966,     0.66066,     0.66166,     0.66266,     0.66366,     0.66466,     0.66567,     0.66667,     0.66767,     0.66867,     0.66967,     0.67067,     0.67167,\n",
              "           0.67267,     0.67367,     0.67467,     0.67568,     0.67668,     0.67768,     0.67868,     0.67968,     0.68068,     0.68168,     0.68268,     0.68368,     0.68468,     0.68569,     0.68669,     0.68769,     0.68869,     0.68969,     0.69069,     0.69169,     0.69269,     0.69369,     0.69469,      0.6957,\n",
              "            0.6967,      0.6977,      0.6987,      0.6997,      0.7007,      0.7017,      0.7027,      0.7037,      0.7047,     0.70571,     0.70671,     0.70771,     0.70871,     0.70971,     0.71071,     0.71171,     0.71271,     0.71371,     0.71471,     0.71572,     0.71672,     0.71772,     0.71872,     0.71972,\n",
              "           0.72072,     0.72172,     0.72272,     0.72372,     0.72472,     0.72573,     0.72673,     0.72773,     0.72873,     0.72973,     0.73073,     0.73173,     0.73273,     0.73373,     0.73473,     0.73574,     0.73674,     0.73774,     0.73874,     0.73974,     0.74074,     0.74174,     0.74274,     0.74374,\n",
              "           0.74474,     0.74575,     0.74675,     0.74775,     0.74875,     0.74975,     0.75075,     0.75175,     0.75275,     0.75375,     0.75475,     0.75576,     0.75676,     0.75776,     0.75876,     0.75976,     0.76076,     0.76176,     0.76276,     0.76376,     0.76476,     0.76577,     0.76677,     0.76777,\n",
              "           0.76877,     0.76977,     0.77077,     0.77177,     0.77277,     0.77377,     0.77477,     0.77578,     0.77678,     0.77778,     0.77878,     0.77978,     0.78078,     0.78178,     0.78278,     0.78378,     0.78478,     0.78579,     0.78679,     0.78779,     0.78879,     0.78979,     0.79079,     0.79179,\n",
              "           0.79279,     0.79379,     0.79479,      0.7958,      0.7968,      0.7978,      0.7988,      0.7998,      0.8008,      0.8018,      0.8028,      0.8038,      0.8048,     0.80581,     0.80681,     0.80781,     0.80881,     0.80981,     0.81081,     0.81181,     0.81281,     0.81381,     0.81481,     0.81582,\n",
              "           0.81682,     0.81782,     0.81882,     0.81982,     0.82082,     0.82182,     0.82282,     0.82382,     0.82482,     0.82583,     0.82683,     0.82783,     0.82883,     0.82983,     0.83083,     0.83183,     0.83283,     0.83383,     0.83483,     0.83584,     0.83684,     0.83784,     0.83884,     0.83984,\n",
              "           0.84084,     0.84184,     0.84284,     0.84384,     0.84484,     0.84585,     0.84685,     0.84785,     0.84885,     0.84985,     0.85085,     0.85185,     0.85285,     0.85385,     0.85485,     0.85586,     0.85686,     0.85786,     0.85886,     0.85986,     0.86086,     0.86186,     0.86286,     0.86386,\n",
              "           0.86486,     0.86587,     0.86687,     0.86787,     0.86887,     0.86987,     0.87087,     0.87187,     0.87287,     0.87387,     0.87487,     0.87588,     0.87688,     0.87788,     0.87888,     0.87988,     0.88088,     0.88188,     0.88288,     0.88388,     0.88488,     0.88589,     0.88689,     0.88789,\n",
              "           0.88889,     0.88989,     0.89089,     0.89189,     0.89289,     0.89389,     0.89489,      0.8959,      0.8969,      0.8979,      0.8989,      0.8999,      0.9009,      0.9019,      0.9029,      0.9039,      0.9049,     0.90591,     0.90691,     0.90791,     0.90891,     0.90991,     0.91091,     0.91191,\n",
              "           0.91291,     0.91391,     0.91491,     0.91592,     0.91692,     0.91792,     0.91892,     0.91992,     0.92092,     0.92192,     0.92292,     0.92392,     0.92492,     0.92593,     0.92693,     0.92793,     0.92893,     0.92993,     0.93093,     0.93193,     0.93293,     0.93393,     0.93493,     0.93594,\n",
              "           0.93694,     0.93794,     0.93894,     0.93994,     0.94094,     0.94194,     0.94294,     0.94394,     0.94494,     0.94595,     0.94695,     0.94795,     0.94895,     0.94995,     0.95095,     0.95195,     0.95295,     0.95395,     0.95495,     0.95596,     0.95696,     0.95796,     0.95896,     0.95996,\n",
              "           0.96096,     0.96196,     0.96296,     0.96396,     0.96496,     0.96597,     0.96697,     0.96797,     0.96897,     0.96997,     0.97097,     0.97197,     0.97297,     0.97397,     0.97497,     0.97598,     0.97698,     0.97798,     0.97898,     0.97998,     0.98098,     0.98198,     0.98298,     0.98398,\n",
              "           0.98498,     0.98599,     0.98699,     0.98799,     0.98899,     0.98999,     0.99099,     0.99199,     0.99299,     0.99399,     0.99499,       0.996,       0.997,       0.998,       0.999,           1]), array([[        0.5,         0.5,     0.59852,      0.6544,     0.68016,     0.71359,     0.70559,     0.71649,     0.73103,      0.7372,     0.74155,     0.74422,      0.7252,     0.72675,     0.72829,     0.72983,     0.73137,      0.7329,     0.73443,     0.73595,     0.73981,     0.74695,     0.76421,\n",
              "            0.76784,     0.77144,     0.77502,     0.77812,     0.77965,     0.78117,     0.78268,      0.7842,      0.7857,      0.7872,      0.7887,      0.7902,     0.79168,     0.79402,     0.79726,     0.80047,     0.80366,     0.80683,     0.81581,     0.80409,     0.79908,     0.79768,     0.79627,\n",
              "            0.79486,     0.79345,     0.79204,     0.79063,     0.78921,     0.78779,     0.78637,     0.78495,     0.78353,      0.7821,     0.78067,     0.77924,     0.77781,     0.77638,     0.77602,     0.77728,     0.77855,     0.77981,     0.78107,     0.78232,     0.78357,     0.78481,     0.78606,\n",
              "            0.78729,     0.78853,     0.78976,     0.79098,     0.78573,     0.77213,     0.76511,     0.76357,     0.76202,     0.76048,     0.75893,     0.75738,     0.75582,     0.75427,     0.75271,     0.75115,     0.74958,     0.74802,     0.74645,     0.74488,      0.7433,     0.74173,     0.74015,\n",
              "            0.73805,     0.73503,     0.73199,     0.72894,     0.72588,     0.72282,     0.71974,     0.71666,     0.71356,      0.7113,     0.71218,     0.71306,     0.71394,     0.71482,      0.7157,     0.71657,     0.71744,      0.7183,     0.71917,     0.72003,     0.72089,     0.72175,      0.7226,\n",
              "            0.72346,     0.72431,     0.72516,       0.726,     0.72684,     0.72793,     0.72927,     0.73061,     0.73194,     0.73326,     0.73457,     0.73588,     0.73719,     0.73849,     0.73978,     0.74107,     0.74235,     0.74363,      0.7434,     0.74199,     0.74059,     0.73918,     0.73777,\n",
              "            0.73636,     0.73494,     0.73352,      0.7321,     0.73068,     0.72926,     0.72783,      0.7264,     0.72497,     0.72354,      0.7221,     0.72066,     0.71922,     0.71778,     0.71633,     0.71488,     0.71372,     0.71277,     0.71181,     0.71086,      0.7099,     0.70894,     0.70798,\n",
              "            0.70702,     0.70606,      0.7051,     0.70413,     0.70317,      0.7022,     0.70123,     0.70027,      0.6993,     0.69833,     0.69736,     0.69638,     0.69541,     0.69444,     0.69346,     0.69248,     0.69151,     0.69053,     0.68955,     0.68857,     0.68758,      0.6866,     0.68562,\n",
              "            0.68463,     0.68364,     0.68321,     0.68423,     0.68525,     0.68627,     0.68729,     0.68829,      0.6893,      0.6903,     0.69129,     0.69229,     0.69327,     0.69426,     0.69524,     0.69621,     0.69718,     0.69815,     0.69912,     0.70003,     0.70042,     0.70081,      0.7012,\n",
              "            0.70159,     0.70197,     0.70236,     0.70275,     0.70313,     0.70352,      0.7039,     0.70429,     0.70467,     0.70505,     0.70543,     0.70581,     0.70619,     0.70657,     0.70695,     0.70733,     0.70771,     0.70809,     0.70846,     0.70884,     0.70922,     0.70959,     0.70997,\n",
              "            0.71034,     0.71071,     0.71108,     0.71146,     0.71183,      0.7122,     0.71257,     0.71294,     0.71331,     0.71368,     0.71404,     0.71441,     0.71478,     0.71514,     0.71551,     0.71587,     0.71624,      0.7166,     0.71696,     0.71732,     0.71769,     0.71772,      0.7169,\n",
              "            0.71607,     0.71524,     0.71442,     0.71359,     0.71276,     0.71193,      0.7111,     0.71026,     0.70943,      0.7086,     0.70776,     0.70692,     0.70609,     0.70525,     0.70441,     0.70357,     0.70273,     0.70189,     0.70104,      0.7002,     0.69935,     0.69851,     0.69766,\n",
              "            0.69681,     0.69596,     0.69511,     0.69426,     0.69341,     0.69256,      0.6917,     0.69085,     0.68999,     0.68914,     0.68828,     0.68742,     0.68656,      0.6857,     0.68484,      0.6843,     0.68463,     0.68496,     0.68529,     0.68562,     0.68595,     0.68628,     0.68661,\n",
              "            0.68693,     0.68726,     0.68759,     0.68791,     0.68824,     0.68856,     0.68888,     0.68921,     0.68953,     0.68985,     0.69017,      0.6905,     0.69082,     0.69114,     0.69146,     0.69177,     0.69209,     0.69241,     0.69273,     0.69305,     0.69336,     0.69368,     0.69399,\n",
              "            0.69431,     0.69462,     0.69494,     0.69525,     0.69556,     0.69588,     0.69619,      0.6965,     0.69681,     0.69712,     0.69743,     0.69774,     0.69805,     0.69836,     0.69867,     0.69897,     0.69928,     0.69959,     0.69989,      0.7002,      0.7005,     0.70081,     0.70111,\n",
              "            0.70141,     0.70172,     0.70202,     0.70232,     0.70262,     0.70232,     0.70179,     0.70127,     0.70074,     0.70022,      0.6997,     0.69917,     0.69864,     0.69812,     0.69759,     0.69706,     0.69654,     0.69601,     0.69548,     0.69495,     0.69442,     0.69389,     0.69336,\n",
              "            0.69283,      0.6923,     0.69177,     0.69124,     0.69071,     0.69017,     0.68964,     0.68911,     0.68857,     0.68804,      0.6875,     0.68697,     0.68643,      0.6859,     0.68536,     0.68482,     0.68428,     0.68375,     0.68321,     0.68267,     0.68213,     0.68159,     0.68105,\n",
              "            0.68051,     0.67997,     0.67943,     0.67889,     0.67834,      0.6778,     0.67726,     0.67671,     0.67617,     0.67562,     0.67508,     0.67453,     0.67399,     0.67344,     0.67289,     0.67235,      0.6718,     0.67125,      0.6707,     0.67015,      0.6696,     0.66905,      0.6685,\n",
              "            0.66795,      0.6674,     0.66685,     0.66591,     0.66477,     0.66364,      0.6625,     0.66135,     0.66021,     0.65907,     0.65792,     0.65677,     0.65562,     0.65447,     0.65331,     0.65215,     0.65099,     0.64983,     0.64867,     0.64751,     0.64634,     0.64517,       0.644,\n",
              "            0.64283,     0.64165,     0.64047,     0.63929,     0.63811,     0.63693,     0.63574,     0.63456,     0.63337,     0.63217,     0.63098,     0.62979,     0.62859,     0.62675,     0.62489,     0.62303,     0.62117,      0.6193,     0.61743,     0.61555,     0.61366,     0.61177,     0.60988,\n",
              "            0.60798,     0.60607,     0.60416,     0.60225,     0.60033,      0.5984,     0.59647,     0.59453,     0.59259,     0.59064,     0.58869,     0.58797,     0.58761,     0.58726,     0.58691,     0.58656,      0.5862,     0.58585,      0.5855,     0.58514,     0.58479,     0.58444,     0.58408,\n",
              "            0.58373,     0.58338,     0.58302,     0.58267,     0.58231,     0.58196,      0.5816,     0.58125,     0.58089,     0.58054,     0.58018,     0.57983,     0.57947,     0.57911,     0.57876,      0.5784,     0.57804,     0.57769,     0.57733,     0.57697,     0.57661,     0.57626,      0.5759,\n",
              "            0.57554,     0.57518,     0.57482,     0.57447,     0.57411,     0.57375,     0.57339,     0.57303,     0.57267,     0.57231,     0.57195,     0.57159,     0.57123,     0.57087,     0.57051,     0.57015,     0.56979,     0.56943,     0.56907,      0.5687,     0.56834,     0.56798,     0.56762,\n",
              "            0.56726,     0.56689,     0.56653,     0.56617,     0.56581,     0.56544,     0.56508,     0.56472,     0.56435,     0.56399,     0.56362,     0.56326,      0.5629,     0.56253,     0.56217,      0.5618,     0.56144,     0.56107,     0.56071,     0.56034,     0.55997,     0.55961,     0.55924,\n",
              "            0.55888,     0.55851,     0.55814,     0.55778,     0.55741,     0.55704,     0.55667,     0.55631,     0.55594,     0.55557,      0.5552,     0.55483,     0.55446,     0.55409,     0.55373,     0.55336,     0.55299,     0.55262,     0.55225,     0.55188,     0.55151,     0.55114,     0.55077,\n",
              "             0.5504,     0.55002,     0.54965,     0.54928,     0.54891,     0.54854,     0.54817,      0.5478,     0.54742,     0.54705,     0.54668,      0.5463,     0.54593,     0.54556,     0.54503,     0.54444,     0.54385,     0.54325,     0.54266,     0.54207,     0.54147,     0.54088,     0.54029,\n",
              "            0.53969,     0.53909,      0.5385,      0.5379,     0.53731,     0.53671,     0.53611,     0.53551,     0.53491,     0.53431,     0.53371,     0.53311,     0.53251,     0.53191,     0.53131,     0.53071,      0.5301,      0.5295,      0.5289,     0.52829,     0.52769,     0.52708,     0.52648,\n",
              "            0.52587,     0.52526,     0.52466,     0.52405,     0.52344,     0.52283,     0.52222,     0.52161,       0.521,     0.52039,     0.51978,     0.51917,     0.51855,     0.51794,     0.51733,     0.51671,      0.5161,     0.51548,     0.51487,     0.51425,     0.51364,     0.51302,      0.5124,\n",
              "            0.51178,     0.51117,     0.51055,     0.50993,     0.50931,     0.50869,     0.50807,     0.50744,     0.50682,      0.5062,     0.50558,     0.50495,     0.50433,      0.5037,     0.50308,     0.50245,     0.50183,      0.5012,     0.50057,     0.49993,     0.49913,     0.49834,     0.49754,\n",
              "            0.49675,     0.49595,     0.49515,     0.49435,     0.49355,     0.49275,     0.49194,     0.49114,     0.49034,     0.48953,     0.48873,     0.48792,     0.48711,      0.4863,     0.48549,     0.48468,     0.48387,     0.48306,     0.48225,     0.48144,     0.48062,     0.47981,     0.47899,\n",
              "            0.47817,     0.47736,     0.47654,     0.47572,      0.4749,     0.47407,     0.47325,     0.47243,     0.47161,     0.47078,     0.46995,     0.46913,      0.4683,     0.46747,     0.46664,     0.46581,     0.46498,     0.46415,     0.46332,     0.46248,     0.46165,     0.46081,     0.45997,\n",
              "            0.45914,      0.4583,     0.45746,     0.45662,     0.45578,     0.45493,     0.45409,     0.45325,      0.4524,     0.45152,     0.45017,     0.44882,     0.44747,     0.44611,     0.44476,      0.4434,     0.44203,     0.44067,      0.4393,     0.43793,     0.43656,     0.43518,     0.43381,\n",
              "            0.43243,     0.43104,     0.42966,     0.42827,     0.42688,     0.42549,      0.4241,      0.4227,      0.4213,      0.4199,     0.41849,     0.41709,     0.41568,     0.41427,     0.41285,     0.41144,     0.41002,     0.40859,     0.40717,     0.40574,     0.40431,     0.40288,     0.40145,\n",
              "            0.40001,      0.3992,      0.3984,     0.39759,     0.39678,     0.39597,     0.39517,     0.39436,     0.39355,     0.39274,     0.39192,     0.39111,      0.3903,     0.38948,     0.38867,     0.38785,     0.38704,     0.38622,      0.3854,     0.38458,     0.38376,     0.38294,     0.38212,\n",
              "             0.3813,     0.38047,     0.37965,     0.37883,       0.378,     0.37717,     0.37635,     0.37552,     0.37469,     0.37386,     0.37303,      0.3722,     0.37136,     0.37053,      0.3697,     0.36886,     0.36802,     0.36719,     0.36635,     0.36551,     0.36467,     0.36383,     0.36299,\n",
              "            0.36215,     0.36131,     0.36046,     0.35962,     0.35877,     0.35793,     0.35708,     0.35623,     0.35538,     0.35453,     0.35368,     0.35283,     0.35198,     0.35112,     0.35027,     0.34941,     0.34856,      0.3477,     0.34684,     0.34598,     0.34512,     0.34355,      0.3416,\n",
              "            0.33964,     0.33767,      0.3357,     0.33373,     0.33175,     0.32977,     0.32778,     0.32578,     0.32379,     0.32178,     0.31978,     0.31776,     0.31575,     0.31373,      0.3117,     0.30967,     0.30763,     0.30559,     0.30354,     0.30149,     0.29944,     0.29738,     0.29531,\n",
              "            0.29324,     0.29116,     0.28908,       0.287,     0.28129,     0.26974,     0.25804,     0.24618,     0.23416,     0.22213,     0.21762,     0.21308,     0.20852,     0.20394,     0.19934,     0.19471,     0.19006,     0.18538,     0.18068,     0.17596,     0.17121,     0.16644,     0.16164,\n",
              "            0.15681,      0.1525,     0.14903,     0.14554,     0.14203,     0.13851,     0.13498,     0.13144,     0.12788,     0.12431,     0.12073,     0.11713,     0.11352,     0.10989,     0.10625,      0.1026,     0.09893,    0.095248,    0.091551,     0.08784,    0.084115,    0.080375,           0,\n",
              "                  0,           0,           0,           0,           0,           0,           0,           0,           0,           0,           0,           0,           0,           0,           0,           0,           0,           0,           0,           0,           0,           0,           0,\n",
              "                  0,           0,           0,           0,           0,           0,           0,           0,           0,           0,           0,           0,           0,           0,           0,           0,           0,           0,           0,           0,           0,           0,           0,\n",
              "                  0,           0,           0,           0,           0,           0,           0,           0,           0,           0,           0,           0,           0,           0,           0,           0,           0,           0,           0,           0,           0,           0,           0,\n",
              "                  0,           0,           0,           0,           0,           0,           0,           0,           0,           0,           0,           0,           0,           0,           0,           0,           0,           0,           0,           0,           0,           0,           0,\n",
              "                  0,           0,           0,           0,           0,           0,           0,           0,           0,           0,           0]]), 'Confidence', 'F1'], [array([          0,    0.001001,    0.002002,    0.003003,    0.004004,    0.005005,    0.006006,    0.007007,    0.008008,    0.009009,     0.01001,    0.011011,    0.012012,    0.013013,    0.014014,    0.015015,    0.016016,    0.017017,    0.018018,    0.019019,     0.02002,    0.021021,    0.022022,    0.023023,\n",
              "          0.024024,    0.025025,    0.026026,    0.027027,    0.028028,    0.029029,     0.03003,    0.031031,    0.032032,    0.033033,    0.034034,    0.035035,    0.036036,    0.037037,    0.038038,    0.039039,     0.04004,    0.041041,    0.042042,    0.043043,    0.044044,    0.045045,    0.046046,    0.047047,\n",
              "          0.048048,    0.049049,     0.05005,    0.051051,    0.052052,    0.053053,    0.054054,    0.055055,    0.056056,    0.057057,    0.058058,    0.059059,     0.06006,    0.061061,    0.062062,    0.063063,    0.064064,    0.065065,    0.066066,    0.067067,    0.068068,    0.069069,     0.07007,    0.071071,\n",
              "          0.072072,    0.073073,    0.074074,    0.075075,    0.076076,    0.077077,    0.078078,    0.079079,     0.08008,    0.081081,    0.082082,    0.083083,    0.084084,    0.085085,    0.086086,    0.087087,    0.088088,    0.089089,     0.09009,    0.091091,    0.092092,    0.093093,    0.094094,    0.095095,\n",
              "          0.096096,    0.097097,    0.098098,    0.099099,      0.1001,      0.1011,      0.1021,      0.1031,      0.1041,     0.10511,     0.10611,     0.10711,     0.10811,     0.10911,     0.11011,     0.11111,     0.11211,     0.11311,     0.11411,     0.11512,     0.11612,     0.11712,     0.11812,     0.11912,\n",
              "           0.12012,     0.12112,     0.12212,     0.12312,     0.12412,     0.12513,     0.12613,     0.12713,     0.12813,     0.12913,     0.13013,     0.13113,     0.13213,     0.13313,     0.13413,     0.13514,     0.13614,     0.13714,     0.13814,     0.13914,     0.14014,     0.14114,     0.14214,     0.14314,\n",
              "           0.14414,     0.14515,     0.14615,     0.14715,     0.14815,     0.14915,     0.15015,     0.15115,     0.15215,     0.15315,     0.15415,     0.15516,     0.15616,     0.15716,     0.15816,     0.15916,     0.16016,     0.16116,     0.16216,     0.16316,     0.16416,     0.16517,     0.16617,     0.16717,\n",
              "           0.16817,     0.16917,     0.17017,     0.17117,     0.17217,     0.17317,     0.17417,     0.17518,     0.17618,     0.17718,     0.17818,     0.17918,     0.18018,     0.18118,     0.18218,     0.18318,     0.18418,     0.18519,     0.18619,     0.18719,     0.18819,     0.18919,     0.19019,     0.19119,\n",
              "           0.19219,     0.19319,     0.19419,      0.1952,      0.1962,      0.1972,      0.1982,      0.1992,      0.2002,      0.2012,      0.2022,      0.2032,      0.2042,     0.20521,     0.20621,     0.20721,     0.20821,     0.20921,     0.21021,     0.21121,     0.21221,     0.21321,     0.21421,     0.21522,\n",
              "           0.21622,     0.21722,     0.21822,     0.21922,     0.22022,     0.22122,     0.22222,     0.22322,     0.22422,     0.22523,     0.22623,     0.22723,     0.22823,     0.22923,     0.23023,     0.23123,     0.23223,     0.23323,     0.23423,     0.23524,     0.23624,     0.23724,     0.23824,     0.23924,\n",
              "           0.24024,     0.24124,     0.24224,     0.24324,     0.24424,     0.24525,     0.24625,     0.24725,     0.24825,     0.24925,     0.25025,     0.25125,     0.25225,     0.25325,     0.25425,     0.25526,     0.25626,     0.25726,     0.25826,     0.25926,     0.26026,     0.26126,     0.26226,     0.26326,\n",
              "           0.26426,     0.26527,     0.26627,     0.26727,     0.26827,     0.26927,     0.27027,     0.27127,     0.27227,     0.27327,     0.27427,     0.27528,     0.27628,     0.27728,     0.27828,     0.27928,     0.28028,     0.28128,     0.28228,     0.28328,     0.28428,     0.28529,     0.28629,     0.28729,\n",
              "           0.28829,     0.28929,     0.29029,     0.29129,     0.29229,     0.29329,     0.29429,      0.2953,      0.2963,      0.2973,      0.2983,      0.2993,      0.3003,      0.3013,      0.3023,      0.3033,      0.3043,     0.30531,     0.30631,     0.30731,     0.30831,     0.30931,     0.31031,     0.31131,\n",
              "           0.31231,     0.31331,     0.31431,     0.31532,     0.31632,     0.31732,     0.31832,     0.31932,     0.32032,     0.32132,     0.32232,     0.32332,     0.32432,     0.32533,     0.32633,     0.32733,     0.32833,     0.32933,     0.33033,     0.33133,     0.33233,     0.33333,     0.33433,     0.33534,\n",
              "           0.33634,     0.33734,     0.33834,     0.33934,     0.34034,     0.34134,     0.34234,     0.34334,     0.34434,     0.34535,     0.34635,     0.34735,     0.34835,     0.34935,     0.35035,     0.35135,     0.35235,     0.35335,     0.35435,     0.35536,     0.35636,     0.35736,     0.35836,     0.35936,\n",
              "           0.36036,     0.36136,     0.36236,     0.36336,     0.36436,     0.36537,     0.36637,     0.36737,     0.36837,     0.36937,     0.37037,     0.37137,     0.37237,     0.37337,     0.37437,     0.37538,     0.37638,     0.37738,     0.37838,     0.37938,     0.38038,     0.38138,     0.38238,     0.38338,\n",
              "           0.38438,     0.38539,     0.38639,     0.38739,     0.38839,     0.38939,     0.39039,     0.39139,     0.39239,     0.39339,     0.39439,      0.3954,      0.3964,      0.3974,      0.3984,      0.3994,      0.4004,      0.4014,      0.4024,      0.4034,      0.4044,     0.40541,     0.40641,     0.40741,\n",
              "           0.40841,     0.40941,     0.41041,     0.41141,     0.41241,     0.41341,     0.41441,     0.41542,     0.41642,     0.41742,     0.41842,     0.41942,     0.42042,     0.42142,     0.42242,     0.42342,     0.42442,     0.42543,     0.42643,     0.42743,     0.42843,     0.42943,     0.43043,     0.43143,\n",
              "           0.43243,     0.43343,     0.43443,     0.43544,     0.43644,     0.43744,     0.43844,     0.43944,     0.44044,     0.44144,     0.44244,     0.44344,     0.44444,     0.44545,     0.44645,     0.44745,     0.44845,     0.44945,     0.45045,     0.45145,     0.45245,     0.45345,     0.45445,     0.45546,\n",
              "           0.45646,     0.45746,     0.45846,     0.45946,     0.46046,     0.46146,     0.46246,     0.46346,     0.46446,     0.46547,     0.46647,     0.46747,     0.46847,     0.46947,     0.47047,     0.47147,     0.47247,     0.47347,     0.47447,     0.47548,     0.47648,     0.47748,     0.47848,     0.47948,\n",
              "           0.48048,     0.48148,     0.48248,     0.48348,     0.48448,     0.48549,     0.48649,     0.48749,     0.48849,     0.48949,     0.49049,     0.49149,     0.49249,     0.49349,     0.49449,      0.4955,      0.4965,      0.4975,      0.4985,      0.4995,      0.5005,      0.5015,      0.5025,      0.5035,\n",
              "            0.5045,     0.50551,     0.50651,     0.50751,     0.50851,     0.50951,     0.51051,     0.51151,     0.51251,     0.51351,     0.51451,     0.51552,     0.51652,     0.51752,     0.51852,     0.51952,     0.52052,     0.52152,     0.52252,     0.52352,     0.52452,     0.52553,     0.52653,     0.52753,\n",
              "           0.52853,     0.52953,     0.53053,     0.53153,     0.53253,     0.53353,     0.53453,     0.53554,     0.53654,     0.53754,     0.53854,     0.53954,     0.54054,     0.54154,     0.54254,     0.54354,     0.54454,     0.54555,     0.54655,     0.54755,     0.54855,     0.54955,     0.55055,     0.55155,\n",
              "           0.55255,     0.55355,     0.55455,     0.55556,     0.55656,     0.55756,     0.55856,     0.55956,     0.56056,     0.56156,     0.56256,     0.56356,     0.56456,     0.56557,     0.56657,     0.56757,     0.56857,     0.56957,     0.57057,     0.57157,     0.57257,     0.57357,     0.57457,     0.57558,\n",
              "           0.57658,     0.57758,     0.57858,     0.57958,     0.58058,     0.58158,     0.58258,     0.58358,     0.58458,     0.58559,     0.58659,     0.58759,     0.58859,     0.58959,     0.59059,     0.59159,     0.59259,     0.59359,     0.59459,      0.5956,      0.5966,      0.5976,      0.5986,      0.5996,\n",
              "            0.6006,      0.6016,      0.6026,      0.6036,      0.6046,     0.60561,     0.60661,     0.60761,     0.60861,     0.60961,     0.61061,     0.61161,     0.61261,     0.61361,     0.61461,     0.61562,     0.61662,     0.61762,     0.61862,     0.61962,     0.62062,     0.62162,     0.62262,     0.62362,\n",
              "           0.62462,     0.62563,     0.62663,     0.62763,     0.62863,     0.62963,     0.63063,     0.63163,     0.63263,     0.63363,     0.63463,     0.63564,     0.63664,     0.63764,     0.63864,     0.63964,     0.64064,     0.64164,     0.64264,     0.64364,     0.64464,     0.64565,     0.64665,     0.64765,\n",
              "           0.64865,     0.64965,     0.65065,     0.65165,     0.65265,     0.65365,     0.65465,     0.65566,     0.65666,     0.65766,     0.65866,     0.65966,     0.66066,     0.66166,     0.66266,     0.66366,     0.66466,     0.66567,     0.66667,     0.66767,     0.66867,     0.66967,     0.67067,     0.67167,\n",
              "           0.67267,     0.67367,     0.67467,     0.67568,     0.67668,     0.67768,     0.67868,     0.67968,     0.68068,     0.68168,     0.68268,     0.68368,     0.68468,     0.68569,     0.68669,     0.68769,     0.68869,     0.68969,     0.69069,     0.69169,     0.69269,     0.69369,     0.69469,      0.6957,\n",
              "            0.6967,      0.6977,      0.6987,      0.6997,      0.7007,      0.7017,      0.7027,      0.7037,      0.7047,     0.70571,     0.70671,     0.70771,     0.70871,     0.70971,     0.71071,     0.71171,     0.71271,     0.71371,     0.71471,     0.71572,     0.71672,     0.71772,     0.71872,     0.71972,\n",
              "           0.72072,     0.72172,     0.72272,     0.72372,     0.72472,     0.72573,     0.72673,     0.72773,     0.72873,     0.72973,     0.73073,     0.73173,     0.73273,     0.73373,     0.73473,     0.73574,     0.73674,     0.73774,     0.73874,     0.73974,     0.74074,     0.74174,     0.74274,     0.74374,\n",
              "           0.74474,     0.74575,     0.74675,     0.74775,     0.74875,     0.74975,     0.75075,     0.75175,     0.75275,     0.75375,     0.75475,     0.75576,     0.75676,     0.75776,     0.75876,     0.75976,     0.76076,     0.76176,     0.76276,     0.76376,     0.76476,     0.76577,     0.76677,     0.76777,\n",
              "           0.76877,     0.76977,     0.77077,     0.77177,     0.77277,     0.77377,     0.77477,     0.77578,     0.77678,     0.77778,     0.77878,     0.77978,     0.78078,     0.78178,     0.78278,     0.78378,     0.78478,     0.78579,     0.78679,     0.78779,     0.78879,     0.78979,     0.79079,     0.79179,\n",
              "           0.79279,     0.79379,     0.79479,      0.7958,      0.7968,      0.7978,      0.7988,      0.7998,      0.8008,      0.8018,      0.8028,      0.8038,      0.8048,     0.80581,     0.80681,     0.80781,     0.80881,     0.80981,     0.81081,     0.81181,     0.81281,     0.81381,     0.81481,     0.81582,\n",
              "           0.81682,     0.81782,     0.81882,     0.81982,     0.82082,     0.82182,     0.82282,     0.82382,     0.82482,     0.82583,     0.82683,     0.82783,     0.82883,     0.82983,     0.83083,     0.83183,     0.83283,     0.83383,     0.83483,     0.83584,     0.83684,     0.83784,     0.83884,     0.83984,\n",
              "           0.84084,     0.84184,     0.84284,     0.84384,     0.84484,     0.84585,     0.84685,     0.84785,     0.84885,     0.84985,     0.85085,     0.85185,     0.85285,     0.85385,     0.85485,     0.85586,     0.85686,     0.85786,     0.85886,     0.85986,     0.86086,     0.86186,     0.86286,     0.86386,\n",
              "           0.86486,     0.86587,     0.86687,     0.86787,     0.86887,     0.86987,     0.87087,     0.87187,     0.87287,     0.87387,     0.87487,     0.87588,     0.87688,     0.87788,     0.87888,     0.87988,     0.88088,     0.88188,     0.88288,     0.88388,     0.88488,     0.88589,     0.88689,     0.88789,\n",
              "           0.88889,     0.88989,     0.89089,     0.89189,     0.89289,     0.89389,     0.89489,      0.8959,      0.8969,      0.8979,      0.8989,      0.8999,      0.9009,      0.9019,      0.9029,      0.9039,      0.9049,     0.90591,     0.90691,     0.90791,     0.90891,     0.90991,     0.91091,     0.91191,\n",
              "           0.91291,     0.91391,     0.91491,     0.91592,     0.91692,     0.91792,     0.91892,     0.91992,     0.92092,     0.92192,     0.92292,     0.92392,     0.92492,     0.92593,     0.92693,     0.92793,     0.92893,     0.92993,     0.93093,     0.93193,     0.93293,     0.93393,     0.93493,     0.93594,\n",
              "           0.93694,     0.93794,     0.93894,     0.93994,     0.94094,     0.94194,     0.94294,     0.94394,     0.94494,     0.94595,     0.94695,     0.94795,     0.94895,     0.94995,     0.95095,     0.95195,     0.95295,     0.95395,     0.95495,     0.95596,     0.95696,     0.95796,     0.95896,     0.95996,\n",
              "           0.96096,     0.96196,     0.96296,     0.96396,     0.96496,     0.96597,     0.96697,     0.96797,     0.96897,     0.96997,     0.97097,     0.97197,     0.97297,     0.97397,     0.97497,     0.97598,     0.97698,     0.97798,     0.97898,     0.97998,     0.98098,     0.98198,     0.98298,     0.98398,\n",
              "           0.98498,     0.98599,     0.98699,     0.98799,     0.98899,     0.98999,     0.99099,     0.99199,     0.99299,     0.99399,     0.99499,       0.996,       0.997,       0.998,       0.999,           1]), array([[    0.33333,     0.33333,     0.42706,       0.488,     0.52715,     0.56842,     0.57352,     0.58808,     0.60792,      0.6165,     0.62261,     0.62779,     0.61919,     0.62145,     0.62372,     0.62598,     0.62824,     0.63051,     0.63277,     0.63503,     0.64081,     0.65159,     0.67832,\n",
              "            0.68406,      0.6898,     0.69554,     0.70055,     0.70303,     0.70551,     0.70799,     0.71047,     0.71294,     0.71542,      0.7179,     0.72038,     0.72286,     0.72676,      0.7322,     0.73764,     0.74308,     0.74851,     0.77495,      0.7707,     0.76888,     0.76835,     0.76781,\n",
              "            0.76728,     0.76674,     0.76621,     0.76567,     0.76514,      0.7646,     0.76407,     0.76353,       0.763,     0.76246,     0.76193,     0.76139,     0.76086,     0.76032,     0.76097,     0.76342,     0.76586,      0.7683,     0.77075,     0.77319,     0.77564,     0.77808,     0.78052,\n",
              "            0.78297,     0.78541,     0.78786,      0.7903,     0.78955,     0.78476,     0.78229,     0.78172,     0.78114,     0.78057,     0.77999,     0.77942,     0.77884,     0.77827,     0.77769,     0.77712,     0.77655,     0.77597,      0.7754,     0.77482,     0.77425,     0.77367,      0.7731,\n",
              "            0.77231,     0.77112,     0.76994,     0.76876,     0.76757,     0.76639,     0.76521,     0.76402,     0.76284,     0.76233,     0.76437,      0.7664,     0.76844,     0.77047,     0.77251,     0.77454,     0.77658,     0.77861,     0.78065,     0.78268,     0.78472,     0.78675,     0.78879,\n",
              "            0.79082,     0.79286,     0.79489,     0.79693,     0.79896,      0.8016,     0.80486,     0.80811,     0.81137,     0.81463,     0.81788,     0.82114,      0.8244,     0.82766,     0.83091,     0.83417,     0.83743,     0.84069,     0.84187,     0.84145,     0.84103,     0.84061,      0.8402,\n",
              "            0.83978,     0.83936,     0.83894,     0.83852,     0.83811,     0.83769,     0.83727,     0.83685,     0.83643,     0.83601,      0.8356,     0.83518,     0.83476,     0.83434,     0.83392,     0.83351,     0.83315,     0.83285,     0.83255,     0.83224,     0.83194,     0.83164,     0.83133,\n",
              "            0.83103,     0.83073,     0.83042,     0.83012,     0.82982,     0.82951,     0.82921,     0.82891,      0.8286,      0.8283,       0.828,     0.82769,     0.82739,     0.82709,     0.82678,     0.82648,     0.82618,     0.82587,     0.82557,     0.82527,     0.82496,     0.82466,     0.82436,\n",
              "            0.82405,     0.82375,     0.82435,     0.82734,     0.83033,     0.83333,     0.83632,     0.83931,     0.84231,      0.8453,     0.84829,     0.85129,     0.85428,     0.85727,     0.86027,     0.86326,     0.86625,     0.86925,     0.87224,      0.8751,     0.87632,     0.87754,     0.87876,\n",
              "            0.87998,      0.8812,     0.88242,     0.88364,     0.88486,     0.88608,      0.8873,     0.88852,     0.88974,     0.89096,     0.89218,      0.8934,     0.89462,     0.89584,     0.89706,     0.89828,      0.8995,     0.90072,     0.90194,     0.90316,     0.90438,      0.9056,     0.90682,\n",
              "            0.90804,     0.90926,     0.91048,      0.9117,     0.91292,     0.91414,     0.91536,     0.91658,      0.9178,     0.91902,     0.92025,     0.92147,     0.92269,     0.92391,     0.92513,     0.92635,     0.92757,     0.92879,     0.93001,     0.93123,     0.93245,      0.9333,     0.93318,\n",
              "            0.93306,     0.93294,     0.93282,     0.93271,     0.93259,     0.93247,     0.93235,     0.93223,     0.93211,     0.93199,     0.93187,     0.93175,     0.93163,     0.93151,      0.9314,     0.93128,     0.93116,     0.93104,     0.93092,      0.9308,     0.93068,     0.93056,     0.93044,\n",
              "            0.93032,     0.93021,     0.93009,     0.92997,     0.92985,     0.92973,     0.92961,     0.92949,     0.92937,     0.92925,     0.92913,     0.92901,      0.9289,     0.92878,     0.92866,     0.92891,     0.93013,     0.93135,     0.93257,     0.93379,     0.93501,     0.93623,     0.93745,\n",
              "            0.93867,     0.93989,     0.94111,     0.94233,     0.94355,     0.94477,     0.94599,     0.94721,     0.94843,     0.94965,     0.95087,     0.95209,     0.95331,     0.95453,     0.95575,     0.95697,     0.95819,     0.95941,     0.96063,     0.96185,     0.96307,      0.9643,     0.96552,\n",
              "            0.96674,     0.96796,     0.96918,      0.9704,     0.97162,     0.97284,     0.97406,     0.97528,      0.9765,     0.97772,     0.97894,     0.98016,     0.98138,      0.9826,     0.98382,     0.98504,     0.98626,     0.98748,      0.9887,     0.98992,     0.99114,     0.99236,     0.99358,\n",
              "             0.9948,     0.99602,     0.99724,     0.99846,     0.99968,           1,           1,           1,           1,           1,           1,           1,           1,           1,           1,           1,           1,           1,           1,           1,           1,           1,           1,\n",
              "                  1,           1,           1,           1,           1,           1,           1,           1,           1,           1,           1,           1,           1,           1,           1,           1,           1,           1,           1,           1,           1,           1,           1,\n",
              "                  1,           1,           1,           1,           1,           1,           1,           1,           1,           1,           1,           1,           1,           1,           1,           1,           1,           1,           1,           1,           1,           1,           1,\n",
              "                  1,           1,           1,           1,           1,           1,           1,           1,           1,           1,           1,           1,           1,           1,           1,           1,           1,           1,           1,           1,           1,           1,           1,\n",
              "                  1,           1,           1,           1,           1,           1,           1,           1,           1,           1,           1,           1,           1,           1,           1,           1,           1,           1,           1,           1,           1,           1,           1,\n",
              "                  1,           1,           1,           1,           1,           1,           1,           1,           1,           1,           1,           1,           1,           1,           1,           1,           1,           1,           1,           1,           1,           1,           1,\n",
              "                  1,           1,           1,           1,           1,           1,           1,           1,           1,           1,           1,           1,           1,           1,           1,           1,           1,           1,           1,           1,           1,           1,           1,\n",
              "                  1,           1,           1,           1,           1,           1,           1,           1,           1,           1,           1,           1,           1,           1,           1,           1,           1,           1,           1,           1,           1,           1,           1,\n",
              "                  1,           1,           1,           1,           1,           1,           1,           1,           1,           1,           1,           1,           1,           1,           1,           1,           1,           1,           1,           1,           1,           1,           1,\n",
              "                  1,           1,           1,           1,           1,           1,           1,           1,           1,           1,           1,           1,           1,           1,           1,           1,           1,           1,           1,           1,           1,           1,           1,\n",
              "                  1,           1,           1,           1,           1,           1,           1,           1,           1,           1,           1,           1,           1,           1,           1,           1,           1,           1,           1,           1,           1,           1,           1,\n",
              "                  1,           1,           1,           1,           1,           1,           1,           1,           1,           1,           1,           1,           1,           1,           1,           1,           1,           1,           1,           1,           1,           1,           1,\n",
              "                  1,           1,           1,           1,           1,           1,           1,           1,           1,           1,           1,           1,           1,           1,           1,           1,           1,           1,           1,           1,           1,           1,           1,\n",
              "                  1,           1,           1,           1,           1,           1,           1,           1,           1,           1,           1,           1,           1,           1,           1,           1,           1,           1,           1,           1,           1,           1,           1,\n",
              "                  1,           1,           1,           1,           1,           1,           1,           1,           1,           1,           1,           1,           1,           1,           1,           1,           1,           1,           1,           1,           1,           1,           1,\n",
              "                  1,           1,           1,           1,           1,           1,           1,           1,           1,           1,           1,           1,           1,           1,           1,           1,           1,           1,           1,           1,           1,           1,           1,\n",
              "                  1,           1,           1,           1,           1,           1,           1,           1,           1,           1,           1,           1,           1,           1,           1,           1,           1,           1,           1,           1,           1,           1,           1,\n",
              "                  1,           1,           1,           1,           1,           1,           1,           1,           1,           1,           1,           1,           1,           1,           1,           1,           1,           1,           1,           1,           1,           1,           1,\n",
              "                  1,           1,           1,           1,           1,           1,           1,           1,           1,           1,           1,           1,           1,           1,           1,           1,           1,           1,           1,           1,           1,           1,           1,\n",
              "                  1,           1,           1,           1,           1,           1,           1,           1,           1,           1,           1,           1,           1,           1,           1,           1,           1,           1,           1,           1,           1,           1,           1,\n",
              "                  1,           1,           1,           1,           1,           1,           1,           1,           1,           1,           1,           1,           1,           1,           1,           1,           1,           1,           1,           1,           1,           1,           1,\n",
              "                  1,           1,           1,           1,           1,           1,           1,           1,           1,           1,           1,           1,           1,           1,           1,           1,           1,           1,           1,           1,           1,           1,           1,\n",
              "                  1,           1,           1,           1,           1,           1,           1,           1,           1,           1,           1,           1,           1,           1,           1,           1,           1,           1,           1,           1,           1,           1,           1,\n",
              "                  1,           1,           1,           1,           1,           1,           1,           1,           1,           1,           1,           1,           1,           1,           1,           1,           1,           1,           1,           1,           1,           1,           1,\n",
              "                  1,           1,           1,           1,           1,           1,           1,           1,           1,           1,           1,           1,           1,           1,           1,           1,           1,           1,           1,           1,           1,           1,           1,\n",
              "                  1,           1,           1,           1,           1,           1,           1,           1,           1,           1,           1,           1,           1,           1,           1,           1,           1,           1,           1,           1,           1,           1,           1,\n",
              "                  1,           1,           1,           1,           1,           1,           1,           1,           1,           1,           1,           1,           1,           1,           1,           1,           1,           1,           1,           1,           1,           1,           1,\n",
              "                  1,           1,           1,           1,           1,           1,           1,           1,           1,           1,           1,           1,           1,           1,           1,           1,           1,           1,           1,           1,           1,           1,           1,\n",
              "                  1,           1,           1,           1,           1,           1,           1,           1,           1,           1,           1]]), 'Confidence', 'Precision'], [array([          0,    0.001001,    0.002002,    0.003003,    0.004004,    0.005005,    0.006006,    0.007007,    0.008008,    0.009009,     0.01001,    0.011011,    0.012012,    0.013013,    0.014014,    0.015015,    0.016016,    0.017017,    0.018018,    0.019019,     0.02002,    0.021021,    0.022022,    0.023023,\n",
              "          0.024024,    0.025025,    0.026026,    0.027027,    0.028028,    0.029029,     0.03003,    0.031031,    0.032032,    0.033033,    0.034034,    0.035035,    0.036036,    0.037037,    0.038038,    0.039039,     0.04004,    0.041041,    0.042042,    0.043043,    0.044044,    0.045045,    0.046046,    0.047047,\n",
              "          0.048048,    0.049049,     0.05005,    0.051051,    0.052052,    0.053053,    0.054054,    0.055055,    0.056056,    0.057057,    0.058058,    0.059059,     0.06006,    0.061061,    0.062062,    0.063063,    0.064064,    0.065065,    0.066066,    0.067067,    0.068068,    0.069069,     0.07007,    0.071071,\n",
              "          0.072072,    0.073073,    0.074074,    0.075075,    0.076076,    0.077077,    0.078078,    0.079079,     0.08008,    0.081081,    0.082082,    0.083083,    0.084084,    0.085085,    0.086086,    0.087087,    0.088088,    0.089089,     0.09009,    0.091091,    0.092092,    0.093093,    0.094094,    0.095095,\n",
              "          0.096096,    0.097097,    0.098098,    0.099099,      0.1001,      0.1011,      0.1021,      0.1031,      0.1041,     0.10511,     0.10611,     0.10711,     0.10811,     0.10911,     0.11011,     0.11111,     0.11211,     0.11311,     0.11411,     0.11512,     0.11612,     0.11712,     0.11812,     0.11912,\n",
              "           0.12012,     0.12112,     0.12212,     0.12312,     0.12412,     0.12513,     0.12613,     0.12713,     0.12813,     0.12913,     0.13013,     0.13113,     0.13213,     0.13313,     0.13413,     0.13514,     0.13614,     0.13714,     0.13814,     0.13914,     0.14014,     0.14114,     0.14214,     0.14314,\n",
              "           0.14414,     0.14515,     0.14615,     0.14715,     0.14815,     0.14915,     0.15015,     0.15115,     0.15215,     0.15315,     0.15415,     0.15516,     0.15616,     0.15716,     0.15816,     0.15916,     0.16016,     0.16116,     0.16216,     0.16316,     0.16416,     0.16517,     0.16617,     0.16717,\n",
              "           0.16817,     0.16917,     0.17017,     0.17117,     0.17217,     0.17317,     0.17417,     0.17518,     0.17618,     0.17718,     0.17818,     0.17918,     0.18018,     0.18118,     0.18218,     0.18318,     0.18418,     0.18519,     0.18619,     0.18719,     0.18819,     0.18919,     0.19019,     0.19119,\n",
              "           0.19219,     0.19319,     0.19419,      0.1952,      0.1962,      0.1972,      0.1982,      0.1992,      0.2002,      0.2012,      0.2022,      0.2032,      0.2042,     0.20521,     0.20621,     0.20721,     0.20821,     0.20921,     0.21021,     0.21121,     0.21221,     0.21321,     0.21421,     0.21522,\n",
              "           0.21622,     0.21722,     0.21822,     0.21922,     0.22022,     0.22122,     0.22222,     0.22322,     0.22422,     0.22523,     0.22623,     0.22723,     0.22823,     0.22923,     0.23023,     0.23123,     0.23223,     0.23323,     0.23423,     0.23524,     0.23624,     0.23724,     0.23824,     0.23924,\n",
              "           0.24024,     0.24124,     0.24224,     0.24324,     0.24424,     0.24525,     0.24625,     0.24725,     0.24825,     0.24925,     0.25025,     0.25125,     0.25225,     0.25325,     0.25425,     0.25526,     0.25626,     0.25726,     0.25826,     0.25926,     0.26026,     0.26126,     0.26226,     0.26326,\n",
              "           0.26426,     0.26527,     0.26627,     0.26727,     0.26827,     0.26927,     0.27027,     0.27127,     0.27227,     0.27327,     0.27427,     0.27528,     0.27628,     0.27728,     0.27828,     0.27928,     0.28028,     0.28128,     0.28228,     0.28328,     0.28428,     0.28529,     0.28629,     0.28729,\n",
              "           0.28829,     0.28929,     0.29029,     0.29129,     0.29229,     0.29329,     0.29429,      0.2953,      0.2963,      0.2973,      0.2983,      0.2993,      0.3003,      0.3013,      0.3023,      0.3033,      0.3043,     0.30531,     0.30631,     0.30731,     0.30831,     0.30931,     0.31031,     0.31131,\n",
              "           0.31231,     0.31331,     0.31431,     0.31532,     0.31632,     0.31732,     0.31832,     0.31932,     0.32032,     0.32132,     0.32232,     0.32332,     0.32432,     0.32533,     0.32633,     0.32733,     0.32833,     0.32933,     0.33033,     0.33133,     0.33233,     0.33333,     0.33433,     0.33534,\n",
              "           0.33634,     0.33734,     0.33834,     0.33934,     0.34034,     0.34134,     0.34234,     0.34334,     0.34434,     0.34535,     0.34635,     0.34735,     0.34835,     0.34935,     0.35035,     0.35135,     0.35235,     0.35335,     0.35435,     0.35536,     0.35636,     0.35736,     0.35836,     0.35936,\n",
              "           0.36036,     0.36136,     0.36236,     0.36336,     0.36436,     0.36537,     0.36637,     0.36737,     0.36837,     0.36937,     0.37037,     0.37137,     0.37237,     0.37337,     0.37437,     0.37538,     0.37638,     0.37738,     0.37838,     0.37938,     0.38038,     0.38138,     0.38238,     0.38338,\n",
              "           0.38438,     0.38539,     0.38639,     0.38739,     0.38839,     0.38939,     0.39039,     0.39139,     0.39239,     0.39339,     0.39439,      0.3954,      0.3964,      0.3974,      0.3984,      0.3994,      0.4004,      0.4014,      0.4024,      0.4034,      0.4044,     0.40541,     0.40641,     0.40741,\n",
              "           0.40841,     0.40941,     0.41041,     0.41141,     0.41241,     0.41341,     0.41441,     0.41542,     0.41642,     0.41742,     0.41842,     0.41942,     0.42042,     0.42142,     0.42242,     0.42342,     0.42442,     0.42543,     0.42643,     0.42743,     0.42843,     0.42943,     0.43043,     0.43143,\n",
              "           0.43243,     0.43343,     0.43443,     0.43544,     0.43644,     0.43744,     0.43844,     0.43944,     0.44044,     0.44144,     0.44244,     0.44344,     0.44444,     0.44545,     0.44645,     0.44745,     0.44845,     0.44945,     0.45045,     0.45145,     0.45245,     0.45345,     0.45445,     0.45546,\n",
              "           0.45646,     0.45746,     0.45846,     0.45946,     0.46046,     0.46146,     0.46246,     0.46346,     0.46446,     0.46547,     0.46647,     0.46747,     0.46847,     0.46947,     0.47047,     0.47147,     0.47247,     0.47347,     0.47447,     0.47548,     0.47648,     0.47748,     0.47848,     0.47948,\n",
              "           0.48048,     0.48148,     0.48248,     0.48348,     0.48448,     0.48549,     0.48649,     0.48749,     0.48849,     0.48949,     0.49049,     0.49149,     0.49249,     0.49349,     0.49449,      0.4955,      0.4965,      0.4975,      0.4985,      0.4995,      0.5005,      0.5015,      0.5025,      0.5035,\n",
              "            0.5045,     0.50551,     0.50651,     0.50751,     0.50851,     0.50951,     0.51051,     0.51151,     0.51251,     0.51351,     0.51451,     0.51552,     0.51652,     0.51752,     0.51852,     0.51952,     0.52052,     0.52152,     0.52252,     0.52352,     0.52452,     0.52553,     0.52653,     0.52753,\n",
              "           0.52853,     0.52953,     0.53053,     0.53153,     0.53253,     0.53353,     0.53453,     0.53554,     0.53654,     0.53754,     0.53854,     0.53954,     0.54054,     0.54154,     0.54254,     0.54354,     0.54454,     0.54555,     0.54655,     0.54755,     0.54855,     0.54955,     0.55055,     0.55155,\n",
              "           0.55255,     0.55355,     0.55455,     0.55556,     0.55656,     0.55756,     0.55856,     0.55956,     0.56056,     0.56156,     0.56256,     0.56356,     0.56456,     0.56557,     0.56657,     0.56757,     0.56857,     0.56957,     0.57057,     0.57157,     0.57257,     0.57357,     0.57457,     0.57558,\n",
              "           0.57658,     0.57758,     0.57858,     0.57958,     0.58058,     0.58158,     0.58258,     0.58358,     0.58458,     0.58559,     0.58659,     0.58759,     0.58859,     0.58959,     0.59059,     0.59159,     0.59259,     0.59359,     0.59459,      0.5956,      0.5966,      0.5976,      0.5986,      0.5996,\n",
              "            0.6006,      0.6016,      0.6026,      0.6036,      0.6046,     0.60561,     0.60661,     0.60761,     0.60861,     0.60961,     0.61061,     0.61161,     0.61261,     0.61361,     0.61461,     0.61562,     0.61662,     0.61762,     0.61862,     0.61962,     0.62062,     0.62162,     0.62262,     0.62362,\n",
              "           0.62462,     0.62563,     0.62663,     0.62763,     0.62863,     0.62963,     0.63063,     0.63163,     0.63263,     0.63363,     0.63463,     0.63564,     0.63664,     0.63764,     0.63864,     0.63964,     0.64064,     0.64164,     0.64264,     0.64364,     0.64464,     0.64565,     0.64665,     0.64765,\n",
              "           0.64865,     0.64965,     0.65065,     0.65165,     0.65265,     0.65365,     0.65465,     0.65566,     0.65666,     0.65766,     0.65866,     0.65966,     0.66066,     0.66166,     0.66266,     0.66366,     0.66466,     0.66567,     0.66667,     0.66767,     0.66867,     0.66967,     0.67067,     0.67167,\n",
              "           0.67267,     0.67367,     0.67467,     0.67568,     0.67668,     0.67768,     0.67868,     0.67968,     0.68068,     0.68168,     0.68268,     0.68368,     0.68468,     0.68569,     0.68669,     0.68769,     0.68869,     0.68969,     0.69069,     0.69169,     0.69269,     0.69369,     0.69469,      0.6957,\n",
              "            0.6967,      0.6977,      0.6987,      0.6997,      0.7007,      0.7017,      0.7027,      0.7037,      0.7047,     0.70571,     0.70671,     0.70771,     0.70871,     0.70971,     0.71071,     0.71171,     0.71271,     0.71371,     0.71471,     0.71572,     0.71672,     0.71772,     0.71872,     0.71972,\n",
              "           0.72072,     0.72172,     0.72272,     0.72372,     0.72472,     0.72573,     0.72673,     0.72773,     0.72873,     0.72973,     0.73073,     0.73173,     0.73273,     0.73373,     0.73473,     0.73574,     0.73674,     0.73774,     0.73874,     0.73974,     0.74074,     0.74174,     0.74274,     0.74374,\n",
              "           0.74474,     0.74575,     0.74675,     0.74775,     0.74875,     0.74975,     0.75075,     0.75175,     0.75275,     0.75375,     0.75475,     0.75576,     0.75676,     0.75776,     0.75876,     0.75976,     0.76076,     0.76176,     0.76276,     0.76376,     0.76476,     0.76577,     0.76677,     0.76777,\n",
              "           0.76877,     0.76977,     0.77077,     0.77177,     0.77277,     0.77377,     0.77477,     0.77578,     0.77678,     0.77778,     0.77878,     0.77978,     0.78078,     0.78178,     0.78278,     0.78378,     0.78478,     0.78579,     0.78679,     0.78779,     0.78879,     0.78979,     0.79079,     0.79179,\n",
              "           0.79279,     0.79379,     0.79479,      0.7958,      0.7968,      0.7978,      0.7988,      0.7998,      0.8008,      0.8018,      0.8028,      0.8038,      0.8048,     0.80581,     0.80681,     0.80781,     0.80881,     0.80981,     0.81081,     0.81181,     0.81281,     0.81381,     0.81481,     0.81582,\n",
              "           0.81682,     0.81782,     0.81882,     0.81982,     0.82082,     0.82182,     0.82282,     0.82382,     0.82482,     0.82583,     0.82683,     0.82783,     0.82883,     0.82983,     0.83083,     0.83183,     0.83283,     0.83383,     0.83483,     0.83584,     0.83684,     0.83784,     0.83884,     0.83984,\n",
              "           0.84084,     0.84184,     0.84284,     0.84384,     0.84484,     0.84585,     0.84685,     0.84785,     0.84885,     0.84985,     0.85085,     0.85185,     0.85285,     0.85385,     0.85485,     0.85586,     0.85686,     0.85786,     0.85886,     0.85986,     0.86086,     0.86186,     0.86286,     0.86386,\n",
              "           0.86486,     0.86587,     0.86687,     0.86787,     0.86887,     0.86987,     0.87087,     0.87187,     0.87287,     0.87387,     0.87487,     0.87588,     0.87688,     0.87788,     0.87888,     0.87988,     0.88088,     0.88188,     0.88288,     0.88388,     0.88488,     0.88589,     0.88689,     0.88789,\n",
              "           0.88889,     0.88989,     0.89089,     0.89189,     0.89289,     0.89389,     0.89489,      0.8959,      0.8969,      0.8979,      0.8989,      0.8999,      0.9009,      0.9019,      0.9029,      0.9039,      0.9049,     0.90591,     0.90691,     0.90791,     0.90891,     0.90991,     0.91091,     0.91191,\n",
              "           0.91291,     0.91391,     0.91491,     0.91592,     0.91692,     0.91792,     0.91892,     0.91992,     0.92092,     0.92192,     0.92292,     0.92392,     0.92492,     0.92593,     0.92693,     0.92793,     0.92893,     0.92993,     0.93093,     0.93193,     0.93293,     0.93393,     0.93493,     0.93594,\n",
              "           0.93694,     0.93794,     0.93894,     0.93994,     0.94094,     0.94194,     0.94294,     0.94394,     0.94494,     0.94595,     0.94695,     0.94795,     0.94895,     0.94995,     0.95095,     0.95195,     0.95295,     0.95395,     0.95495,     0.95596,     0.95696,     0.95796,     0.95896,     0.95996,\n",
              "           0.96096,     0.96196,     0.96296,     0.96396,     0.96496,     0.96597,     0.96697,     0.96797,     0.96897,     0.96997,     0.97097,     0.97197,     0.97297,     0.97397,     0.97497,     0.97598,     0.97698,     0.97798,     0.97898,     0.97998,     0.98098,     0.98198,     0.98298,     0.98398,\n",
              "           0.98498,     0.98599,     0.98699,     0.98799,     0.98899,     0.98999,     0.99099,     0.99199,     0.99299,     0.99399,     0.99499,       0.996,       0.997,       0.998,       0.999,           1]), array([[          1,           1,           1,     0.99297,     0.95833,     0.95833,     0.91667,     0.91667,     0.91667,     0.91667,     0.91667,     0.91367,       0.875,       0.875,       0.875,       0.875,       0.875,       0.875,       0.875,       0.875,       0.875,       0.875,       0.875,\n",
              "              0.875,       0.875,       0.875,       0.875,       0.875,       0.875,       0.875,       0.875,       0.875,       0.875,       0.875,       0.875,       0.875,       0.875,       0.875,       0.875,       0.875,       0.875,     0.86122,     0.84051,     0.83176,     0.82934,     0.82693,\n",
              "            0.82451,      0.8221,     0.81968,     0.81727,     0.81485,     0.81244,     0.81002,     0.80761,     0.80519,     0.80278,     0.80036,     0.79795,     0.79554,     0.79312,     0.79167,     0.79167,     0.79167,     0.79167,     0.79167,     0.79167,     0.79167,     0.79167,     0.79167,\n",
              "            0.79167,     0.79167,     0.79167,     0.79167,     0.78195,     0.75991,     0.74867,     0.74624,     0.74382,      0.7414,     0.73897,     0.73655,     0.73413,      0.7317,     0.72928,     0.72686,     0.72443,     0.72201,     0.71959,     0.71716,     0.71474,     0.71232,     0.70989,\n",
              "            0.70671,     0.70216,      0.6976,     0.69304,     0.68849,     0.68393,     0.67938,     0.67482,     0.67027,     0.66667,     0.66667,     0.66667,     0.66667,     0.66667,     0.66667,     0.66667,     0.66667,     0.66667,     0.66667,     0.66667,     0.66667,     0.66667,     0.66667,\n",
              "            0.66667,     0.66667,     0.66667,     0.66667,     0.66667,     0.66667,     0.66667,     0.66667,     0.66667,     0.66667,     0.66667,     0.66667,     0.66667,     0.66667,     0.66667,     0.66667,     0.66667,     0.66667,     0.66555,     0.66356,     0.66157,     0.65959,      0.6576,\n",
              "            0.65561,     0.65363,     0.65164,     0.64965,     0.64767,     0.64568,     0.64369,     0.64171,     0.63972,     0.63774,     0.63575,     0.63376,     0.63178,     0.62979,      0.6278,     0.62582,     0.62424,     0.62295,     0.62166,     0.62037,     0.61908,     0.61779,      0.6165,\n",
              "            0.61522,     0.61393,     0.61264,     0.61135,     0.61006,     0.60877,     0.60748,     0.60619,      0.6049,     0.60361,     0.60232,     0.60103,     0.59974,     0.59845,     0.59716,     0.59587,     0.59459,      0.5933,     0.59201,     0.59072,     0.58943,     0.58814,     0.58685,\n",
              "            0.58556,     0.58427,     0.58333,     0.58333,     0.58333,     0.58333,     0.58333,     0.58333,     0.58333,     0.58333,     0.58333,     0.58333,     0.58333,     0.58333,     0.58333,     0.58333,     0.58333,     0.58333,     0.58333,     0.58333,     0.58333,     0.58333,     0.58333,\n",
              "            0.58333,     0.58333,     0.58333,     0.58333,     0.58333,     0.58333,     0.58333,     0.58333,     0.58333,     0.58333,     0.58333,     0.58333,     0.58333,     0.58333,     0.58333,     0.58333,     0.58333,     0.58333,     0.58333,     0.58333,     0.58333,     0.58333,     0.58333,\n",
              "            0.58333,     0.58333,     0.58333,     0.58333,     0.58333,     0.58333,     0.58333,     0.58333,     0.58333,     0.58333,     0.58333,     0.58333,     0.58333,     0.58333,     0.58333,     0.58333,     0.58333,     0.58333,     0.58333,     0.58333,     0.58333,     0.58305,     0.58201,\n",
              "            0.58096,     0.57992,     0.57888,     0.57784,      0.5768,     0.57576,     0.57471,     0.57367,     0.57263,     0.57159,     0.57055,     0.56951,     0.56846,     0.56742,     0.56638,     0.56534,      0.5643,     0.56326,     0.56221,     0.56117,     0.56013,     0.55909,     0.55805,\n",
              "            0.55701,     0.55596,     0.55492,     0.55388,     0.55284,      0.5518,     0.55076,     0.54971,     0.54867,     0.54763,     0.54659,     0.54555,      0.5445,     0.54346,     0.54242,     0.54167,     0.54167,     0.54167,     0.54167,     0.54167,     0.54167,     0.54167,     0.54167,\n",
              "            0.54167,     0.54167,     0.54167,     0.54167,     0.54167,     0.54167,     0.54167,     0.54167,     0.54167,     0.54167,     0.54167,     0.54167,     0.54167,     0.54167,     0.54167,     0.54167,     0.54167,     0.54167,     0.54167,     0.54167,     0.54167,     0.54167,     0.54167,\n",
              "            0.54167,     0.54167,     0.54167,     0.54167,     0.54167,     0.54167,     0.54167,     0.54167,     0.54167,     0.54167,     0.54167,     0.54167,     0.54167,     0.54167,     0.54167,     0.54167,     0.54167,     0.54167,     0.54167,     0.54167,     0.54167,     0.54167,     0.54167,\n",
              "            0.54167,     0.54167,     0.54167,     0.54167,     0.54167,     0.54121,     0.54059,     0.53996,     0.53934,     0.53872,      0.5381,     0.53748,     0.53686,     0.53624,     0.53562,     0.53499,     0.53437,     0.53375,     0.53313,     0.53251,     0.53189,     0.53127,     0.53065,\n",
              "            0.53002,      0.5294,     0.52878,     0.52816,     0.52754,     0.52692,      0.5263,     0.52568,     0.52505,     0.52443,     0.52381,     0.52319,     0.52257,     0.52195,     0.52133,     0.52071,     0.52009,     0.51946,     0.51884,     0.51822,      0.5176,     0.51698,     0.51636,\n",
              "            0.51574,     0.51512,     0.51449,     0.51387,     0.51325,     0.51263,     0.51201,     0.51139,     0.51077,     0.51015,     0.50952,      0.5089,     0.50828,     0.50766,     0.50704,     0.50642,      0.5058,     0.50518,     0.50455,     0.50393,     0.50331,     0.50269,     0.50207,\n",
              "            0.50145,     0.50083,     0.50021,     0.49915,     0.49787,      0.4966,     0.49532,     0.49405,     0.49277,      0.4915,     0.49022,     0.48895,     0.48767,      0.4864,     0.48512,     0.48385,     0.48257,      0.4813,     0.48002,     0.47875,     0.47747,      0.4762,     0.47492,\n",
              "            0.47365,     0.47237,      0.4711,     0.46982,     0.46855,     0.46727,       0.466,     0.46472,     0.46345,     0.46218,      0.4609,     0.45963,     0.45835,      0.4564,     0.45443,     0.45247,     0.45051,     0.44854,     0.44658,     0.44461,     0.44265,     0.44069,     0.43872,\n",
              "            0.43676,      0.4348,     0.43283,     0.43087,      0.4289,     0.42694,     0.42498,     0.42301,     0.42105,     0.41909,     0.41712,      0.4164,     0.41604,     0.41569,     0.41534,     0.41498,     0.41463,     0.41428,     0.41392,     0.41357,     0.41322,     0.41287,     0.41251,\n",
              "            0.41216,     0.41181,     0.41145,      0.4111,     0.41075,      0.4104,     0.41004,     0.40969,     0.40934,     0.40898,     0.40863,     0.40828,     0.40792,     0.40757,     0.40722,     0.40687,     0.40651,     0.40616,     0.40581,     0.40545,      0.4051,     0.40475,     0.40439,\n",
              "            0.40404,     0.40369,     0.40334,     0.40298,     0.40263,     0.40228,     0.40192,     0.40157,     0.40122,     0.40087,     0.40051,     0.40016,     0.39981,     0.39945,      0.3991,     0.39875,     0.39839,     0.39804,     0.39769,     0.39734,     0.39698,     0.39663,     0.39628,\n",
              "            0.39592,     0.39557,     0.39522,     0.39486,     0.39451,     0.39416,     0.39381,     0.39345,      0.3931,     0.39275,     0.39239,     0.39204,     0.39169,     0.39133,     0.39098,     0.39063,     0.39028,     0.38992,     0.38957,     0.38922,     0.38886,     0.38851,     0.38816,\n",
              "            0.38781,     0.38745,      0.3871,     0.38675,     0.38639,     0.38604,     0.38569,     0.38533,     0.38498,     0.38463,     0.38428,     0.38392,     0.38357,     0.38322,     0.38286,     0.38251,     0.38216,      0.3818,     0.38145,      0.3811,     0.38075,     0.38039,     0.38004,\n",
              "            0.37969,     0.37933,     0.37898,     0.37863,     0.37827,     0.37792,     0.37757,     0.37722,     0.37686,     0.37651,     0.37616,      0.3758,     0.37545,      0.3751,      0.3746,     0.37404,     0.37348,     0.37292,     0.37236,     0.37181,     0.37125,     0.37069,     0.37013,\n",
              "            0.36957,     0.36901,     0.36846,      0.3679,     0.36734,     0.36678,     0.36622,     0.36566,     0.36511,     0.36455,     0.36399,     0.36343,     0.36287,     0.36231,     0.36176,      0.3612,     0.36064,     0.36008,     0.35952,     0.35896,     0.35841,     0.35785,     0.35729,\n",
              "            0.35673,     0.35617,     0.35562,     0.35506,      0.3545,     0.35394,     0.35338,     0.35282,     0.35227,     0.35171,     0.35115,     0.35059,     0.35003,     0.34947,     0.34892,     0.34836,      0.3478,     0.34724,     0.34668,     0.34612,     0.34557,     0.34501,     0.34445,\n",
              "            0.34389,     0.34333,     0.34277,     0.34222,     0.34166,      0.3411,     0.34054,     0.33998,     0.33942,     0.33887,     0.33831,     0.33775,     0.33719,     0.33663,     0.33607,     0.33552,     0.33496,      0.3344,     0.33384,     0.33327,     0.33256,     0.33186,     0.33115,\n",
              "            0.33045,     0.32974,     0.32903,     0.32833,     0.32762,     0.32692,     0.32621,      0.3255,      0.3248,     0.32409,     0.32339,     0.32268,     0.32198,     0.32127,     0.32056,     0.31986,     0.31915,     0.31845,     0.31774,     0.31703,     0.31633,     0.31562,     0.31492,\n",
              "            0.31421,      0.3135,      0.3128,     0.31209,     0.31139,     0.31068,     0.30997,     0.30927,     0.30856,     0.30786,     0.30715,     0.30644,     0.30574,     0.30503,     0.30433,     0.30362,     0.30291,     0.30221,      0.3015,      0.3008,     0.30009,     0.29939,     0.29868,\n",
              "            0.29797,     0.29727,     0.29656,     0.29586,     0.29515,     0.29444,     0.29374,     0.29303,     0.29233,     0.29159,     0.29047,     0.28934,     0.28822,      0.2871,     0.28597,     0.28485,     0.28372,      0.2826,     0.28148,     0.28035,     0.27923,      0.2781,     0.27698,\n",
              "            0.27586,     0.27473,     0.27361,     0.27249,     0.27136,     0.27024,     0.26911,     0.26799,     0.26687,     0.26574,     0.26462,     0.26349,     0.26237,     0.26125,     0.26012,       0.259,     0.25787,     0.25675,     0.25563,      0.2545,     0.25338,     0.25225,     0.25113,\n",
              "            0.25001,     0.24938,     0.24875,     0.24812,     0.24749,     0.24686,     0.24624,     0.24561,     0.24498,     0.24435,     0.24372,     0.24309,     0.24247,     0.24184,     0.24121,     0.24058,     0.23995,     0.23933,      0.2387,     0.23807,     0.23744,     0.23681,     0.23619,\n",
              "            0.23556,     0.23493,      0.2343,     0.23367,     0.23305,     0.23242,     0.23179,     0.23116,     0.23053,     0.22991,     0.22928,     0.22865,     0.22802,     0.22739,     0.22676,     0.22614,     0.22551,     0.22488,     0.22425,     0.22362,       0.223,     0.22237,     0.22174,\n",
              "            0.22111,     0.22048,     0.21986,     0.21923,      0.2186,     0.21797,     0.21734,     0.21672,     0.21609,     0.21546,     0.21483,      0.2142,     0.21358,     0.21295,     0.21232,     0.21169,     0.21106,     0.21043,     0.20981,     0.20918,     0.20855,      0.2074,     0.20598,\n",
              "            0.20455,     0.20313,     0.20171,     0.20028,     0.19886,     0.19744,     0.19601,     0.19459,     0.19317,     0.19174,     0.19032,     0.18889,     0.18747,     0.18605,     0.18462,      0.1832,     0.18178,     0.18035,     0.17893,     0.17751,     0.17608,     0.17466,     0.17323,\n",
              "            0.17181,     0.17039,     0.16896,     0.16754,     0.16366,      0.1559,     0.14813,     0.14037,      0.1326,     0.12494,     0.12209,     0.11925,      0.1164,     0.11355,      0.1107,     0.10786,     0.10501,     0.10216,    0.099315,    0.096467,     0.09362,    0.090773,    0.087925,\n",
              "           0.085078,    0.082546,    0.080512,    0.078478,    0.076445,    0.074411,    0.072377,    0.070343,    0.068309,    0.066276,    0.064242,    0.062208,    0.060174,     0.05814,    0.056107,    0.054073,    0.052039,    0.050005,    0.047972,    0.045938,    0.043904,     0.04187,           0,\n",
              "                  0,           0,           0,           0,           0,           0,           0,           0,           0,           0,           0,           0,           0,           0,           0,           0,           0,           0,           0,           0,           0,           0,           0,\n",
              "                  0,           0,           0,           0,           0,           0,           0,           0,           0,           0,           0,           0,           0,           0,           0,           0,           0,           0,           0,           0,           0,           0,           0,\n",
              "                  0,           0,           0,           0,           0,           0,           0,           0,           0,           0,           0,           0,           0,           0,           0,           0,           0,           0,           0,           0,           0,           0,           0,\n",
              "                  0,           0,           0,           0,           0,           0,           0,           0,           0,           0,           0,           0,           0,           0,           0,           0,           0,           0,           0,           0,           0,           0,           0,\n",
              "                  0,           0,           0,           0,           0,           0,           0,           0,           0,           0,           0]]), 'Confidence', 'Recall'], [array([          0,    0.001001,    0.002002,    0.003003,    0.004004,    0.005005,    0.006006,    0.007007,    0.008008,    0.009009,     0.01001,    0.011011,    0.012012,    0.013013,    0.014014,    0.015015,    0.016016,    0.017017,    0.018018,    0.019019,     0.02002,    0.021021,    0.022022,    0.023023,\n",
              "          0.024024,    0.025025,    0.026026,    0.027027,    0.028028,    0.029029,     0.03003,    0.031031,    0.032032,    0.033033,    0.034034,    0.035035,    0.036036,    0.037037,    0.038038,    0.039039,     0.04004,    0.041041,    0.042042,    0.043043,    0.044044,    0.045045,    0.046046,    0.047047,\n",
              "          0.048048,    0.049049,     0.05005,    0.051051,    0.052052,    0.053053,    0.054054,    0.055055,    0.056056,    0.057057,    0.058058,    0.059059,     0.06006,    0.061061,    0.062062,    0.063063,    0.064064,    0.065065,    0.066066,    0.067067,    0.068068,    0.069069,     0.07007,    0.071071,\n",
              "          0.072072,    0.073073,    0.074074,    0.075075,    0.076076,    0.077077,    0.078078,    0.079079,     0.08008,    0.081081,    0.082082,    0.083083,    0.084084,    0.085085,    0.086086,    0.087087,    0.088088,    0.089089,     0.09009,    0.091091,    0.092092,    0.093093,    0.094094,    0.095095,\n",
              "          0.096096,    0.097097,    0.098098,    0.099099,      0.1001,      0.1011,      0.1021,      0.1031,      0.1041,     0.10511,     0.10611,     0.10711,     0.10811,     0.10911,     0.11011,     0.11111,     0.11211,     0.11311,     0.11411,     0.11512,     0.11612,     0.11712,     0.11812,     0.11912,\n",
              "           0.12012,     0.12112,     0.12212,     0.12312,     0.12412,     0.12513,     0.12613,     0.12713,     0.12813,     0.12913,     0.13013,     0.13113,     0.13213,     0.13313,     0.13413,     0.13514,     0.13614,     0.13714,     0.13814,     0.13914,     0.14014,     0.14114,     0.14214,     0.14314,\n",
              "           0.14414,     0.14515,     0.14615,     0.14715,     0.14815,     0.14915,     0.15015,     0.15115,     0.15215,     0.15315,     0.15415,     0.15516,     0.15616,     0.15716,     0.15816,     0.15916,     0.16016,     0.16116,     0.16216,     0.16316,     0.16416,     0.16517,     0.16617,     0.16717,\n",
              "           0.16817,     0.16917,     0.17017,     0.17117,     0.17217,     0.17317,     0.17417,     0.17518,     0.17618,     0.17718,     0.17818,     0.17918,     0.18018,     0.18118,     0.18218,     0.18318,     0.18418,     0.18519,     0.18619,     0.18719,     0.18819,     0.18919,     0.19019,     0.19119,\n",
              "           0.19219,     0.19319,     0.19419,      0.1952,      0.1962,      0.1972,      0.1982,      0.1992,      0.2002,      0.2012,      0.2022,      0.2032,      0.2042,     0.20521,     0.20621,     0.20721,     0.20821,     0.20921,     0.21021,     0.21121,     0.21221,     0.21321,     0.21421,     0.21522,\n",
              "           0.21622,     0.21722,     0.21822,     0.21922,     0.22022,     0.22122,     0.22222,     0.22322,     0.22422,     0.22523,     0.22623,     0.22723,     0.22823,     0.22923,     0.23023,     0.23123,     0.23223,     0.23323,     0.23423,     0.23524,     0.23624,     0.23724,     0.23824,     0.23924,\n",
              "           0.24024,     0.24124,     0.24224,     0.24324,     0.24424,     0.24525,     0.24625,     0.24725,     0.24825,     0.24925,     0.25025,     0.25125,     0.25225,     0.25325,     0.25425,     0.25526,     0.25626,     0.25726,     0.25826,     0.25926,     0.26026,     0.26126,     0.26226,     0.26326,\n",
              "           0.26426,     0.26527,     0.26627,     0.26727,     0.26827,     0.26927,     0.27027,     0.27127,     0.27227,     0.27327,     0.27427,     0.27528,     0.27628,     0.27728,     0.27828,     0.27928,     0.28028,     0.28128,     0.28228,     0.28328,     0.28428,     0.28529,     0.28629,     0.28729,\n",
              "           0.28829,     0.28929,     0.29029,     0.29129,     0.29229,     0.29329,     0.29429,      0.2953,      0.2963,      0.2973,      0.2983,      0.2993,      0.3003,      0.3013,      0.3023,      0.3033,      0.3043,     0.30531,     0.30631,     0.30731,     0.30831,     0.30931,     0.31031,     0.31131,\n",
              "           0.31231,     0.31331,     0.31431,     0.31532,     0.31632,     0.31732,     0.31832,     0.31932,     0.32032,     0.32132,     0.32232,     0.32332,     0.32432,     0.32533,     0.32633,     0.32733,     0.32833,     0.32933,     0.33033,     0.33133,     0.33233,     0.33333,     0.33433,     0.33534,\n",
              "           0.33634,     0.33734,     0.33834,     0.33934,     0.34034,     0.34134,     0.34234,     0.34334,     0.34434,     0.34535,     0.34635,     0.34735,     0.34835,     0.34935,     0.35035,     0.35135,     0.35235,     0.35335,     0.35435,     0.35536,     0.35636,     0.35736,     0.35836,     0.35936,\n",
              "           0.36036,     0.36136,     0.36236,     0.36336,     0.36436,     0.36537,     0.36637,     0.36737,     0.36837,     0.36937,     0.37037,     0.37137,     0.37237,     0.37337,     0.37437,     0.37538,     0.37638,     0.37738,     0.37838,     0.37938,     0.38038,     0.38138,     0.38238,     0.38338,\n",
              "           0.38438,     0.38539,     0.38639,     0.38739,     0.38839,     0.38939,     0.39039,     0.39139,     0.39239,     0.39339,     0.39439,      0.3954,      0.3964,      0.3974,      0.3984,      0.3994,      0.4004,      0.4014,      0.4024,      0.4034,      0.4044,     0.40541,     0.40641,     0.40741,\n",
              "           0.40841,     0.40941,     0.41041,     0.41141,     0.41241,     0.41341,     0.41441,     0.41542,     0.41642,     0.41742,     0.41842,     0.41942,     0.42042,     0.42142,     0.42242,     0.42342,     0.42442,     0.42543,     0.42643,     0.42743,     0.42843,     0.42943,     0.43043,     0.43143,\n",
              "           0.43243,     0.43343,     0.43443,     0.43544,     0.43644,     0.43744,     0.43844,     0.43944,     0.44044,     0.44144,     0.44244,     0.44344,     0.44444,     0.44545,     0.44645,     0.44745,     0.44845,     0.44945,     0.45045,     0.45145,     0.45245,     0.45345,     0.45445,     0.45546,\n",
              "           0.45646,     0.45746,     0.45846,     0.45946,     0.46046,     0.46146,     0.46246,     0.46346,     0.46446,     0.46547,     0.46647,     0.46747,     0.46847,     0.46947,     0.47047,     0.47147,     0.47247,     0.47347,     0.47447,     0.47548,     0.47648,     0.47748,     0.47848,     0.47948,\n",
              "           0.48048,     0.48148,     0.48248,     0.48348,     0.48448,     0.48549,     0.48649,     0.48749,     0.48849,     0.48949,     0.49049,     0.49149,     0.49249,     0.49349,     0.49449,      0.4955,      0.4965,      0.4975,      0.4985,      0.4995,      0.5005,      0.5015,      0.5025,      0.5035,\n",
              "            0.5045,     0.50551,     0.50651,     0.50751,     0.50851,     0.50951,     0.51051,     0.51151,     0.51251,     0.51351,     0.51451,     0.51552,     0.51652,     0.51752,     0.51852,     0.51952,     0.52052,     0.52152,     0.52252,     0.52352,     0.52452,     0.52553,     0.52653,     0.52753,\n",
              "           0.52853,     0.52953,     0.53053,     0.53153,     0.53253,     0.53353,     0.53453,     0.53554,     0.53654,     0.53754,     0.53854,     0.53954,     0.54054,     0.54154,     0.54254,     0.54354,     0.54454,     0.54555,     0.54655,     0.54755,     0.54855,     0.54955,     0.55055,     0.55155,\n",
              "           0.55255,     0.55355,     0.55455,     0.55556,     0.55656,     0.55756,     0.55856,     0.55956,     0.56056,     0.56156,     0.56256,     0.56356,     0.56456,     0.56557,     0.56657,     0.56757,     0.56857,     0.56957,     0.57057,     0.57157,     0.57257,     0.57357,     0.57457,     0.57558,\n",
              "           0.57658,     0.57758,     0.57858,     0.57958,     0.58058,     0.58158,     0.58258,     0.58358,     0.58458,     0.58559,     0.58659,     0.58759,     0.58859,     0.58959,     0.59059,     0.59159,     0.59259,     0.59359,     0.59459,      0.5956,      0.5966,      0.5976,      0.5986,      0.5996,\n",
              "            0.6006,      0.6016,      0.6026,      0.6036,      0.6046,     0.60561,     0.60661,     0.60761,     0.60861,     0.60961,     0.61061,     0.61161,     0.61261,     0.61361,     0.61461,     0.61562,     0.61662,     0.61762,     0.61862,     0.61962,     0.62062,     0.62162,     0.62262,     0.62362,\n",
              "           0.62462,     0.62563,     0.62663,     0.62763,     0.62863,     0.62963,     0.63063,     0.63163,     0.63263,     0.63363,     0.63463,     0.63564,     0.63664,     0.63764,     0.63864,     0.63964,     0.64064,     0.64164,     0.64264,     0.64364,     0.64464,     0.64565,     0.64665,     0.64765,\n",
              "           0.64865,     0.64965,     0.65065,     0.65165,     0.65265,     0.65365,     0.65465,     0.65566,     0.65666,     0.65766,     0.65866,     0.65966,     0.66066,     0.66166,     0.66266,     0.66366,     0.66466,     0.66567,     0.66667,     0.66767,     0.66867,     0.66967,     0.67067,     0.67167,\n",
              "           0.67267,     0.67367,     0.67467,     0.67568,     0.67668,     0.67768,     0.67868,     0.67968,     0.68068,     0.68168,     0.68268,     0.68368,     0.68468,     0.68569,     0.68669,     0.68769,     0.68869,     0.68969,     0.69069,     0.69169,     0.69269,     0.69369,     0.69469,      0.6957,\n",
              "            0.6967,      0.6977,      0.6987,      0.6997,      0.7007,      0.7017,      0.7027,      0.7037,      0.7047,     0.70571,     0.70671,     0.70771,     0.70871,     0.70971,     0.71071,     0.71171,     0.71271,     0.71371,     0.71471,     0.71572,     0.71672,     0.71772,     0.71872,     0.71972,\n",
              "           0.72072,     0.72172,     0.72272,     0.72372,     0.72472,     0.72573,     0.72673,     0.72773,     0.72873,     0.72973,     0.73073,     0.73173,     0.73273,     0.73373,     0.73473,     0.73574,     0.73674,     0.73774,     0.73874,     0.73974,     0.74074,     0.74174,     0.74274,     0.74374,\n",
              "           0.74474,     0.74575,     0.74675,     0.74775,     0.74875,     0.74975,     0.75075,     0.75175,     0.75275,     0.75375,     0.75475,     0.75576,     0.75676,     0.75776,     0.75876,     0.75976,     0.76076,     0.76176,     0.76276,     0.76376,     0.76476,     0.76577,     0.76677,     0.76777,\n",
              "           0.76877,     0.76977,     0.77077,     0.77177,     0.77277,     0.77377,     0.77477,     0.77578,     0.77678,     0.77778,     0.77878,     0.77978,     0.78078,     0.78178,     0.78278,     0.78378,     0.78478,     0.78579,     0.78679,     0.78779,     0.78879,     0.78979,     0.79079,     0.79179,\n",
              "           0.79279,     0.79379,     0.79479,      0.7958,      0.7968,      0.7978,      0.7988,      0.7998,      0.8008,      0.8018,      0.8028,      0.8038,      0.8048,     0.80581,     0.80681,     0.80781,     0.80881,     0.80981,     0.81081,     0.81181,     0.81281,     0.81381,     0.81481,     0.81582,\n",
              "           0.81682,     0.81782,     0.81882,     0.81982,     0.82082,     0.82182,     0.82282,     0.82382,     0.82482,     0.82583,     0.82683,     0.82783,     0.82883,     0.82983,     0.83083,     0.83183,     0.83283,     0.83383,     0.83483,     0.83584,     0.83684,     0.83784,     0.83884,     0.83984,\n",
              "           0.84084,     0.84184,     0.84284,     0.84384,     0.84484,     0.84585,     0.84685,     0.84785,     0.84885,     0.84985,     0.85085,     0.85185,     0.85285,     0.85385,     0.85485,     0.85586,     0.85686,     0.85786,     0.85886,     0.85986,     0.86086,     0.86186,     0.86286,     0.86386,\n",
              "           0.86486,     0.86587,     0.86687,     0.86787,     0.86887,     0.86987,     0.87087,     0.87187,     0.87287,     0.87387,     0.87487,     0.87588,     0.87688,     0.87788,     0.87888,     0.87988,     0.88088,     0.88188,     0.88288,     0.88388,     0.88488,     0.88589,     0.88689,     0.88789,\n",
              "           0.88889,     0.88989,     0.89089,     0.89189,     0.89289,     0.89389,     0.89489,      0.8959,      0.8969,      0.8979,      0.8989,      0.8999,      0.9009,      0.9019,      0.9029,      0.9039,      0.9049,     0.90591,     0.90691,     0.90791,     0.90891,     0.90991,     0.91091,     0.91191,\n",
              "           0.91291,     0.91391,     0.91491,     0.91592,     0.91692,     0.91792,     0.91892,     0.91992,     0.92092,     0.92192,     0.92292,     0.92392,     0.92492,     0.92593,     0.92693,     0.92793,     0.92893,     0.92993,     0.93093,     0.93193,     0.93293,     0.93393,     0.93493,     0.93594,\n",
              "           0.93694,     0.93794,     0.93894,     0.93994,     0.94094,     0.94194,     0.94294,     0.94394,     0.94494,     0.94595,     0.94695,     0.94795,     0.94895,     0.94995,     0.95095,     0.95195,     0.95295,     0.95395,     0.95495,     0.95596,     0.95696,     0.95796,     0.95896,     0.95996,\n",
              "           0.96096,     0.96196,     0.96296,     0.96396,     0.96496,     0.96597,     0.96697,     0.96797,     0.96897,     0.96997,     0.97097,     0.97197,     0.97297,     0.97397,     0.97497,     0.97598,     0.97698,     0.97798,     0.97898,     0.97998,     0.98098,     0.98198,     0.98298,     0.98398,\n",
              "           0.98498,     0.98599,     0.98699,     0.98799,     0.98899,     0.98999,     0.99099,     0.99199,     0.99299,     0.99399,     0.99499,       0.996,       0.997,       0.998,       0.999,           1]), array([[          1,           1,           1,           1,           1,           1,           1,           1,           1,           1,           1,           1,           1,           1,           1,           1,           1,           1,           1,           1,           1,           1,           1,\n",
              "                  1,           1,           1,           1,           1,           1,           1,           1,           1,           1,           1,           1,           1,           1,           1,           1,           1,           1,           1,           1,           1,           1,           1,\n",
              "                  1,           1,           1,           1,           1,           1,           1,           1,           1,           1,           1,           1,           1,           1,           1,           1,           1,           1,           1,           1,           1,           1,           1,\n",
              "                  1,           1,           1,           1,           1,           1,           1,           1,           1,           1,           1,           1,           1,           1,           1,           1,           1,           1,           1,           1,           1,           1,           1,\n",
              "                  1,           1,           1,           1,           1,           1,           1,           1,           1,           1,           1,           1,           1,           1,           1,           1,           1,           1,           1,           1,           1,           1,           1,\n",
              "                  1,           1,           1,           1,           1,           1,           1,           1,           1,           1,           1,           1,           1,           1,           1,           1,           1,           1,           1,           1,           1,           1,           1,\n",
              "                  1,           1,           1,           1,           1,           1,           1,           1,           1,           1,           1,           1,           1,           1,           1,           1,           1,           1,           1,           1,           1,           1,           1,\n",
              "                  1,           1,           1,           1,           1,           1,           1,           1,           1,           1,           1,           1,           1,           1,           1,           1,           1,           1,           1,           1,           1,           1,           1,\n",
              "                  1,           1,           1,           1,           1,           1,           1,           1,           1,           1,           1,           1,           1,           1,           1,           1,           1,           1,           1,           1,           1,           1,           1,\n",
              "                  1,           1,           1,           1,           1,           1,           1,           1,           1,           1,           1,           1,           1,           1,           1,           1,           1,           1,           1,           1,           1,           1,           1,\n",
              "                  1,           1,           1,           1,           1,           1,           1,           1,           1,           1,           1,           1,           1,           1,           1,           1,           1,           1,           1,           1,           1,           1,           1,\n",
              "                  1,           1,           1,           1,           1,           1,           1,           1,           1,           1,           1,           1,           1,           1,           1,           1,           1,           1,           1,           1,           1,           1,           1,\n",
              "                  1,           1,           1,           1,           1,           1,           1,           1,           1,           1,           1,           1,           1,           1,           1,           1,           1,           1,           1,           1,           1,           1,           1,\n",
              "                  1,           1,           1,           1,           1,           1,           1,           1,           1,           1,           1,           1,           1,           1,           1,           1,           1,           1,           1,           1,           1,           1,           1,\n",
              "                  1,           1,           1,           1,           1,           1,           1,           1,           1,           1,           1,           1,           1,           1,           1,           1,           1,           1,           1,           1,           1,           1,           1,\n",
              "                  1,           1,           1,           1,           1,           1,           1,           1,           1,           1,           1,           1,           1,           1,           1,           1,           1,           1,           1,           1,           1,           1,           1,\n",
              "                  1,           1,           1,           1,           1,           1,           1,           1,           1,           1,           1,           1,           1,           1,           1,           1,           1,           1,           1,           1,           1,           1,           1,\n",
              "                  1,           1,           1,           1,           1,           1,           1,           1,           1,           1,           1,           1,           1,           1,           1,           1,           1,           1,           1,           1,           1,           1,           1,\n",
              "                  1,           1,           1,           1,           1,           1,           1,           1,           1,           1,           1,           1,           1,           1,           1,           1,           1,           1,           1,           1,           1,           1,           1,\n",
              "                  1,           1,           1,           1,           1,           1,           1,           1,           1,           1,           1,           1,           1,           1,           1,           1,           1,           1,           1,           1,           1,           1,           1,\n",
              "                  1,           1,           1,           1,           1,           1,           1,           1,           1,           1,           1,           1,           1,           1,           1,           1,           1,           1,           1,           1,           1,           1,           1,\n",
              "                  1,           1,           1,           1,           1,           1,           1,           1,           1,           1,           1,           1,           1,           1,           1,           1,           1,           1,           1,           1,           1,           1,           1,\n",
              "                  1,           1,           1,           1,           1,           1,           1,           1,           1,           1,           1,           1,           1,           1,           1,           1,           1,           1,           1,           1,           1,           1,           1,\n",
              "                  1,           1,           1,           1,           1,           1,           1,           1,           1,           1,           1,           1,           1,     0.93333,     0.93333,     0.93333,     0.93333,     0.93333,     0.93333,     0.93333,     0.93333,     0.93333,     0.93333,\n",
              "            0.93333,     0.93333,     0.93333,     0.93333,     0.93333,     0.93333,     0.93333,     0.93333,     0.93333,     0.93333,     0.93333,     0.93333,     0.93333,     0.93333,     0.93333,     0.93333,     0.93333,     0.93333,     0.93333,     0.93333,     0.93333,     0.93333,     0.93333,\n",
              "            0.93333,     0.93333,     0.93333,     0.93333,     0.93333,     0.93333,     0.93333,     0.93333,     0.84211,     0.84211,     0.84211,     0.84211,     0.84211,     0.84211,     0.84211,     0.84211,     0.84211,     0.84211,     0.84211,     0.84211,     0.84211,     0.84211,     0.84211,\n",
              "            0.84211,     0.84211,     0.84211,     0.84211,     0.84211,     0.84211,     0.84211,     0.84211,     0.84211,     0.84211,     0.84211,     0.84211,     0.84211,     0.84211,     0.84211,     0.84211,     0.84211,     0.84211,     0.84211,     0.84211,     0.84211,     0.84211,     0.84211,\n",
              "            0.84211,     0.84211,     0.84211,     0.84211,     0.84211,     0.84211,     0.84211,     0.84211,     0.84211,     0.84211,     0.84211,     0.84211,     0.84211,     0.84211,     0.84211,     0.84211,     0.84211,     0.84211,     0.84211,     0.84211,     0.84211,     0.84211,     0.84211,\n",
              "            0.84211,     0.84211,     0.84211,     0.84211,     0.84211,     0.84211,     0.84211,     0.84211,     0.84211,     0.84211,     0.84211,     0.84211,     0.84211,     0.84211,     0.84211,     0.84211,     0.84211,     0.84211,     0.84211,     0.84211,     0.84211,     0.84211,     0.79167,\n",
              "            0.79167,     0.79167,     0.79167,     0.79167,     0.79167,     0.79167,     0.79167,     0.79167,     0.79167,     0.79167,     0.79167,     0.79167,     0.79167,     0.79167,     0.79167,     0.79167,     0.79167,     0.79167,     0.79167,     0.79167,     0.79167,     0.79167,     0.79167,\n",
              "            0.79167,     0.79167,     0.79167,     0.79167,     0.79167,     0.79167,     0.79167,     0.79167,     0.79167,     0.79167,     0.79167,     0.79167,     0.79167,     0.79167,     0.79167,     0.79167,     0.79167,     0.79167,     0.79167,     0.79167,     0.79167,     0.79167,     0.79167,\n",
              "            0.79167,     0.79167,     0.79167,     0.79167,     0.79167,     0.79167,     0.79167,     0.79167,     0.79167,     0.79167,     0.79167,     0.79167,     0.79167,     0.79167,     0.79167,     0.79167,     0.79167,     0.79167,     0.79167,     0.79167,     0.79167,     0.79167,     0.79167,\n",
              "            0.79167,     0.79167,     0.79167,     0.79167,     0.79167,     0.79167,     0.79167,     0.79167,     0.79167,     0.79167,     0.79167,     0.79167,     0.79167,     0.79167,     0.79167,     0.79167,     0.79167,     0.79167,     0.79167,     0.79167,     0.79167,     0.79167,     0.79167,\n",
              "            0.79167,     0.79167,     0.79167,     0.79167,     0.79167,     0.79167,     0.79167,     0.79167,     0.79167,     0.79167,     0.79167,     0.79167,     0.79167,     0.79167,     0.79167,     0.79167,     0.79167,     0.79167,     0.79167,     0.79167,     0.79167,     0.79167,     0.79167,\n",
              "            0.79167,     0.79167,     0.79167,     0.79167,     0.79167,     0.79167,     0.79167,     0.79167,     0.79167,     0.77778,     0.77778,     0.77778,     0.77778,     0.77778,     0.77778,     0.77778,     0.77778,     0.77778,     0.77778,     0.77778,     0.77778,     0.77778,     0.77778,\n",
              "            0.77778,     0.77778,     0.77778,     0.77778,     0.77778,     0.77778,     0.77778,     0.77778,     0.77778,     0.77778,     0.77778,     0.77778,     0.77778,     0.77778,     0.77778,     0.77778,     0.77778,     0.77778,     0.77778,     0.77778,     0.77778,     0.77778,     0.77778,\n",
              "            0.77778,     0.77778,     0.77778,     0.77778,     0.77778,     0.77778,     0.77778,     0.77778,     0.77778,     0.77778,     0.77778,     0.77778,     0.77778,     0.77778,     0.77778,     0.77778,     0.77778,     0.77778,     0.77778,     0.77778,     0.77778,     0.77778,     0.77778,\n",
              "            0.77778,     0.77778,     0.77778,     0.77778,     0.77778,     0.77778,     0.77778,     0.77778,     0.77778,     0.77778,     0.77778,     0.77778,     0.77778,     0.77778,     0.77778,     0.77778,     0.77778,     0.77778,     0.77778,     0.77778,     0.77778,     0.77778,     0.77778,\n",
              "            0.77778,        0.55,        0.55,        0.55,        0.55,        0.55,        0.55,        0.55,        0.55,        0.55,        0.55,        0.55,        0.55,        0.55,        0.55,        0.55,        0.55,        0.55,        0.55,        0.55,        0.55,        0.55,        0.55,\n",
              "               0.55,        0.55,        0.55,        0.55,        0.55,        0.55,        0.55,        0.55,        0.55,        0.55,        0.55,        0.55,        0.55,        0.55,        0.55,        0.55,        0.55,        0.55,        0.55,     0.46939,     0.46939,     0.46939,     0.46939,\n",
              "            0.46939,     0.46939,     0.46939,     0.46939,     0.46939,     0.46939,     0.46939,     0.46939,     0.46939,     0.46939,     0.46939,     0.46939,     0.46939,     0.46939,     0.46939,     0.46939,     0.46939,     0.46939,     0.46939,     0.46939,     0.46939,     0.46939,     0.46939,\n",
              "            0.46939,     0.46939,     0.46939,     0.46939,     0.46939,     0.46939,     0.46939,     0.46939,     0.46939,     0.46939,     0.46939,     0.46939,     0.46939,     0.46939,     0.46939,     0.31465,     0.30697,      0.2993,     0.29162,     0.28395,     0.27628,      0.2686,     0.26093,\n",
              "            0.25325,     0.24558,      0.2379,     0.23023,     0.22256,     0.21488,     0.20721,     0.19953,     0.19186,     0.18418,     0.17651,     0.16884,     0.16116,     0.15349,     0.14581,     0.13814,     0.13046,     0.12279,     0.11512,     0.10744,    0.099766,    0.092092,    0.084418,\n",
              "           0.076743,    0.069069,    0.061395,     0.05372,    0.046046,    0.038372,    0.030697,    0.023023,    0.015349,   0.0076743,           0]]), 'Recall', 'Precision'], [array([          0,    0.001001,    0.002002,    0.003003,    0.004004,    0.005005,    0.006006,    0.007007,    0.008008,    0.009009,     0.01001,    0.011011,    0.012012,    0.013013,    0.014014,    0.015015,    0.016016,    0.017017,    0.018018,    0.019019,     0.02002,    0.021021,    0.022022,    0.023023,\n",
              "          0.024024,    0.025025,    0.026026,    0.027027,    0.028028,    0.029029,     0.03003,    0.031031,    0.032032,    0.033033,    0.034034,    0.035035,    0.036036,    0.037037,    0.038038,    0.039039,     0.04004,    0.041041,    0.042042,    0.043043,    0.044044,    0.045045,    0.046046,    0.047047,\n",
              "          0.048048,    0.049049,     0.05005,    0.051051,    0.052052,    0.053053,    0.054054,    0.055055,    0.056056,    0.057057,    0.058058,    0.059059,     0.06006,    0.061061,    0.062062,    0.063063,    0.064064,    0.065065,    0.066066,    0.067067,    0.068068,    0.069069,     0.07007,    0.071071,\n",
              "          0.072072,    0.073073,    0.074074,    0.075075,    0.076076,    0.077077,    0.078078,    0.079079,     0.08008,    0.081081,    0.082082,    0.083083,    0.084084,    0.085085,    0.086086,    0.087087,    0.088088,    0.089089,     0.09009,    0.091091,    0.092092,    0.093093,    0.094094,    0.095095,\n",
              "          0.096096,    0.097097,    0.098098,    0.099099,      0.1001,      0.1011,      0.1021,      0.1031,      0.1041,     0.10511,     0.10611,     0.10711,     0.10811,     0.10911,     0.11011,     0.11111,     0.11211,     0.11311,     0.11411,     0.11512,     0.11612,     0.11712,     0.11812,     0.11912,\n",
              "           0.12012,     0.12112,     0.12212,     0.12312,     0.12412,     0.12513,     0.12613,     0.12713,     0.12813,     0.12913,     0.13013,     0.13113,     0.13213,     0.13313,     0.13413,     0.13514,     0.13614,     0.13714,     0.13814,     0.13914,     0.14014,     0.14114,     0.14214,     0.14314,\n",
              "           0.14414,     0.14515,     0.14615,     0.14715,     0.14815,     0.14915,     0.15015,     0.15115,     0.15215,     0.15315,     0.15415,     0.15516,     0.15616,     0.15716,     0.15816,     0.15916,     0.16016,     0.16116,     0.16216,     0.16316,     0.16416,     0.16517,     0.16617,     0.16717,\n",
              "           0.16817,     0.16917,     0.17017,     0.17117,     0.17217,     0.17317,     0.17417,     0.17518,     0.17618,     0.17718,     0.17818,     0.17918,     0.18018,     0.18118,     0.18218,     0.18318,     0.18418,     0.18519,     0.18619,     0.18719,     0.18819,     0.18919,     0.19019,     0.19119,\n",
              "           0.19219,     0.19319,     0.19419,      0.1952,      0.1962,      0.1972,      0.1982,      0.1992,      0.2002,      0.2012,      0.2022,      0.2032,      0.2042,     0.20521,     0.20621,     0.20721,     0.20821,     0.20921,     0.21021,     0.21121,     0.21221,     0.21321,     0.21421,     0.21522,\n",
              "           0.21622,     0.21722,     0.21822,     0.21922,     0.22022,     0.22122,     0.22222,     0.22322,     0.22422,     0.22523,     0.22623,     0.22723,     0.22823,     0.22923,     0.23023,     0.23123,     0.23223,     0.23323,     0.23423,     0.23524,     0.23624,     0.23724,     0.23824,     0.23924,\n",
              "           0.24024,     0.24124,     0.24224,     0.24324,     0.24424,     0.24525,     0.24625,     0.24725,     0.24825,     0.24925,     0.25025,     0.25125,     0.25225,     0.25325,     0.25425,     0.25526,     0.25626,     0.25726,     0.25826,     0.25926,     0.26026,     0.26126,     0.26226,     0.26326,\n",
              "           0.26426,     0.26527,     0.26627,     0.26727,     0.26827,     0.26927,     0.27027,     0.27127,     0.27227,     0.27327,     0.27427,     0.27528,     0.27628,     0.27728,     0.27828,     0.27928,     0.28028,     0.28128,     0.28228,     0.28328,     0.28428,     0.28529,     0.28629,     0.28729,\n",
              "           0.28829,     0.28929,     0.29029,     0.29129,     0.29229,     0.29329,     0.29429,      0.2953,      0.2963,      0.2973,      0.2983,      0.2993,      0.3003,      0.3013,      0.3023,      0.3033,      0.3043,     0.30531,     0.30631,     0.30731,     0.30831,     0.30931,     0.31031,     0.31131,\n",
              "           0.31231,     0.31331,     0.31431,     0.31532,     0.31632,     0.31732,     0.31832,     0.31932,     0.32032,     0.32132,     0.32232,     0.32332,     0.32432,     0.32533,     0.32633,     0.32733,     0.32833,     0.32933,     0.33033,     0.33133,     0.33233,     0.33333,     0.33433,     0.33534,\n",
              "           0.33634,     0.33734,     0.33834,     0.33934,     0.34034,     0.34134,     0.34234,     0.34334,     0.34434,     0.34535,     0.34635,     0.34735,     0.34835,     0.34935,     0.35035,     0.35135,     0.35235,     0.35335,     0.35435,     0.35536,     0.35636,     0.35736,     0.35836,     0.35936,\n",
              "           0.36036,     0.36136,     0.36236,     0.36336,     0.36436,     0.36537,     0.36637,     0.36737,     0.36837,     0.36937,     0.37037,     0.37137,     0.37237,     0.37337,     0.37437,     0.37538,     0.37638,     0.37738,     0.37838,     0.37938,     0.38038,     0.38138,     0.38238,     0.38338,\n",
              "           0.38438,     0.38539,     0.38639,     0.38739,     0.38839,     0.38939,     0.39039,     0.39139,     0.39239,     0.39339,     0.39439,      0.3954,      0.3964,      0.3974,      0.3984,      0.3994,      0.4004,      0.4014,      0.4024,      0.4034,      0.4044,     0.40541,     0.40641,     0.40741,\n",
              "           0.40841,     0.40941,     0.41041,     0.41141,     0.41241,     0.41341,     0.41441,     0.41542,     0.41642,     0.41742,     0.41842,     0.41942,     0.42042,     0.42142,     0.42242,     0.42342,     0.42442,     0.42543,     0.42643,     0.42743,     0.42843,     0.42943,     0.43043,     0.43143,\n",
              "           0.43243,     0.43343,     0.43443,     0.43544,     0.43644,     0.43744,     0.43844,     0.43944,     0.44044,     0.44144,     0.44244,     0.44344,     0.44444,     0.44545,     0.44645,     0.44745,     0.44845,     0.44945,     0.45045,     0.45145,     0.45245,     0.45345,     0.45445,     0.45546,\n",
              "           0.45646,     0.45746,     0.45846,     0.45946,     0.46046,     0.46146,     0.46246,     0.46346,     0.46446,     0.46547,     0.46647,     0.46747,     0.46847,     0.46947,     0.47047,     0.47147,     0.47247,     0.47347,     0.47447,     0.47548,     0.47648,     0.47748,     0.47848,     0.47948,\n",
              "           0.48048,     0.48148,     0.48248,     0.48348,     0.48448,     0.48549,     0.48649,     0.48749,     0.48849,     0.48949,     0.49049,     0.49149,     0.49249,     0.49349,     0.49449,      0.4955,      0.4965,      0.4975,      0.4985,      0.4995,      0.5005,      0.5015,      0.5025,      0.5035,\n",
              "            0.5045,     0.50551,     0.50651,     0.50751,     0.50851,     0.50951,     0.51051,     0.51151,     0.51251,     0.51351,     0.51451,     0.51552,     0.51652,     0.51752,     0.51852,     0.51952,     0.52052,     0.52152,     0.52252,     0.52352,     0.52452,     0.52553,     0.52653,     0.52753,\n",
              "           0.52853,     0.52953,     0.53053,     0.53153,     0.53253,     0.53353,     0.53453,     0.53554,     0.53654,     0.53754,     0.53854,     0.53954,     0.54054,     0.54154,     0.54254,     0.54354,     0.54454,     0.54555,     0.54655,     0.54755,     0.54855,     0.54955,     0.55055,     0.55155,\n",
              "           0.55255,     0.55355,     0.55455,     0.55556,     0.55656,     0.55756,     0.55856,     0.55956,     0.56056,     0.56156,     0.56256,     0.56356,     0.56456,     0.56557,     0.56657,     0.56757,     0.56857,     0.56957,     0.57057,     0.57157,     0.57257,     0.57357,     0.57457,     0.57558,\n",
              "           0.57658,     0.57758,     0.57858,     0.57958,     0.58058,     0.58158,     0.58258,     0.58358,     0.58458,     0.58559,     0.58659,     0.58759,     0.58859,     0.58959,     0.59059,     0.59159,     0.59259,     0.59359,     0.59459,      0.5956,      0.5966,      0.5976,      0.5986,      0.5996,\n",
              "            0.6006,      0.6016,      0.6026,      0.6036,      0.6046,     0.60561,     0.60661,     0.60761,     0.60861,     0.60961,     0.61061,     0.61161,     0.61261,     0.61361,     0.61461,     0.61562,     0.61662,     0.61762,     0.61862,     0.61962,     0.62062,     0.62162,     0.62262,     0.62362,\n",
              "           0.62462,     0.62563,     0.62663,     0.62763,     0.62863,     0.62963,     0.63063,     0.63163,     0.63263,     0.63363,     0.63463,     0.63564,     0.63664,     0.63764,     0.63864,     0.63964,     0.64064,     0.64164,     0.64264,     0.64364,     0.64464,     0.64565,     0.64665,     0.64765,\n",
              "           0.64865,     0.64965,     0.65065,     0.65165,     0.65265,     0.65365,     0.65465,     0.65566,     0.65666,     0.65766,     0.65866,     0.65966,     0.66066,     0.66166,     0.66266,     0.66366,     0.66466,     0.66567,     0.66667,     0.66767,     0.66867,     0.66967,     0.67067,     0.67167,\n",
              "           0.67267,     0.67367,     0.67467,     0.67568,     0.67668,     0.67768,     0.67868,     0.67968,     0.68068,     0.68168,     0.68268,     0.68368,     0.68468,     0.68569,     0.68669,     0.68769,     0.68869,     0.68969,     0.69069,     0.69169,     0.69269,     0.69369,     0.69469,      0.6957,\n",
              "            0.6967,      0.6977,      0.6987,      0.6997,      0.7007,      0.7017,      0.7027,      0.7037,      0.7047,     0.70571,     0.70671,     0.70771,     0.70871,     0.70971,     0.71071,     0.71171,     0.71271,     0.71371,     0.71471,     0.71572,     0.71672,     0.71772,     0.71872,     0.71972,\n",
              "           0.72072,     0.72172,     0.72272,     0.72372,     0.72472,     0.72573,     0.72673,     0.72773,     0.72873,     0.72973,     0.73073,     0.73173,     0.73273,     0.73373,     0.73473,     0.73574,     0.73674,     0.73774,     0.73874,     0.73974,     0.74074,     0.74174,     0.74274,     0.74374,\n",
              "           0.74474,     0.74575,     0.74675,     0.74775,     0.74875,     0.74975,     0.75075,     0.75175,     0.75275,     0.75375,     0.75475,     0.75576,     0.75676,     0.75776,     0.75876,     0.75976,     0.76076,     0.76176,     0.76276,     0.76376,     0.76476,     0.76577,     0.76677,     0.76777,\n",
              "           0.76877,     0.76977,     0.77077,     0.77177,     0.77277,     0.77377,     0.77477,     0.77578,     0.77678,     0.77778,     0.77878,     0.77978,     0.78078,     0.78178,     0.78278,     0.78378,     0.78478,     0.78579,     0.78679,     0.78779,     0.78879,     0.78979,     0.79079,     0.79179,\n",
              "           0.79279,     0.79379,     0.79479,      0.7958,      0.7968,      0.7978,      0.7988,      0.7998,      0.8008,      0.8018,      0.8028,      0.8038,      0.8048,     0.80581,     0.80681,     0.80781,     0.80881,     0.80981,     0.81081,     0.81181,     0.81281,     0.81381,     0.81481,     0.81582,\n",
              "           0.81682,     0.81782,     0.81882,     0.81982,     0.82082,     0.82182,     0.82282,     0.82382,     0.82482,     0.82583,     0.82683,     0.82783,     0.82883,     0.82983,     0.83083,     0.83183,     0.83283,     0.83383,     0.83483,     0.83584,     0.83684,     0.83784,     0.83884,     0.83984,\n",
              "           0.84084,     0.84184,     0.84284,     0.84384,     0.84484,     0.84585,     0.84685,     0.84785,     0.84885,     0.84985,     0.85085,     0.85185,     0.85285,     0.85385,     0.85485,     0.85586,     0.85686,     0.85786,     0.85886,     0.85986,     0.86086,     0.86186,     0.86286,     0.86386,\n",
              "           0.86486,     0.86587,     0.86687,     0.86787,     0.86887,     0.86987,     0.87087,     0.87187,     0.87287,     0.87387,     0.87487,     0.87588,     0.87688,     0.87788,     0.87888,     0.87988,     0.88088,     0.88188,     0.88288,     0.88388,     0.88488,     0.88589,     0.88689,     0.88789,\n",
              "           0.88889,     0.88989,     0.89089,     0.89189,     0.89289,     0.89389,     0.89489,      0.8959,      0.8969,      0.8979,      0.8989,      0.8999,      0.9009,      0.9019,      0.9029,      0.9039,      0.9049,     0.90591,     0.90691,     0.90791,     0.90891,     0.90991,     0.91091,     0.91191,\n",
              "           0.91291,     0.91391,     0.91491,     0.91592,     0.91692,     0.91792,     0.91892,     0.91992,     0.92092,     0.92192,     0.92292,     0.92392,     0.92492,     0.92593,     0.92693,     0.92793,     0.92893,     0.92993,     0.93093,     0.93193,     0.93293,     0.93393,     0.93493,     0.93594,\n",
              "           0.93694,     0.93794,     0.93894,     0.93994,     0.94094,     0.94194,     0.94294,     0.94394,     0.94494,     0.94595,     0.94695,     0.94795,     0.94895,     0.94995,     0.95095,     0.95195,     0.95295,     0.95395,     0.95495,     0.95596,     0.95696,     0.95796,     0.95896,     0.95996,\n",
              "           0.96096,     0.96196,     0.96296,     0.96396,     0.96496,     0.96597,     0.96697,     0.96797,     0.96897,     0.96997,     0.97097,     0.97197,     0.97297,     0.97397,     0.97497,     0.97598,     0.97698,     0.97798,     0.97898,     0.97998,     0.98098,     0.98198,     0.98298,     0.98398,\n",
              "           0.98498,     0.98599,     0.98699,     0.98799,     0.98899,     0.98999,     0.99099,     0.99199,     0.99299,     0.99399,     0.99499,       0.996,       0.997,       0.998,       0.999,           1]), array([[    0.47917,     0.47917,     0.57358,     0.62694,     0.65059,     0.68256,     0.67351,     0.68393,      0.6978,     0.70369,     0.70785,     0.71276,      0.7252,     0.72675,     0.72829,     0.72983,     0.73137,      0.7329,     0.73443,     0.73595,     0.73981,     0.74695,     0.76421,\n",
              "            0.76784,     0.77144,     0.77502,     0.77812,     0.77965,     0.78117,     0.78268,      0.7842,      0.7857,      0.7872,      0.7887,      0.7902,     0.79168,     0.79402,     0.79726,     0.80047,     0.80366,     0.80683,     0.81581,     0.80409,     0.79908,     0.79768,     0.79627,\n",
              "            0.79486,     0.79345,     0.79204,     0.79063,     0.78921,     0.78779,     0.78637,     0.78495,     0.78353,      0.7821,     0.78067,     0.77924,     0.77781,     0.77638,     0.77602,     0.77728,     0.77855,     0.77981,     0.78107,     0.78232,     0.78357,     0.78481,     0.78606,\n",
              "            0.78729,     0.78853,     0.78976,     0.79098,     0.78573,     0.77213,     0.76511,     0.76357,     0.76202,     0.76048,     0.75893,     0.75738,     0.75582,     0.75427,     0.75271,     0.75115,     0.74958,     0.74802,     0.74645,     0.74488,      0.7433,     0.74173,     0.74015,\n",
              "            0.73805,     0.73503,     0.73199,     0.72894,     0.72588,     0.72282,     0.71974,     0.71666,     0.71356,      0.7113,     0.71218,     0.71306,     0.71394,     0.71482,      0.7157,     0.71657,     0.71744,      0.7183,     0.71917,     0.72003,     0.72089,     0.72175,      0.7226,\n",
              "            0.72346,     0.72431,     0.72516,       0.726,     0.72684,     0.72793,     0.72927,     0.73061,     0.73194,     0.73326,     0.73457,     0.73588,     0.73719,     0.73849,     0.73978,     0.74107,     0.74235,     0.74363,      0.7434,     0.74199,     0.74059,     0.73918,     0.73777,\n",
              "            0.73636,     0.73494,     0.73352,      0.7321,     0.73068,     0.72926,     0.72783,      0.7264,     0.72497,     0.72354,      0.7221,     0.72066,     0.71922,     0.71778,     0.71633,     0.71488,     0.71372,     0.71277,     0.71181,     0.71086,      0.7099,     0.70894,     0.70798,\n",
              "            0.70702,     0.70606,      0.7051,     0.70413,     0.70317,      0.7022,     0.70123,     0.70027,      0.6993,     0.69833,     0.69736,     0.69638,     0.69541,     0.69444,     0.69346,     0.69248,     0.69151,     0.69053,     0.68955,     0.68857,     0.68758,      0.6866,     0.68562,\n",
              "            0.68463,     0.68364,     0.68321,     0.68423,     0.68525,     0.68627,     0.68729,     0.68829,      0.6893,      0.6903,     0.69129,     0.69229,     0.69327,     0.69426,     0.69524,     0.69621,     0.69718,     0.69815,     0.69912,     0.70003,     0.70042,     0.70081,      0.7012,\n",
              "            0.70159,     0.70197,     0.70236,     0.70275,     0.70313,     0.70352,      0.7039,     0.70429,     0.70467,     0.70505,     0.70543,     0.70581,     0.70619,     0.70657,     0.70695,     0.70733,     0.70771,     0.70809,     0.70846,     0.70884,     0.70922,     0.70959,     0.70997,\n",
              "            0.71034,     0.71071,     0.71108,     0.71146,     0.71183,      0.7122,     0.71257,     0.71294,     0.71331,     0.71368,     0.71404,     0.71441,     0.71478,     0.71514,     0.71551,     0.71587,     0.71624,      0.7166,     0.71696,     0.71732,     0.71769,     0.71772,      0.7169,\n",
              "            0.71607,     0.71524,     0.71442,     0.71359,     0.71276,     0.71193,      0.7111,     0.71026,     0.70943,      0.7086,     0.70776,     0.70692,     0.70609,     0.70525,     0.70441,     0.70357,     0.70273,     0.70189,     0.70104,      0.7002,     0.69935,     0.69851,     0.69766,\n",
              "            0.69681,     0.69596,     0.69511,     0.69426,     0.69341,     0.69256,      0.6917,     0.69085,     0.68999,     0.68914,     0.68828,     0.68742,     0.68656,      0.6857,     0.68484,      0.6843,     0.68463,     0.68496,     0.68529,     0.68562,     0.68595,     0.68628,     0.68661,\n",
              "            0.68693,     0.68726,     0.68759,     0.68791,     0.68824,     0.68856,     0.68888,     0.68921,     0.68953,     0.68985,     0.69017,      0.6905,     0.69082,     0.69114,     0.69146,     0.69177,     0.69209,     0.69241,     0.69273,     0.69305,     0.69336,     0.69368,     0.69399,\n",
              "            0.69431,     0.69462,     0.69494,     0.69525,     0.69556,     0.69588,     0.69619,      0.6965,     0.69681,     0.69712,     0.69743,     0.69774,     0.69805,     0.69836,     0.69867,     0.69897,     0.69928,     0.69959,     0.69989,      0.7002,      0.7005,     0.70081,     0.70111,\n",
              "            0.70141,     0.70172,     0.70202,     0.70232,     0.70262,     0.70232,     0.70179,     0.70127,     0.70074,     0.70022,      0.6997,     0.69917,     0.69864,     0.69812,     0.69759,     0.69706,     0.69654,     0.69601,     0.69548,     0.69495,     0.69442,     0.69389,     0.69336,\n",
              "            0.69283,      0.6923,     0.69177,     0.69124,     0.69071,     0.69017,     0.68964,     0.68911,     0.68857,     0.68804,      0.6875,     0.68697,     0.68643,      0.6859,     0.68536,     0.68482,     0.68428,     0.68375,     0.68321,     0.68267,     0.68213,     0.68159,     0.68105,\n",
              "            0.68051,     0.67997,     0.67943,     0.67889,     0.67834,      0.6778,     0.67726,     0.67671,     0.67617,     0.67562,     0.67508,     0.67453,     0.67399,     0.67344,     0.67289,     0.67235,      0.6718,     0.67125,      0.6707,     0.67015,      0.6696,     0.66905,      0.6685,\n",
              "            0.66795,      0.6674,     0.66685,     0.66591,     0.66477,     0.66364,      0.6625,     0.66135,     0.66021,     0.65907,     0.65792,     0.65677,     0.65562,     0.65447,     0.65331,     0.65215,     0.65099,     0.64983,     0.64867,     0.64751,     0.64634,     0.64517,       0.644,\n",
              "            0.64283,     0.64165,     0.64047,     0.63929,     0.63811,     0.63693,     0.63574,     0.63456,     0.63337,     0.63217,     0.63098,     0.62979,     0.62859,     0.62675,     0.62489,     0.62303,     0.62117,      0.6193,     0.61743,     0.61555,     0.61366,     0.61177,     0.60988,\n",
              "            0.60798,     0.60607,     0.60416,     0.60225,     0.60033,      0.5984,     0.59647,     0.59453,     0.59259,     0.59064,     0.58869,     0.58797,     0.58761,     0.58726,     0.58691,     0.58656,      0.5862,     0.58585,      0.5855,     0.58514,     0.58479,     0.58444,     0.58408,\n",
              "            0.58373,     0.58338,     0.58302,     0.58267,     0.58231,     0.58196,      0.5816,     0.58125,     0.58089,     0.58054,     0.58018,     0.57983,     0.57947,     0.57911,     0.57876,      0.5784,     0.57804,     0.57769,     0.57733,     0.57697,     0.57661,     0.57626,      0.5759,\n",
              "            0.57554,     0.57518,     0.57482,     0.57447,     0.57411,     0.57375,     0.57339,     0.57303,     0.57267,     0.57231,     0.57195,     0.57159,     0.57123,     0.57087,     0.57051,     0.57015,     0.56979,     0.56943,     0.56907,      0.5687,     0.56834,     0.56798,     0.56762,\n",
              "            0.56726,     0.56689,     0.56653,     0.56617,     0.56581,     0.56544,     0.56508,     0.56472,     0.56435,     0.56399,     0.56362,     0.56326,      0.5629,     0.56253,     0.56217,      0.5618,     0.56144,     0.56107,     0.56071,     0.56034,     0.55997,     0.55961,     0.55924,\n",
              "            0.55888,     0.55851,     0.55814,     0.55778,     0.55741,     0.55704,     0.55667,     0.55631,     0.55594,     0.55557,      0.5552,     0.55483,     0.55446,     0.55409,     0.55373,     0.55336,     0.55299,     0.55262,     0.55225,     0.55188,     0.55151,     0.55114,     0.55077,\n",
              "             0.5504,     0.55002,     0.54965,     0.54928,     0.54891,     0.54854,     0.54817,      0.5478,     0.54742,     0.54705,     0.54668,      0.5463,     0.54593,     0.54556,     0.54503,     0.54444,     0.54385,     0.54325,     0.54266,     0.54207,     0.54147,     0.54088,     0.54029,\n",
              "            0.53969,     0.53909,      0.5385,      0.5379,     0.53731,     0.53671,     0.53611,     0.53551,     0.53491,     0.53431,     0.53371,     0.53311,     0.53251,     0.53191,     0.53131,     0.53071,      0.5301,      0.5295,      0.5289,     0.52829,     0.52769,     0.52708,     0.52648,\n",
              "            0.52587,     0.52526,     0.52466,     0.52405,     0.52344,     0.52283,     0.52222,     0.52161,       0.521,     0.52039,     0.51978,     0.51917,     0.51855,     0.51794,     0.51733,     0.51671,      0.5161,     0.51548,     0.51487,     0.51425,     0.51364,     0.51302,      0.5124,\n",
              "            0.51178,     0.51117,     0.51055,     0.50993,     0.50931,     0.50869,     0.50807,     0.50744,     0.50682,      0.5062,     0.50558,     0.50495,     0.50433,      0.5037,     0.50308,     0.50245,     0.50183,      0.5012,     0.50057,     0.49993,     0.49913,     0.49834,     0.49754,\n",
              "            0.49675,     0.49595,     0.49515,     0.49435,     0.49355,     0.49275,     0.49194,     0.49114,     0.49034,     0.48953,     0.48873,     0.48792,     0.48711,      0.4863,     0.48549,     0.48468,     0.48387,     0.48306,     0.48225,     0.48144,     0.48062,     0.47981,     0.47899,\n",
              "            0.47817,     0.47736,     0.47654,     0.47572,      0.4749,     0.47407,     0.47325,     0.47243,     0.47161,     0.47078,     0.46995,     0.46913,      0.4683,     0.46747,     0.46664,     0.46581,     0.46498,     0.46415,     0.46332,     0.46248,     0.46165,     0.46081,     0.45997,\n",
              "            0.45914,      0.4583,     0.45746,     0.45662,     0.45578,     0.45493,     0.45409,     0.45325,      0.4524,     0.45152,     0.45017,     0.44882,     0.44747,     0.44611,     0.44476,      0.4434,     0.44203,     0.44067,      0.4393,     0.43793,     0.43656,     0.43518,     0.43381,\n",
              "            0.43243,     0.43104,     0.42966,     0.42827,     0.42688,     0.42549,      0.4241,      0.4227,      0.4213,      0.4199,     0.41849,     0.41709,     0.41568,     0.41427,     0.41285,     0.41144,     0.41002,     0.40859,     0.40717,     0.40574,     0.40431,     0.40288,     0.40145,\n",
              "            0.40001,      0.3992,      0.3984,     0.39759,     0.39678,     0.39597,     0.39517,     0.39436,     0.39355,     0.39274,     0.39192,     0.39111,      0.3903,     0.38948,     0.38867,     0.38785,     0.38704,     0.38622,      0.3854,     0.38458,     0.38376,     0.38294,     0.38212,\n",
              "             0.3813,     0.38047,     0.37965,     0.37883,       0.378,     0.37717,     0.37635,     0.37552,     0.37469,     0.37386,     0.37303,      0.3722,     0.37136,     0.37053,      0.3697,     0.36886,     0.36802,     0.36719,     0.36635,     0.36551,     0.36467,     0.36383,     0.36299,\n",
              "            0.36215,     0.36131,     0.36046,     0.35962,     0.35877,     0.35793,     0.35708,     0.35623,     0.35538,     0.35453,     0.35368,     0.35283,     0.35198,     0.35112,     0.35027,     0.34941,     0.34856,      0.3477,     0.34684,     0.34598,     0.34512,     0.34355,      0.3416,\n",
              "            0.33964,     0.33767,      0.3357,     0.33373,     0.33175,     0.32977,     0.32778,     0.32578,     0.32379,     0.32178,     0.31978,     0.31776,     0.31575,     0.31373,      0.3117,     0.30967,     0.30763,     0.30559,     0.30354,     0.30149,     0.29944,     0.29738,     0.29531,\n",
              "            0.29324,     0.29116,     0.28908,       0.287,     0.28129,     0.26974,     0.25804,     0.24618,     0.23416,     0.22213,     0.21762,     0.21308,     0.20852,     0.20394,     0.19934,     0.19471,     0.19006,     0.18538,     0.18068,     0.17596,     0.17121,     0.16644,     0.16164,\n",
              "            0.15681,      0.1525,     0.14903,     0.14554,     0.14203,     0.13851,     0.13498,     0.13144,     0.12788,     0.12431,     0.12073,     0.11713,     0.11352,     0.10989,     0.10625,      0.1026,     0.09893,    0.095248,    0.091551,     0.08784,    0.084115,    0.080375,           0,\n",
              "                  0,           0,           0,           0,           0,           0,           0,           0,           0,           0,           0,           0,           0,           0,           0,           0,           0,           0,           0,           0,           0,           0,           0,\n",
              "                  0,           0,           0,           0,           0,           0,           0,           0,           0,           0,           0,           0,           0,           0,           0,           0,           0,           0,           0,           0,           0,           0,           0,\n",
              "                  0,           0,           0,           0,           0,           0,           0,           0,           0,           0,           0,           0,           0,           0,           0,           0,           0,           0,           0,           0,           0,           0,           0,\n",
              "                  0,           0,           0,           0,           0,           0,           0,           0,           0,           0,           0,           0,           0,           0,           0,           0,           0,           0,           0,           0,           0,           0,           0,\n",
              "                  0,           0,           0,           0,           0,           0,           0,           0,           0,           0,           0]]), 'Confidence', 'F1'], [array([          0,    0.001001,    0.002002,    0.003003,    0.004004,    0.005005,    0.006006,    0.007007,    0.008008,    0.009009,     0.01001,    0.011011,    0.012012,    0.013013,    0.014014,    0.015015,    0.016016,    0.017017,    0.018018,    0.019019,     0.02002,    0.021021,    0.022022,    0.023023,\n",
              "          0.024024,    0.025025,    0.026026,    0.027027,    0.028028,    0.029029,     0.03003,    0.031031,    0.032032,    0.033033,    0.034034,    0.035035,    0.036036,    0.037037,    0.038038,    0.039039,     0.04004,    0.041041,    0.042042,    0.043043,    0.044044,    0.045045,    0.046046,    0.047047,\n",
              "          0.048048,    0.049049,     0.05005,    0.051051,    0.052052,    0.053053,    0.054054,    0.055055,    0.056056,    0.057057,    0.058058,    0.059059,     0.06006,    0.061061,    0.062062,    0.063063,    0.064064,    0.065065,    0.066066,    0.067067,    0.068068,    0.069069,     0.07007,    0.071071,\n",
              "          0.072072,    0.073073,    0.074074,    0.075075,    0.076076,    0.077077,    0.078078,    0.079079,     0.08008,    0.081081,    0.082082,    0.083083,    0.084084,    0.085085,    0.086086,    0.087087,    0.088088,    0.089089,     0.09009,    0.091091,    0.092092,    0.093093,    0.094094,    0.095095,\n",
              "          0.096096,    0.097097,    0.098098,    0.099099,      0.1001,      0.1011,      0.1021,      0.1031,      0.1041,     0.10511,     0.10611,     0.10711,     0.10811,     0.10911,     0.11011,     0.11111,     0.11211,     0.11311,     0.11411,     0.11512,     0.11612,     0.11712,     0.11812,     0.11912,\n",
              "           0.12012,     0.12112,     0.12212,     0.12312,     0.12412,     0.12513,     0.12613,     0.12713,     0.12813,     0.12913,     0.13013,     0.13113,     0.13213,     0.13313,     0.13413,     0.13514,     0.13614,     0.13714,     0.13814,     0.13914,     0.14014,     0.14114,     0.14214,     0.14314,\n",
              "           0.14414,     0.14515,     0.14615,     0.14715,     0.14815,     0.14915,     0.15015,     0.15115,     0.15215,     0.15315,     0.15415,     0.15516,     0.15616,     0.15716,     0.15816,     0.15916,     0.16016,     0.16116,     0.16216,     0.16316,     0.16416,     0.16517,     0.16617,     0.16717,\n",
              "           0.16817,     0.16917,     0.17017,     0.17117,     0.17217,     0.17317,     0.17417,     0.17518,     0.17618,     0.17718,     0.17818,     0.17918,     0.18018,     0.18118,     0.18218,     0.18318,     0.18418,     0.18519,     0.18619,     0.18719,     0.18819,     0.18919,     0.19019,     0.19119,\n",
              "           0.19219,     0.19319,     0.19419,      0.1952,      0.1962,      0.1972,      0.1982,      0.1992,      0.2002,      0.2012,      0.2022,      0.2032,      0.2042,     0.20521,     0.20621,     0.20721,     0.20821,     0.20921,     0.21021,     0.21121,     0.21221,     0.21321,     0.21421,     0.21522,\n",
              "           0.21622,     0.21722,     0.21822,     0.21922,     0.22022,     0.22122,     0.22222,     0.22322,     0.22422,     0.22523,     0.22623,     0.22723,     0.22823,     0.22923,     0.23023,     0.23123,     0.23223,     0.23323,     0.23423,     0.23524,     0.23624,     0.23724,     0.23824,     0.23924,\n",
              "           0.24024,     0.24124,     0.24224,     0.24324,     0.24424,     0.24525,     0.24625,     0.24725,     0.24825,     0.24925,     0.25025,     0.25125,     0.25225,     0.25325,     0.25425,     0.25526,     0.25626,     0.25726,     0.25826,     0.25926,     0.26026,     0.26126,     0.26226,     0.26326,\n",
              "           0.26426,     0.26527,     0.26627,     0.26727,     0.26827,     0.26927,     0.27027,     0.27127,     0.27227,     0.27327,     0.27427,     0.27528,     0.27628,     0.27728,     0.27828,     0.27928,     0.28028,     0.28128,     0.28228,     0.28328,     0.28428,     0.28529,     0.28629,     0.28729,\n",
              "           0.28829,     0.28929,     0.29029,     0.29129,     0.29229,     0.29329,     0.29429,      0.2953,      0.2963,      0.2973,      0.2983,      0.2993,      0.3003,      0.3013,      0.3023,      0.3033,      0.3043,     0.30531,     0.30631,     0.30731,     0.30831,     0.30931,     0.31031,     0.31131,\n",
              "           0.31231,     0.31331,     0.31431,     0.31532,     0.31632,     0.31732,     0.31832,     0.31932,     0.32032,     0.32132,     0.32232,     0.32332,     0.32432,     0.32533,     0.32633,     0.32733,     0.32833,     0.32933,     0.33033,     0.33133,     0.33233,     0.33333,     0.33433,     0.33534,\n",
              "           0.33634,     0.33734,     0.33834,     0.33934,     0.34034,     0.34134,     0.34234,     0.34334,     0.34434,     0.34535,     0.34635,     0.34735,     0.34835,     0.34935,     0.35035,     0.35135,     0.35235,     0.35335,     0.35435,     0.35536,     0.35636,     0.35736,     0.35836,     0.35936,\n",
              "           0.36036,     0.36136,     0.36236,     0.36336,     0.36436,     0.36537,     0.36637,     0.36737,     0.36837,     0.36937,     0.37037,     0.37137,     0.37237,     0.37337,     0.37437,     0.37538,     0.37638,     0.37738,     0.37838,     0.37938,     0.38038,     0.38138,     0.38238,     0.38338,\n",
              "           0.38438,     0.38539,     0.38639,     0.38739,     0.38839,     0.38939,     0.39039,     0.39139,     0.39239,     0.39339,     0.39439,      0.3954,      0.3964,      0.3974,      0.3984,      0.3994,      0.4004,      0.4014,      0.4024,      0.4034,      0.4044,     0.40541,     0.40641,     0.40741,\n",
              "           0.40841,     0.40941,     0.41041,     0.41141,     0.41241,     0.41341,     0.41441,     0.41542,     0.41642,     0.41742,     0.41842,     0.41942,     0.42042,     0.42142,     0.42242,     0.42342,     0.42442,     0.42543,     0.42643,     0.42743,     0.42843,     0.42943,     0.43043,     0.43143,\n",
              "           0.43243,     0.43343,     0.43443,     0.43544,     0.43644,     0.43744,     0.43844,     0.43944,     0.44044,     0.44144,     0.44244,     0.44344,     0.44444,     0.44545,     0.44645,     0.44745,     0.44845,     0.44945,     0.45045,     0.45145,     0.45245,     0.45345,     0.45445,     0.45546,\n",
              "           0.45646,     0.45746,     0.45846,     0.45946,     0.46046,     0.46146,     0.46246,     0.46346,     0.46446,     0.46547,     0.46647,     0.46747,     0.46847,     0.46947,     0.47047,     0.47147,     0.47247,     0.47347,     0.47447,     0.47548,     0.47648,     0.47748,     0.47848,     0.47948,\n",
              "           0.48048,     0.48148,     0.48248,     0.48348,     0.48448,     0.48549,     0.48649,     0.48749,     0.48849,     0.48949,     0.49049,     0.49149,     0.49249,     0.49349,     0.49449,      0.4955,      0.4965,      0.4975,      0.4985,      0.4995,      0.5005,      0.5015,      0.5025,      0.5035,\n",
              "            0.5045,     0.50551,     0.50651,     0.50751,     0.50851,     0.50951,     0.51051,     0.51151,     0.51251,     0.51351,     0.51451,     0.51552,     0.51652,     0.51752,     0.51852,     0.51952,     0.52052,     0.52152,     0.52252,     0.52352,     0.52452,     0.52553,     0.52653,     0.52753,\n",
              "           0.52853,     0.52953,     0.53053,     0.53153,     0.53253,     0.53353,     0.53453,     0.53554,     0.53654,     0.53754,     0.53854,     0.53954,     0.54054,     0.54154,     0.54254,     0.54354,     0.54454,     0.54555,     0.54655,     0.54755,     0.54855,     0.54955,     0.55055,     0.55155,\n",
              "           0.55255,     0.55355,     0.55455,     0.55556,     0.55656,     0.55756,     0.55856,     0.55956,     0.56056,     0.56156,     0.56256,     0.56356,     0.56456,     0.56557,     0.56657,     0.56757,     0.56857,     0.56957,     0.57057,     0.57157,     0.57257,     0.57357,     0.57457,     0.57558,\n",
              "           0.57658,     0.57758,     0.57858,     0.57958,     0.58058,     0.58158,     0.58258,     0.58358,     0.58458,     0.58559,     0.58659,     0.58759,     0.58859,     0.58959,     0.59059,     0.59159,     0.59259,     0.59359,     0.59459,      0.5956,      0.5966,      0.5976,      0.5986,      0.5996,\n",
              "            0.6006,      0.6016,      0.6026,      0.6036,      0.6046,     0.60561,     0.60661,     0.60761,     0.60861,     0.60961,     0.61061,     0.61161,     0.61261,     0.61361,     0.61461,     0.61562,     0.61662,     0.61762,     0.61862,     0.61962,     0.62062,     0.62162,     0.62262,     0.62362,\n",
              "           0.62462,     0.62563,     0.62663,     0.62763,     0.62863,     0.62963,     0.63063,     0.63163,     0.63263,     0.63363,     0.63463,     0.63564,     0.63664,     0.63764,     0.63864,     0.63964,     0.64064,     0.64164,     0.64264,     0.64364,     0.64464,     0.64565,     0.64665,     0.64765,\n",
              "           0.64865,     0.64965,     0.65065,     0.65165,     0.65265,     0.65365,     0.65465,     0.65566,     0.65666,     0.65766,     0.65866,     0.65966,     0.66066,     0.66166,     0.66266,     0.66366,     0.66466,     0.66567,     0.66667,     0.66767,     0.66867,     0.66967,     0.67067,     0.67167,\n",
              "           0.67267,     0.67367,     0.67467,     0.67568,     0.67668,     0.67768,     0.67868,     0.67968,     0.68068,     0.68168,     0.68268,     0.68368,     0.68468,     0.68569,     0.68669,     0.68769,     0.68869,     0.68969,     0.69069,     0.69169,     0.69269,     0.69369,     0.69469,      0.6957,\n",
              "            0.6967,      0.6977,      0.6987,      0.6997,      0.7007,      0.7017,      0.7027,      0.7037,      0.7047,     0.70571,     0.70671,     0.70771,     0.70871,     0.70971,     0.71071,     0.71171,     0.71271,     0.71371,     0.71471,     0.71572,     0.71672,     0.71772,     0.71872,     0.71972,\n",
              "           0.72072,     0.72172,     0.72272,     0.72372,     0.72472,     0.72573,     0.72673,     0.72773,     0.72873,     0.72973,     0.73073,     0.73173,     0.73273,     0.73373,     0.73473,     0.73574,     0.73674,     0.73774,     0.73874,     0.73974,     0.74074,     0.74174,     0.74274,     0.74374,\n",
              "           0.74474,     0.74575,     0.74675,     0.74775,     0.74875,     0.74975,     0.75075,     0.75175,     0.75275,     0.75375,     0.75475,     0.75576,     0.75676,     0.75776,     0.75876,     0.75976,     0.76076,     0.76176,     0.76276,     0.76376,     0.76476,     0.76577,     0.76677,     0.76777,\n",
              "           0.76877,     0.76977,     0.77077,     0.77177,     0.77277,     0.77377,     0.77477,     0.77578,     0.77678,     0.77778,     0.77878,     0.77978,     0.78078,     0.78178,     0.78278,     0.78378,     0.78478,     0.78579,     0.78679,     0.78779,     0.78879,     0.78979,     0.79079,     0.79179,\n",
              "           0.79279,     0.79379,     0.79479,      0.7958,      0.7968,      0.7978,      0.7988,      0.7998,      0.8008,      0.8018,      0.8028,      0.8038,      0.8048,     0.80581,     0.80681,     0.80781,     0.80881,     0.80981,     0.81081,     0.81181,     0.81281,     0.81381,     0.81481,     0.81582,\n",
              "           0.81682,     0.81782,     0.81882,     0.81982,     0.82082,     0.82182,     0.82282,     0.82382,     0.82482,     0.82583,     0.82683,     0.82783,     0.82883,     0.82983,     0.83083,     0.83183,     0.83283,     0.83383,     0.83483,     0.83584,     0.83684,     0.83784,     0.83884,     0.83984,\n",
              "           0.84084,     0.84184,     0.84284,     0.84384,     0.84484,     0.84585,     0.84685,     0.84785,     0.84885,     0.84985,     0.85085,     0.85185,     0.85285,     0.85385,     0.85485,     0.85586,     0.85686,     0.85786,     0.85886,     0.85986,     0.86086,     0.86186,     0.86286,     0.86386,\n",
              "           0.86486,     0.86587,     0.86687,     0.86787,     0.86887,     0.86987,     0.87087,     0.87187,     0.87287,     0.87387,     0.87487,     0.87588,     0.87688,     0.87788,     0.87888,     0.87988,     0.88088,     0.88188,     0.88288,     0.88388,     0.88488,     0.88589,     0.88689,     0.88789,\n",
              "           0.88889,     0.88989,     0.89089,     0.89189,     0.89289,     0.89389,     0.89489,      0.8959,      0.8969,      0.8979,      0.8989,      0.8999,      0.9009,      0.9019,      0.9029,      0.9039,      0.9049,     0.90591,     0.90691,     0.90791,     0.90891,     0.90991,     0.91091,     0.91191,\n",
              "           0.91291,     0.91391,     0.91491,     0.91592,     0.91692,     0.91792,     0.91892,     0.91992,     0.92092,     0.92192,     0.92292,     0.92392,     0.92492,     0.92593,     0.92693,     0.92793,     0.92893,     0.92993,     0.93093,     0.93193,     0.93293,     0.93393,     0.93493,     0.93594,\n",
              "           0.93694,     0.93794,     0.93894,     0.93994,     0.94094,     0.94194,     0.94294,     0.94394,     0.94494,     0.94595,     0.94695,     0.94795,     0.94895,     0.94995,     0.95095,     0.95195,     0.95295,     0.95395,     0.95495,     0.95596,     0.95696,     0.95796,     0.95896,     0.95996,\n",
              "           0.96096,     0.96196,     0.96296,     0.96396,     0.96496,     0.96597,     0.96697,     0.96797,     0.96897,     0.96997,     0.97097,     0.97197,     0.97297,     0.97397,     0.97497,     0.97598,     0.97698,     0.97798,     0.97898,     0.97998,     0.98098,     0.98198,     0.98298,     0.98398,\n",
              "           0.98498,     0.98599,     0.98699,     0.98799,     0.98899,     0.98999,     0.99099,     0.99199,     0.99299,     0.99399,     0.99499,       0.996,       0.997,       0.998,       0.999,           1]), array([[    0.31944,     0.31944,     0.40927,     0.46752,     0.50423,      0.5437,     0.54745,     0.56134,     0.58028,     0.58848,     0.59431,     0.60127,     0.61919,     0.62145,     0.62372,     0.62598,     0.62824,     0.63051,     0.63277,     0.63503,     0.64081,     0.65159,     0.67832,\n",
              "            0.68406,      0.6898,     0.69554,     0.70055,     0.70303,     0.70551,     0.70799,     0.71047,     0.71294,     0.71542,      0.7179,     0.72038,     0.72286,     0.72676,      0.7322,     0.73764,     0.74308,     0.74851,     0.77495,      0.7707,     0.76888,     0.76835,     0.76781,\n",
              "            0.76728,     0.76674,     0.76621,     0.76567,     0.76514,      0.7646,     0.76407,     0.76353,       0.763,     0.76246,     0.76193,     0.76139,     0.76086,     0.76032,     0.76097,     0.76342,     0.76586,      0.7683,     0.77075,     0.77319,     0.77564,     0.77808,     0.78052,\n",
              "            0.78297,     0.78541,     0.78786,      0.7903,     0.78955,     0.78476,     0.78229,     0.78172,     0.78114,     0.78057,     0.77999,     0.77942,     0.77884,     0.77827,     0.77769,     0.77712,     0.77655,     0.77597,      0.7754,     0.77482,     0.77425,     0.77367,      0.7731,\n",
              "            0.77231,     0.77112,     0.76994,     0.76876,     0.76757,     0.76639,     0.76521,     0.76402,     0.76284,     0.76233,     0.76437,      0.7664,     0.76844,     0.77047,     0.77251,     0.77454,     0.77658,     0.77861,     0.78065,     0.78268,     0.78472,     0.78675,     0.78879,\n",
              "            0.79082,     0.79286,     0.79489,     0.79693,     0.79896,      0.8016,     0.80486,     0.80811,     0.81137,     0.81463,     0.81788,     0.82114,      0.8244,     0.82766,     0.83091,     0.83417,     0.83743,     0.84069,     0.84187,     0.84145,     0.84103,     0.84061,      0.8402,\n",
              "            0.83978,     0.83936,     0.83894,     0.83852,     0.83811,     0.83769,     0.83727,     0.83685,     0.83643,     0.83601,      0.8356,     0.83518,     0.83476,     0.83434,     0.83392,     0.83351,     0.83315,     0.83285,     0.83255,     0.83224,     0.83194,     0.83164,     0.83133,\n",
              "            0.83103,     0.83073,     0.83042,     0.83012,     0.82982,     0.82951,     0.82921,     0.82891,      0.8286,      0.8283,       0.828,     0.82769,     0.82739,     0.82709,     0.82678,     0.82648,     0.82618,     0.82587,     0.82557,     0.82527,     0.82496,     0.82466,     0.82436,\n",
              "            0.82405,     0.82375,     0.82435,     0.82734,     0.83033,     0.83333,     0.83632,     0.83931,     0.84231,      0.8453,     0.84829,     0.85129,     0.85428,     0.85727,     0.86027,     0.86326,     0.86625,     0.86925,     0.87224,      0.8751,     0.87632,     0.87754,     0.87876,\n",
              "            0.87998,      0.8812,     0.88242,     0.88364,     0.88486,     0.88608,      0.8873,     0.88852,     0.88974,     0.89096,     0.89218,      0.8934,     0.89462,     0.89584,     0.89706,     0.89828,      0.8995,     0.90072,     0.90194,     0.90316,     0.90438,      0.9056,     0.90682,\n",
              "            0.90804,     0.90926,     0.91048,      0.9117,     0.91292,     0.91414,     0.91536,     0.91658,      0.9178,     0.91902,     0.92025,     0.92147,     0.92269,     0.92391,     0.92513,     0.92635,     0.92757,     0.92879,     0.93001,     0.93123,     0.93245,      0.9333,     0.93318,\n",
              "            0.93306,     0.93294,     0.93282,     0.93271,     0.93259,     0.93247,     0.93235,     0.93223,     0.93211,     0.93199,     0.93187,     0.93175,     0.93163,     0.93151,      0.9314,     0.93128,     0.93116,     0.93104,     0.93092,      0.9308,     0.93068,     0.93056,     0.93044,\n",
              "            0.93032,     0.93021,     0.93009,     0.92997,     0.92985,     0.92973,     0.92961,     0.92949,     0.92937,     0.92925,     0.92913,     0.92901,      0.9289,     0.92878,     0.92866,     0.92891,     0.93013,     0.93135,     0.93257,     0.93379,     0.93501,     0.93623,     0.93745,\n",
              "            0.93867,     0.93989,     0.94111,     0.94233,     0.94355,     0.94477,     0.94599,     0.94721,     0.94843,     0.94965,     0.95087,     0.95209,     0.95331,     0.95453,     0.95575,     0.95697,     0.95819,     0.95941,     0.96063,     0.96185,     0.96307,      0.9643,     0.96552,\n",
              "            0.96674,     0.96796,     0.96918,      0.9704,     0.97162,     0.97284,     0.97406,     0.97528,      0.9765,     0.97772,     0.97894,     0.98016,     0.98138,      0.9826,     0.98382,     0.98504,     0.98626,     0.98748,      0.9887,     0.98992,     0.99114,     0.99236,     0.99358,\n",
              "             0.9948,     0.99602,     0.99724,     0.99846,     0.99968,           1,           1,           1,           1,           1,           1,           1,           1,           1,           1,           1,           1,           1,           1,           1,           1,           1,           1,\n",
              "                  1,           1,           1,           1,           1,           1,           1,           1,           1,           1,           1,           1,           1,           1,           1,           1,           1,           1,           1,           1,           1,           1,           1,\n",
              "                  1,           1,           1,           1,           1,           1,           1,           1,           1,           1,           1,           1,           1,           1,           1,           1,           1,           1,           1,           1,           1,           1,           1,\n",
              "                  1,           1,           1,           1,           1,           1,           1,           1,           1,           1,           1,           1,           1,           1,           1,           1,           1,           1,           1,           1,           1,           1,           1,\n",
              "                  1,           1,           1,           1,           1,           1,           1,           1,           1,           1,           1,           1,           1,           1,           1,           1,           1,           1,           1,           1,           1,           1,           1,\n",
              "                  1,           1,           1,           1,           1,           1,           1,           1,           1,           1,           1,           1,           1,           1,           1,           1,           1,           1,           1,           1,           1,           1,           1,\n",
              "                  1,           1,           1,           1,           1,           1,           1,           1,           1,           1,           1,           1,           1,           1,           1,           1,           1,           1,           1,           1,           1,           1,           1,\n",
              "                  1,           1,           1,           1,           1,           1,           1,           1,           1,           1,           1,           1,           1,           1,           1,           1,           1,           1,           1,           1,           1,           1,           1,\n",
              "                  1,           1,           1,           1,           1,           1,           1,           1,           1,           1,           1,           1,           1,           1,           1,           1,           1,           1,           1,           1,           1,           1,           1,\n",
              "                  1,           1,           1,           1,           1,           1,           1,           1,           1,           1,           1,           1,           1,           1,           1,           1,           1,           1,           1,           1,           1,           1,           1,\n",
              "                  1,           1,           1,           1,           1,           1,           1,           1,           1,           1,           1,           1,           1,           1,           1,           1,           1,           1,           1,           1,           1,           1,           1,\n",
              "                  1,           1,           1,           1,           1,           1,           1,           1,           1,           1,           1,           1,           1,           1,           1,           1,           1,           1,           1,           1,           1,           1,           1,\n",
              "                  1,           1,           1,           1,           1,           1,           1,           1,           1,           1,           1,           1,           1,           1,           1,           1,           1,           1,           1,           1,           1,           1,           1,\n",
              "                  1,           1,           1,           1,           1,           1,           1,           1,           1,           1,           1,           1,           1,           1,           1,           1,           1,           1,           1,           1,           1,           1,           1,\n",
              "                  1,           1,           1,           1,           1,           1,           1,           1,           1,           1,           1,           1,           1,           1,           1,           1,           1,           1,           1,           1,           1,           1,           1,\n",
              "                  1,           1,           1,           1,           1,           1,           1,           1,           1,           1,           1,           1,           1,           1,           1,           1,           1,           1,           1,           1,           1,           1,           1,\n",
              "                  1,           1,           1,           1,           1,           1,           1,           1,           1,           1,           1,           1,           1,           1,           1,           1,           1,           1,           1,           1,           1,           1,           1,\n",
              "                  1,           1,           1,           1,           1,           1,           1,           1,           1,           1,           1,           1,           1,           1,           1,           1,           1,           1,           1,           1,           1,           1,           1,\n",
              "                  1,           1,           1,           1,           1,           1,           1,           1,           1,           1,           1,           1,           1,           1,           1,           1,           1,           1,           1,           1,           1,           1,           1,\n",
              "                  1,           1,           1,           1,           1,           1,           1,           1,           1,           1,           1,           1,           1,           1,           1,           1,           1,           1,           1,           1,           1,           1,           1,\n",
              "                  1,           1,           1,           1,           1,           1,           1,           1,           1,           1,           1,           1,           1,           1,           1,           1,           1,           1,           1,           1,           1,           1,           1,\n",
              "                  1,           1,           1,           1,           1,           1,           1,           1,           1,           1,           1,           1,           1,           1,           1,           1,           1,           1,           1,           1,           1,           1,           1,\n",
              "                  1,           1,           1,           1,           1,           1,           1,           1,           1,           1,           1,           1,           1,           1,           1,           1,           1,           1,           1,           1,           1,           1,           1,\n",
              "                  1,           1,           1,           1,           1,           1,           1,           1,           1,           1,           1,           1,           1,           1,           1,           1,           1,           1,           1,           1,           1,           1,           1,\n",
              "                  1,           1,           1,           1,           1,           1,           1,           1,           1,           1,           1,           1,           1,           1,           1,           1,           1,           1,           1,           1,           1,           1,           1,\n",
              "                  1,           1,           1,           1,           1,           1,           1,           1,           1,           1,           1,           1,           1,           1,           1,           1,           1,           1,           1,           1,           1,           1,           1,\n",
              "                  1,           1,           1,           1,           1,           1,           1,           1,           1,           1,           1,           1,           1,           1,           1,           1,           1,           1,           1,           1,           1,           1,           1,\n",
              "                  1,           1,           1,           1,           1,           1,           1,           1,           1,           1,           1,           1,           1,           1,           1,           1,           1,           1,           1,           1,           1,           1,           1,\n",
              "                  1,           1,           1,           1,           1,           1,           1,           1,           1,           1,           1]]), 'Confidence', 'Precision'], [array([          0,    0.001001,    0.002002,    0.003003,    0.004004,    0.005005,    0.006006,    0.007007,    0.008008,    0.009009,     0.01001,    0.011011,    0.012012,    0.013013,    0.014014,    0.015015,    0.016016,    0.017017,    0.018018,    0.019019,     0.02002,    0.021021,    0.022022,    0.023023,\n",
              "          0.024024,    0.025025,    0.026026,    0.027027,    0.028028,    0.029029,     0.03003,    0.031031,    0.032032,    0.033033,    0.034034,    0.035035,    0.036036,    0.037037,    0.038038,    0.039039,     0.04004,    0.041041,    0.042042,    0.043043,    0.044044,    0.045045,    0.046046,    0.047047,\n",
              "          0.048048,    0.049049,     0.05005,    0.051051,    0.052052,    0.053053,    0.054054,    0.055055,    0.056056,    0.057057,    0.058058,    0.059059,     0.06006,    0.061061,    0.062062,    0.063063,    0.064064,    0.065065,    0.066066,    0.067067,    0.068068,    0.069069,     0.07007,    0.071071,\n",
              "          0.072072,    0.073073,    0.074074,    0.075075,    0.076076,    0.077077,    0.078078,    0.079079,     0.08008,    0.081081,    0.082082,    0.083083,    0.084084,    0.085085,    0.086086,    0.087087,    0.088088,    0.089089,     0.09009,    0.091091,    0.092092,    0.093093,    0.094094,    0.095095,\n",
              "          0.096096,    0.097097,    0.098098,    0.099099,      0.1001,      0.1011,      0.1021,      0.1031,      0.1041,     0.10511,     0.10611,     0.10711,     0.10811,     0.10911,     0.11011,     0.11111,     0.11211,     0.11311,     0.11411,     0.11512,     0.11612,     0.11712,     0.11812,     0.11912,\n",
              "           0.12012,     0.12112,     0.12212,     0.12312,     0.12412,     0.12513,     0.12613,     0.12713,     0.12813,     0.12913,     0.13013,     0.13113,     0.13213,     0.13313,     0.13413,     0.13514,     0.13614,     0.13714,     0.13814,     0.13914,     0.14014,     0.14114,     0.14214,     0.14314,\n",
              "           0.14414,     0.14515,     0.14615,     0.14715,     0.14815,     0.14915,     0.15015,     0.15115,     0.15215,     0.15315,     0.15415,     0.15516,     0.15616,     0.15716,     0.15816,     0.15916,     0.16016,     0.16116,     0.16216,     0.16316,     0.16416,     0.16517,     0.16617,     0.16717,\n",
              "           0.16817,     0.16917,     0.17017,     0.17117,     0.17217,     0.17317,     0.17417,     0.17518,     0.17618,     0.17718,     0.17818,     0.17918,     0.18018,     0.18118,     0.18218,     0.18318,     0.18418,     0.18519,     0.18619,     0.18719,     0.18819,     0.18919,     0.19019,     0.19119,\n",
              "           0.19219,     0.19319,     0.19419,      0.1952,      0.1962,      0.1972,      0.1982,      0.1992,      0.2002,      0.2012,      0.2022,      0.2032,      0.2042,     0.20521,     0.20621,     0.20721,     0.20821,     0.20921,     0.21021,     0.21121,     0.21221,     0.21321,     0.21421,     0.21522,\n",
              "           0.21622,     0.21722,     0.21822,     0.21922,     0.22022,     0.22122,     0.22222,     0.22322,     0.22422,     0.22523,     0.22623,     0.22723,     0.22823,     0.22923,     0.23023,     0.23123,     0.23223,     0.23323,     0.23423,     0.23524,     0.23624,     0.23724,     0.23824,     0.23924,\n",
              "           0.24024,     0.24124,     0.24224,     0.24324,     0.24424,     0.24525,     0.24625,     0.24725,     0.24825,     0.24925,     0.25025,     0.25125,     0.25225,     0.25325,     0.25425,     0.25526,     0.25626,     0.25726,     0.25826,     0.25926,     0.26026,     0.26126,     0.26226,     0.26326,\n",
              "           0.26426,     0.26527,     0.26627,     0.26727,     0.26827,     0.26927,     0.27027,     0.27127,     0.27227,     0.27327,     0.27427,     0.27528,     0.27628,     0.27728,     0.27828,     0.27928,     0.28028,     0.28128,     0.28228,     0.28328,     0.28428,     0.28529,     0.28629,     0.28729,\n",
              "           0.28829,     0.28929,     0.29029,     0.29129,     0.29229,     0.29329,     0.29429,      0.2953,      0.2963,      0.2973,      0.2983,      0.2993,      0.3003,      0.3013,      0.3023,      0.3033,      0.3043,     0.30531,     0.30631,     0.30731,     0.30831,     0.30931,     0.31031,     0.31131,\n",
              "           0.31231,     0.31331,     0.31431,     0.31532,     0.31632,     0.31732,     0.31832,     0.31932,     0.32032,     0.32132,     0.32232,     0.32332,     0.32432,     0.32533,     0.32633,     0.32733,     0.32833,     0.32933,     0.33033,     0.33133,     0.33233,     0.33333,     0.33433,     0.33534,\n",
              "           0.33634,     0.33734,     0.33834,     0.33934,     0.34034,     0.34134,     0.34234,     0.34334,     0.34434,     0.34535,     0.34635,     0.34735,     0.34835,     0.34935,     0.35035,     0.35135,     0.35235,     0.35335,     0.35435,     0.35536,     0.35636,     0.35736,     0.35836,     0.35936,\n",
              "           0.36036,     0.36136,     0.36236,     0.36336,     0.36436,     0.36537,     0.36637,     0.36737,     0.36837,     0.36937,     0.37037,     0.37137,     0.37237,     0.37337,     0.37437,     0.37538,     0.37638,     0.37738,     0.37838,     0.37938,     0.38038,     0.38138,     0.38238,     0.38338,\n",
              "           0.38438,     0.38539,     0.38639,     0.38739,     0.38839,     0.38939,     0.39039,     0.39139,     0.39239,     0.39339,     0.39439,      0.3954,      0.3964,      0.3974,      0.3984,      0.3994,      0.4004,      0.4014,      0.4024,      0.4034,      0.4044,     0.40541,     0.40641,     0.40741,\n",
              "           0.40841,     0.40941,     0.41041,     0.41141,     0.41241,     0.41341,     0.41441,     0.41542,     0.41642,     0.41742,     0.41842,     0.41942,     0.42042,     0.42142,     0.42242,     0.42342,     0.42442,     0.42543,     0.42643,     0.42743,     0.42843,     0.42943,     0.43043,     0.43143,\n",
              "           0.43243,     0.43343,     0.43443,     0.43544,     0.43644,     0.43744,     0.43844,     0.43944,     0.44044,     0.44144,     0.44244,     0.44344,     0.44444,     0.44545,     0.44645,     0.44745,     0.44845,     0.44945,     0.45045,     0.45145,     0.45245,     0.45345,     0.45445,     0.45546,\n",
              "           0.45646,     0.45746,     0.45846,     0.45946,     0.46046,     0.46146,     0.46246,     0.46346,     0.46446,     0.46547,     0.46647,     0.46747,     0.46847,     0.46947,     0.47047,     0.47147,     0.47247,     0.47347,     0.47447,     0.47548,     0.47648,     0.47748,     0.47848,     0.47948,\n",
              "           0.48048,     0.48148,     0.48248,     0.48348,     0.48448,     0.48549,     0.48649,     0.48749,     0.48849,     0.48949,     0.49049,     0.49149,     0.49249,     0.49349,     0.49449,      0.4955,      0.4965,      0.4975,      0.4985,      0.4995,      0.5005,      0.5015,      0.5025,      0.5035,\n",
              "            0.5045,     0.50551,     0.50651,     0.50751,     0.50851,     0.50951,     0.51051,     0.51151,     0.51251,     0.51351,     0.51451,     0.51552,     0.51652,     0.51752,     0.51852,     0.51952,     0.52052,     0.52152,     0.52252,     0.52352,     0.52452,     0.52553,     0.52653,     0.52753,\n",
              "           0.52853,     0.52953,     0.53053,     0.53153,     0.53253,     0.53353,     0.53453,     0.53554,     0.53654,     0.53754,     0.53854,     0.53954,     0.54054,     0.54154,     0.54254,     0.54354,     0.54454,     0.54555,     0.54655,     0.54755,     0.54855,     0.54955,     0.55055,     0.55155,\n",
              "           0.55255,     0.55355,     0.55455,     0.55556,     0.55656,     0.55756,     0.55856,     0.55956,     0.56056,     0.56156,     0.56256,     0.56356,     0.56456,     0.56557,     0.56657,     0.56757,     0.56857,     0.56957,     0.57057,     0.57157,     0.57257,     0.57357,     0.57457,     0.57558,\n",
              "           0.57658,     0.57758,     0.57858,     0.57958,     0.58058,     0.58158,     0.58258,     0.58358,     0.58458,     0.58559,     0.58659,     0.58759,     0.58859,     0.58959,     0.59059,     0.59159,     0.59259,     0.59359,     0.59459,      0.5956,      0.5966,      0.5976,      0.5986,      0.5996,\n",
              "            0.6006,      0.6016,      0.6026,      0.6036,      0.6046,     0.60561,     0.60661,     0.60761,     0.60861,     0.60961,     0.61061,     0.61161,     0.61261,     0.61361,     0.61461,     0.61562,     0.61662,     0.61762,     0.61862,     0.61962,     0.62062,     0.62162,     0.62262,     0.62362,\n",
              "           0.62462,     0.62563,     0.62663,     0.62763,     0.62863,     0.62963,     0.63063,     0.63163,     0.63263,     0.63363,     0.63463,     0.63564,     0.63664,     0.63764,     0.63864,     0.63964,     0.64064,     0.64164,     0.64264,     0.64364,     0.64464,     0.64565,     0.64665,     0.64765,\n",
              "           0.64865,     0.64965,     0.65065,     0.65165,     0.65265,     0.65365,     0.65465,     0.65566,     0.65666,     0.65766,     0.65866,     0.65966,     0.66066,     0.66166,     0.66266,     0.66366,     0.66466,     0.66567,     0.66667,     0.66767,     0.66867,     0.66967,     0.67067,     0.67167,\n",
              "           0.67267,     0.67367,     0.67467,     0.67568,     0.67668,     0.67768,     0.67868,     0.67968,     0.68068,     0.68168,     0.68268,     0.68368,     0.68468,     0.68569,     0.68669,     0.68769,     0.68869,     0.68969,     0.69069,     0.69169,     0.69269,     0.69369,     0.69469,      0.6957,\n",
              "            0.6967,      0.6977,      0.6987,      0.6997,      0.7007,      0.7017,      0.7027,      0.7037,      0.7047,     0.70571,     0.70671,     0.70771,     0.70871,     0.70971,     0.71071,     0.71171,     0.71271,     0.71371,     0.71471,     0.71572,     0.71672,     0.71772,     0.71872,     0.71972,\n",
              "           0.72072,     0.72172,     0.72272,     0.72372,     0.72472,     0.72573,     0.72673,     0.72773,     0.72873,     0.72973,     0.73073,     0.73173,     0.73273,     0.73373,     0.73473,     0.73574,     0.73674,     0.73774,     0.73874,     0.73974,     0.74074,     0.74174,     0.74274,     0.74374,\n",
              "           0.74474,     0.74575,     0.74675,     0.74775,     0.74875,     0.74975,     0.75075,     0.75175,     0.75275,     0.75375,     0.75475,     0.75576,     0.75676,     0.75776,     0.75876,     0.75976,     0.76076,     0.76176,     0.76276,     0.76376,     0.76476,     0.76577,     0.76677,     0.76777,\n",
              "           0.76877,     0.76977,     0.77077,     0.77177,     0.77277,     0.77377,     0.77477,     0.77578,     0.77678,     0.77778,     0.77878,     0.77978,     0.78078,     0.78178,     0.78278,     0.78378,     0.78478,     0.78579,     0.78679,     0.78779,     0.78879,     0.78979,     0.79079,     0.79179,\n",
              "           0.79279,     0.79379,     0.79479,      0.7958,      0.7968,      0.7978,      0.7988,      0.7998,      0.8008,      0.8018,      0.8028,      0.8038,      0.8048,     0.80581,     0.80681,     0.80781,     0.80881,     0.80981,     0.81081,     0.81181,     0.81281,     0.81381,     0.81481,     0.81582,\n",
              "           0.81682,     0.81782,     0.81882,     0.81982,     0.82082,     0.82182,     0.82282,     0.82382,     0.82482,     0.82583,     0.82683,     0.82783,     0.82883,     0.82983,     0.83083,     0.83183,     0.83283,     0.83383,     0.83483,     0.83584,     0.83684,     0.83784,     0.83884,     0.83984,\n",
              "           0.84084,     0.84184,     0.84284,     0.84384,     0.84484,     0.84585,     0.84685,     0.84785,     0.84885,     0.84985,     0.85085,     0.85185,     0.85285,     0.85385,     0.85485,     0.85586,     0.85686,     0.85786,     0.85886,     0.85986,     0.86086,     0.86186,     0.86286,     0.86386,\n",
              "           0.86486,     0.86587,     0.86687,     0.86787,     0.86887,     0.86987,     0.87087,     0.87187,     0.87287,     0.87387,     0.87487,     0.87588,     0.87688,     0.87788,     0.87888,     0.87988,     0.88088,     0.88188,     0.88288,     0.88388,     0.88488,     0.88589,     0.88689,     0.88789,\n",
              "           0.88889,     0.88989,     0.89089,     0.89189,     0.89289,     0.89389,     0.89489,      0.8959,      0.8969,      0.8979,      0.8989,      0.8999,      0.9009,      0.9019,      0.9029,      0.9039,      0.9049,     0.90591,     0.90691,     0.90791,     0.90891,     0.90991,     0.91091,     0.91191,\n",
              "           0.91291,     0.91391,     0.91491,     0.91592,     0.91692,     0.91792,     0.91892,     0.91992,     0.92092,     0.92192,     0.92292,     0.92392,     0.92492,     0.92593,     0.92693,     0.92793,     0.92893,     0.92993,     0.93093,     0.93193,     0.93293,     0.93393,     0.93493,     0.93594,\n",
              "           0.93694,     0.93794,     0.93894,     0.93994,     0.94094,     0.94194,     0.94294,     0.94394,     0.94494,     0.94595,     0.94695,     0.94795,     0.94895,     0.94995,     0.95095,     0.95195,     0.95295,     0.95395,     0.95495,     0.95596,     0.95696,     0.95796,     0.95896,     0.95996,\n",
              "           0.96096,     0.96196,     0.96296,     0.96396,     0.96496,     0.96597,     0.96697,     0.96797,     0.96897,     0.96997,     0.97097,     0.97197,     0.97297,     0.97397,     0.97497,     0.97598,     0.97698,     0.97798,     0.97898,     0.97998,     0.98098,     0.98198,     0.98298,     0.98398,\n",
              "           0.98498,     0.98599,     0.98699,     0.98799,     0.98899,     0.98999,     0.99099,     0.99199,     0.99299,     0.99399,     0.99499,       0.996,       0.997,       0.998,       0.999,           1]), array([[    0.95833,     0.95833,     0.95833,     0.95131,     0.91667,     0.91667,       0.875,       0.875,       0.875,       0.875,       0.875,       0.875,       0.875,       0.875,       0.875,       0.875,       0.875,       0.875,       0.875,       0.875,       0.875,       0.875,       0.875,\n",
              "              0.875,       0.875,       0.875,       0.875,       0.875,       0.875,       0.875,       0.875,       0.875,       0.875,       0.875,       0.875,       0.875,       0.875,       0.875,       0.875,       0.875,       0.875,     0.86122,     0.84051,     0.83176,     0.82934,     0.82693,\n",
              "            0.82451,      0.8221,     0.81968,     0.81727,     0.81485,     0.81244,     0.81002,     0.80761,     0.80519,     0.80278,     0.80036,     0.79795,     0.79554,     0.79312,     0.79167,     0.79167,     0.79167,     0.79167,     0.79167,     0.79167,     0.79167,     0.79167,     0.79167,\n",
              "            0.79167,     0.79167,     0.79167,     0.79167,     0.78195,     0.75991,     0.74867,     0.74624,     0.74382,      0.7414,     0.73897,     0.73655,     0.73413,      0.7317,     0.72928,     0.72686,     0.72443,     0.72201,     0.71959,     0.71716,     0.71474,     0.71232,     0.70989,\n",
              "            0.70671,     0.70216,      0.6976,     0.69304,     0.68849,     0.68393,     0.67938,     0.67482,     0.67027,     0.66667,     0.66667,     0.66667,     0.66667,     0.66667,     0.66667,     0.66667,     0.66667,     0.66667,     0.66667,     0.66667,     0.66667,     0.66667,     0.66667,\n",
              "            0.66667,     0.66667,     0.66667,     0.66667,     0.66667,     0.66667,     0.66667,     0.66667,     0.66667,     0.66667,     0.66667,     0.66667,     0.66667,     0.66667,     0.66667,     0.66667,     0.66667,     0.66667,     0.66555,     0.66356,     0.66157,     0.65959,      0.6576,\n",
              "            0.65561,     0.65363,     0.65164,     0.64965,     0.64767,     0.64568,     0.64369,     0.64171,     0.63972,     0.63774,     0.63575,     0.63376,     0.63178,     0.62979,      0.6278,     0.62582,     0.62424,     0.62295,     0.62166,     0.62037,     0.61908,     0.61779,      0.6165,\n",
              "            0.61522,     0.61393,     0.61264,     0.61135,     0.61006,     0.60877,     0.60748,     0.60619,      0.6049,     0.60361,     0.60232,     0.60103,     0.59974,     0.59845,     0.59716,     0.59587,     0.59459,      0.5933,     0.59201,     0.59072,     0.58943,     0.58814,     0.58685,\n",
              "            0.58556,     0.58427,     0.58333,     0.58333,     0.58333,     0.58333,     0.58333,     0.58333,     0.58333,     0.58333,     0.58333,     0.58333,     0.58333,     0.58333,     0.58333,     0.58333,     0.58333,     0.58333,     0.58333,     0.58333,     0.58333,     0.58333,     0.58333,\n",
              "            0.58333,     0.58333,     0.58333,     0.58333,     0.58333,     0.58333,     0.58333,     0.58333,     0.58333,     0.58333,     0.58333,     0.58333,     0.58333,     0.58333,     0.58333,     0.58333,     0.58333,     0.58333,     0.58333,     0.58333,     0.58333,     0.58333,     0.58333,\n",
              "            0.58333,     0.58333,     0.58333,     0.58333,     0.58333,     0.58333,     0.58333,     0.58333,     0.58333,     0.58333,     0.58333,     0.58333,     0.58333,     0.58333,     0.58333,     0.58333,     0.58333,     0.58333,     0.58333,     0.58333,     0.58333,     0.58305,     0.58201,\n",
              "            0.58096,     0.57992,     0.57888,     0.57784,      0.5768,     0.57576,     0.57471,     0.57367,     0.57263,     0.57159,     0.57055,     0.56951,     0.56846,     0.56742,     0.56638,     0.56534,      0.5643,     0.56326,     0.56221,     0.56117,     0.56013,     0.55909,     0.55805,\n",
              "            0.55701,     0.55596,     0.55492,     0.55388,     0.55284,      0.5518,     0.55076,     0.54971,     0.54867,     0.54763,     0.54659,     0.54555,      0.5445,     0.54346,     0.54242,     0.54167,     0.54167,     0.54167,     0.54167,     0.54167,     0.54167,     0.54167,     0.54167,\n",
              "            0.54167,     0.54167,     0.54167,     0.54167,     0.54167,     0.54167,     0.54167,     0.54167,     0.54167,     0.54167,     0.54167,     0.54167,     0.54167,     0.54167,     0.54167,     0.54167,     0.54167,     0.54167,     0.54167,     0.54167,     0.54167,     0.54167,     0.54167,\n",
              "            0.54167,     0.54167,     0.54167,     0.54167,     0.54167,     0.54167,     0.54167,     0.54167,     0.54167,     0.54167,     0.54167,     0.54167,     0.54167,     0.54167,     0.54167,     0.54167,     0.54167,     0.54167,     0.54167,     0.54167,     0.54167,     0.54167,     0.54167,\n",
              "            0.54167,     0.54167,     0.54167,     0.54167,     0.54167,     0.54121,     0.54059,     0.53996,     0.53934,     0.53872,      0.5381,     0.53748,     0.53686,     0.53624,     0.53562,     0.53499,     0.53437,     0.53375,     0.53313,     0.53251,     0.53189,     0.53127,     0.53065,\n",
              "            0.53002,      0.5294,     0.52878,     0.52816,     0.52754,     0.52692,      0.5263,     0.52568,     0.52505,     0.52443,     0.52381,     0.52319,     0.52257,     0.52195,     0.52133,     0.52071,     0.52009,     0.51946,     0.51884,     0.51822,      0.5176,     0.51698,     0.51636,\n",
              "            0.51574,     0.51512,     0.51449,     0.51387,     0.51325,     0.51263,     0.51201,     0.51139,     0.51077,     0.51015,     0.50952,      0.5089,     0.50828,     0.50766,     0.50704,     0.50642,      0.5058,     0.50518,     0.50455,     0.50393,     0.50331,     0.50269,     0.50207,\n",
              "            0.50145,     0.50083,     0.50021,     0.49915,     0.49787,      0.4966,     0.49532,     0.49405,     0.49277,      0.4915,     0.49022,     0.48895,     0.48767,      0.4864,     0.48512,     0.48385,     0.48257,      0.4813,     0.48002,     0.47875,     0.47747,      0.4762,     0.47492,\n",
              "            0.47365,     0.47237,      0.4711,     0.46982,     0.46855,     0.46727,       0.466,     0.46472,     0.46345,     0.46218,      0.4609,     0.45963,     0.45835,      0.4564,     0.45443,     0.45247,     0.45051,     0.44854,     0.44658,     0.44461,     0.44265,     0.44069,     0.43872,\n",
              "            0.43676,      0.4348,     0.43283,     0.43087,      0.4289,     0.42694,     0.42498,     0.42301,     0.42105,     0.41909,     0.41712,      0.4164,     0.41604,     0.41569,     0.41534,     0.41498,     0.41463,     0.41428,     0.41392,     0.41357,     0.41322,     0.41287,     0.41251,\n",
              "            0.41216,     0.41181,     0.41145,      0.4111,     0.41075,      0.4104,     0.41004,     0.40969,     0.40934,     0.40898,     0.40863,     0.40828,     0.40792,     0.40757,     0.40722,     0.40687,     0.40651,     0.40616,     0.40581,     0.40545,      0.4051,     0.40475,     0.40439,\n",
              "            0.40404,     0.40369,     0.40334,     0.40298,     0.40263,     0.40228,     0.40192,     0.40157,     0.40122,     0.40087,     0.40051,     0.40016,     0.39981,     0.39945,      0.3991,     0.39875,     0.39839,     0.39804,     0.39769,     0.39734,     0.39698,     0.39663,     0.39628,\n",
              "            0.39592,     0.39557,     0.39522,     0.39486,     0.39451,     0.39416,     0.39381,     0.39345,      0.3931,     0.39275,     0.39239,     0.39204,     0.39169,     0.39133,     0.39098,     0.39063,     0.39028,     0.38992,     0.38957,     0.38922,     0.38886,     0.38851,     0.38816,\n",
              "            0.38781,     0.38745,      0.3871,     0.38675,     0.38639,     0.38604,     0.38569,     0.38533,     0.38498,     0.38463,     0.38428,     0.38392,     0.38357,     0.38322,     0.38286,     0.38251,     0.38216,      0.3818,     0.38145,      0.3811,     0.38075,     0.38039,     0.38004,\n",
              "            0.37969,     0.37933,     0.37898,     0.37863,     0.37827,     0.37792,     0.37757,     0.37722,     0.37686,     0.37651,     0.37616,      0.3758,     0.37545,      0.3751,      0.3746,     0.37404,     0.37348,     0.37292,     0.37236,     0.37181,     0.37125,     0.37069,     0.37013,\n",
              "            0.36957,     0.36901,     0.36846,      0.3679,     0.36734,     0.36678,     0.36622,     0.36566,     0.36511,     0.36455,     0.36399,     0.36343,     0.36287,     0.36231,     0.36176,      0.3612,     0.36064,     0.36008,     0.35952,     0.35896,     0.35841,     0.35785,     0.35729,\n",
              "            0.35673,     0.35617,     0.35562,     0.35506,      0.3545,     0.35394,     0.35338,     0.35282,     0.35227,     0.35171,     0.35115,     0.35059,     0.35003,     0.34947,     0.34892,     0.34836,      0.3478,     0.34724,     0.34668,     0.34612,     0.34557,     0.34501,     0.34445,\n",
              "            0.34389,     0.34333,     0.34277,     0.34222,     0.34166,      0.3411,     0.34054,     0.33998,     0.33942,     0.33887,     0.33831,     0.33775,     0.33719,     0.33663,     0.33607,     0.33552,     0.33496,      0.3344,     0.33384,     0.33327,     0.33256,     0.33186,     0.33115,\n",
              "            0.33045,     0.32974,     0.32903,     0.32833,     0.32762,     0.32692,     0.32621,      0.3255,      0.3248,     0.32409,     0.32339,     0.32268,     0.32198,     0.32127,     0.32056,     0.31986,     0.31915,     0.31845,     0.31774,     0.31703,     0.31633,     0.31562,     0.31492,\n",
              "            0.31421,      0.3135,      0.3128,     0.31209,     0.31139,     0.31068,     0.30997,     0.30927,     0.30856,     0.30786,     0.30715,     0.30644,     0.30574,     0.30503,     0.30433,     0.30362,     0.30291,     0.30221,      0.3015,      0.3008,     0.30009,     0.29939,     0.29868,\n",
              "            0.29797,     0.29727,     0.29656,     0.29586,     0.29515,     0.29444,     0.29374,     0.29303,     0.29233,     0.29159,     0.29047,     0.28934,     0.28822,      0.2871,     0.28597,     0.28485,     0.28372,      0.2826,     0.28148,     0.28035,     0.27923,      0.2781,     0.27698,\n",
              "            0.27586,     0.27473,     0.27361,     0.27249,     0.27136,     0.27024,     0.26911,     0.26799,     0.26687,     0.26574,     0.26462,     0.26349,     0.26237,     0.26125,     0.26012,       0.259,     0.25787,     0.25675,     0.25563,      0.2545,     0.25338,     0.25225,     0.25113,\n",
              "            0.25001,     0.24938,     0.24875,     0.24812,     0.24749,     0.24686,     0.24624,     0.24561,     0.24498,     0.24435,     0.24372,     0.24309,     0.24247,     0.24184,     0.24121,     0.24058,     0.23995,     0.23933,      0.2387,     0.23807,     0.23744,     0.23681,     0.23619,\n",
              "            0.23556,     0.23493,      0.2343,     0.23367,     0.23305,     0.23242,     0.23179,     0.23116,     0.23053,     0.22991,     0.22928,     0.22865,     0.22802,     0.22739,     0.22676,     0.22614,     0.22551,     0.22488,     0.22425,     0.22362,       0.223,     0.22237,     0.22174,\n",
              "            0.22111,     0.22048,     0.21986,     0.21923,      0.2186,     0.21797,     0.21734,     0.21672,     0.21609,     0.21546,     0.21483,      0.2142,     0.21358,     0.21295,     0.21232,     0.21169,     0.21106,     0.21043,     0.20981,     0.20918,     0.20855,      0.2074,     0.20598,\n",
              "            0.20455,     0.20313,     0.20171,     0.20028,     0.19886,     0.19744,     0.19601,     0.19459,     0.19317,     0.19174,     0.19032,     0.18889,     0.18747,     0.18605,     0.18462,      0.1832,     0.18178,     0.18035,     0.17893,     0.17751,     0.17608,     0.17466,     0.17323,\n",
              "            0.17181,     0.17039,     0.16896,     0.16754,     0.16366,      0.1559,     0.14813,     0.14037,      0.1326,     0.12494,     0.12209,     0.11925,      0.1164,     0.11355,      0.1107,     0.10786,     0.10501,     0.10216,    0.099315,    0.096467,     0.09362,    0.090773,    0.087925,\n",
              "           0.085078,    0.082546,    0.080512,    0.078478,    0.076445,    0.074411,    0.072377,    0.070343,    0.068309,    0.066276,    0.064242,    0.062208,    0.060174,     0.05814,    0.056107,    0.054073,    0.052039,    0.050005,    0.047972,    0.045938,    0.043904,     0.04187,           0,\n",
              "                  0,           0,           0,           0,           0,           0,           0,           0,           0,           0,           0,           0,           0,           0,           0,           0,           0,           0,           0,           0,           0,           0,           0,\n",
              "                  0,           0,           0,           0,           0,           0,           0,           0,           0,           0,           0,           0,           0,           0,           0,           0,           0,           0,           0,           0,           0,           0,           0,\n",
              "                  0,           0,           0,           0,           0,           0,           0,           0,           0,           0,           0,           0,           0,           0,           0,           0,           0,           0,           0,           0,           0,           0,           0,\n",
              "                  0,           0,           0,           0,           0,           0,           0,           0,           0,           0,           0,           0,           0,           0,           0,           0,           0,           0,           0,           0,           0,           0,           0,\n",
              "                  0,           0,           0,           0,           0,           0,           0,           0,           0,           0,           0]]), 'Confidence', 'Recall']]\n",
              "fitness: 1.145015326737986\n",
              "keys: ['metrics/precision(B)', 'metrics/recall(B)', 'metrics/mAP50(B)', 'metrics/mAP50-95(B)', 'metrics/precision(M)', 'metrics/recall(M)', 'metrics/mAP50(M)', 'metrics/mAP50-95(M)']\n",
              "maps: array([     1.0783])\n",
              "names: {0: 'septin'}\n",
              "plot: True\n",
              "results_dict: {'metrics/precision(B)': 0.7608570843199819, 'metrics/recall(B)': 0.7955354500554735, 'metrics/mAP50(B)': 0.882575337152405, 'metrics/mAP50-95(B)': 0.6954692363299089, 'metrics/precision(M)': 0.7658601699738955, 'metrics/recall(M)': 0.7916666666666666, 'metrics/mAP50(M)': 0.863282820145602, 'metrics/mAP50-95(M)': 0.38278577590140783, 'fitness': 1.145015326737986}\n",
              "save_dir: PosixPath('runs/segment/train')\n",
              "seg: ultralytics.utils.metrics.Metric object\n",
              "speed: {'preprocess': 0.09065866470336914, 'inference': 2.909421920776367, 'loss': 0.0019073486328125, 'postprocess': 0.7834434509277344}\n",
              "task: 'segment'"
            ]
          },
          "metadata": {},
          "execution_count": 10
        }
      ]
    },
    {
      "cell_type": "markdown",
      "source": [
        "# Prediction on Multiple Images\n",
        "To perform predictions on multiple images, the user needs to provide the following inputs to the notebook:\n",
        "\n",
        "- Path to the **.pt file**: Specify the path to the trained YOLO model file (e.g., /content/Project_Septin/datasets/runs/detect/train/weights/best.pt).\n",
        "- Confidence threshold (**conf**): Define the confidence level for predictions (e.g., 0.25). Predictions with a confidence score below this threshold will be ignored.\n",
        "- Folder containing test images: Provide the path to the folder where the test images are stored.\n",
        "\n",
        "Once these inputs are provided, the notebook will process each image in the specified folder, apply the YOLO model for predictions, and output the results.\n",
        "\n",
        "Note: The cell visualizes a single segmentation result. To access all the output segmentations, please navigate manually to the results folder."
      ],
      "metadata": {
        "id": "Kf4EJ1b3QM2j"
      }
    },
    {
      "cell_type": "code",
      "source": [
        "image_shape = (patch_width, patch_height)\n",
        "\n",
        "path_to_test_folder = '/content/Project_Septin/test'  # @param {type:\"string\"}\n",
        "path_to_model = '/content/Project_Septin/datasets/runs/segment/train/weights/best.pt'  # @param {type:\"string\"}\n",
        "path_to_results_folder = '/content/Project_Septin/results'  # @param {type:\"string\"}\n",
        "resultsFolderName = trained_model_name\n",
        "confidence = 0.2  # @param{type:\"number\"}\n",
        "iou = 0.2  # @param{type:\"number\"}\n",
        "\n",
        "path_to_centers = path_to_results_folder + '/' + resultsFolderName + '/Centers'\n",
        "# Check if the output folder exists, if not, create it\n",
        "if not os.path.exists(path_to_centers):\n",
        "    os.makedirs(path_to_centers)\n",
        "\n",
        "# Load YOLO model\n",
        "model = YOLO(path_to_model)\n",
        "\n",
        "# Function to draw centers on a binary image\n",
        "def draw_centers_on_binary_image(boxes, image_shape):\n",
        "    binary_image = np.zeros(image_shape, dtype=np.uint8)\n",
        "    for box in boxes:\n",
        "        x_min, y_min, x_max, y_max = box.xyxy[0]\n",
        "        center_x = int((x_min + x_max) / 2)\n",
        "        center_y = int((y_min + y_max) / 2)\n",
        "        binary_image[center_y - 1:center_y + 2, center_x - 1:center_x + 2] = 1\n",
        "    return binary_image\n",
        "\n",
        "# Verify the folder path\n",
        "if not os.path.isdir(path_to_test_folder):\n",
        "    print(\"The specified folder does not exist.\")\n",
        "else:\n",
        "    print('Processing test images...')\n",
        "    for image_file in tqdm(os.listdir(path_to_test_folder), desc='Progress'):\n",
        "        if image_file.lower().endswith(('.png', '.jpg', '.jpeg')):  # Check if the file is an image\n",
        "            image_path = os.path.join(path_to_test_folder, image_file)\n",
        "\n",
        "            # YOLO prediction\n",
        "            results = model.predict(\n",
        "                [image_path],\n",
        "                conf=confidence,\n",
        "                iou=iou,\n",
        "                save=True,\n",
        "                project=path_to_results_folder,\n",
        "                name=resultsFolderName,\n",
        "                exist_ok=True,\n",
        "                show_conf=False,\n",
        "                show_labels=False,\n",
        "                save_crop=False,\n",
        "                show_boxes=False,\n",
        "                line_width=2\n",
        "            )\n",
        "\n",
        "            # Process the first result\n",
        "            result = results[0]\n",
        "            boxes = result.boxes  # Bounding box outputs\n",
        "\n",
        "            # Create a binary image with centers marked\n",
        "            binary_image = draw_centers_on_binary_image(boxes, image_shape)\n",
        "            binary_image_pil = Image.fromarray(binary_image * 255)  # Multiply by 255 for white centers\n",
        "            binary_image_pil.save(os.path.join(path_to_centers, f'centers_{image_file}.jpg'))\n",
        "\n",
        "            # Load the original image and detection result for visualization\n",
        "            original_image = Image.open(image_path)\n",
        "            detection_image_path = os.path.join(path_to_results_folder, resultsFolderName, image_file)\n",
        "            detection_image = Image.open(detection_image_path)\n",
        "\n",
        "            # Display raw image and detection result side by side\n",
        "            fig, axs = plt.subplots(1, 2, figsize=(12, 6))\n",
        "            axs[0].imshow(original_image)\n",
        "            axs[0].set_title(\"Original Image\")\n",
        "            axs[0].axis(\"off\")\n",
        "\n",
        "            axs[1].imshow(detection_image)\n",
        "            axs[1].set_title(\"Detection Results\")\n",
        "            axs[1].axis(\"off\")\n",
        "\n",
        "            plt.tight_layout()\n",
        "            plt.show()\n",
        "            #break  # Stop after displaying the first result\n",
        "\n",
        "print('*****************************************************************************************************')\n",
        "print('The prediction results are saved in ---> ', os.path.join(path_to_results_folder, resultsFolderName), '/')\n",
        "print('The center points are saved in ---> ', path_to_centers, '/')\n"
      ],
      "metadata": {
        "id": "C8M7Y-WXrVzm"
      },
      "execution_count": null,
      "outputs": []
    }
  ],
  "metadata": {
    "accelerator": "GPU",
    "colab": {
      "provenance": [],
      "machine_shape": "hm",
      "gpuType": "L4"
    },
    "kernelspec": {
      "display_name": "Python 3",
      "name": "python3"
    },
    "language_info": {
      "name": "python"
    }
  },
  "nbformat": 4,
  "nbformat_minor": 0
}